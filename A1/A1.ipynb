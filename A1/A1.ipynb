{
 "cells": [
  {
   "cell_type": "code",
   "execution_count": 1,
   "metadata": {},
   "outputs": [],
   "source": [
    "import tensorflow as tf\n",
    "import numpy as np\n",
    "import matplotlib.pyplot as plt\n",
    "import matplotlib.image as mpimg\n",
    "import pandas as pd\n",
    "import cv2\n",
    "import os\n",
    "import time\n",
    "from sklearn.model_selection import train_test_split\n",
    "from sklearn import svm\n",
    "from sklearn.svm import LinearSVC\n",
    "from sklearn.svm import SVC\n",
    "from sklearn import metrics\n",
    "from skimage.color import rgb2gray\n",
    "from skimage.feature import hog\n",
    "from skimage import data, exposure"
   ]
  },
  {
   "cell_type": "code",
   "execution_count": 17,
   "metadata": {},
   "outputs": [],
   "source": [
    "file_path = 'D:\\Admin\\Documents\\Year_4\\AMLS\\Assessment\\dataset_AMLS_20-21\\celeba\\img'\n",
    "def load_images(file_path):\n",
    "    sample_size = 5000\n",
    "    images = []\n",
    "    hogs = []\n",
    "    hogimg = []\n",
    "    mags = []\n",
    "    angles = []\n",
    "    counter = 0\n",
    "    for filename in os.listdir(file_path):\n",
    "        img = cv2.imread(os.path.join(file_path, filename))\n",
    "        if img is not None:\n",
    "            dim = (64,128)\n",
    "            scaled = cv2.resize(img, dim, interpolation=cv2.INTER_AREA)\n",
    "            gray = cv2.cvtColor(scaled, cv2.COLOR_BGR2GRAY)\n",
    "            gray = np.float32(gray)/255.0\n",
    "            images.append(gray)\n",
    "            feat, vis = hog(gray, visualize=True)\n",
    "            hogs.append(feat)\n",
    "            hogimg.append(vis)\n",
    "            gx = cv2.Sobel(gray, cv2.CV_32F, 1, 0, ksize=1)\n",
    "            gy = cv2.Sobel(gray, cv2.CV_32F, 0, 1, ksize=1)\n",
    "            mag, angle = cv2.cartToPolar(gx, gy, angleInDegrees=True)\n",
    "            mags.append(mag)\n",
    "            angles.append(angle)\n",
    "            counter += 1\n",
    "        if counter > sample_size - 1:\n",
    "            break\n",
    "    return images, mags, angles, hogs, hogimg\n",
    "images, mags, angles, hogs, hogimg = load_images(file_path)"
   ]
  },
  {
   "cell_type": "code",
   "execution_count": 18,
   "metadata": {},
   "outputs": [
    {
     "name": "stdout",
     "output_type": "stream",
     "text": [
      "0      -1\n",
      "1      -1\n",
      "2       1\n",
      "3      -1\n",
      "4      -1\n",
      "       ..\n",
      "4995    1\n",
      "4996    1\n",
      "4997    1\n",
      "4998    1\n",
      "4999    1\n",
      "Name: gender, Length: 5000, dtype: int64\n"
     ]
    }
   ],
   "source": [
    "label_data = pd.read_csv(r'D:\\Admin\\Documents\\Year_4\\AMLS\\Assessment\\dataset_AMLS_20-21\\celeba\\labels.csv')\n",
    "gender_label = pd.DataFrame(label_data)\n",
    "gender_label = gender_label[gender_label.columns[2]]\n",
    "gender_label = gender_label[:5000]\n",
    "print(gender_label)"
   ]
  },
  {
   "cell_type": "code",
   "execution_count": 19,
   "metadata": {},
   "outputs": [
    {
     "name": "stdout",
     "output_type": "stream",
     "text": [
      "[[0.9137255  0.9137255  0.9137255  ... 0.60784316 0.8862745  0.9372549 ]\n",
      " [0.9137255  0.9137255  0.9137255  ... 0.64705884 0.9098039  0.94509804]\n",
      " [0.9137255  0.9137255  0.9137255  ... 0.6784314  0.91764706 0.94509804]\n",
      " ...\n",
      " [0.46666667 0.34509805 0.32941177 ... 0.25490198 0.22745098 0.19607843]\n",
      " [0.3372549  0.45490196 0.3882353  ... 0.2627451  0.2627451  0.26666668]\n",
      " [0.49019608 0.6313726  0.28627452 ... 0.2784314  0.2627451  0.26666668]]\n"
     ]
    }
   ],
   "source": [
    "print(images[0])"
   ]
  },
  {
   "cell_type": "code",
   "execution_count": 20,
   "metadata": {},
   "outputs": [
    {
     "name": "stdout",
     "output_type": "stream",
     "text": [
      "[[0.         0.         0.         ... 0.517647   0.32941175 0.        ]\n",
      " [0.         0.         0.         ... 0.49525234 0.29968584 0.00784314]\n",
      " [0.         0.         0.         ... 0.4558813  0.26738656 0.00392157]\n",
      " ...\n",
      " [0.17647061 0.13814835 0.16381647 ... 0.09180158 0.10441983 0.07058825]\n",
      " [0.02352941 0.29077843 0.2546605  ... 0.02480218 0.03551133 0.07058825]\n",
      " [0.         0.20392156 0.41960788 ... 0.01568627 0.01176471 0.        ]]\n"
     ]
    }
   ],
   "source": [
    "print(mags[0])"
   ]
  },
  {
   "cell_type": "code",
   "execution_count": 21,
   "metadata": {},
   "outputs": [
    {
     "name": "stdout",
     "output_type": "stream",
     "text": [
      "[[  0.          0.          0.        ...   0.          0.\n",
      "    0.       ]\n",
      " [  0.          0.          0.        ...   8.19365     6.008198\n",
      "   90.       ]\n",
      " [  0.          0.          0.        ...   8.408336    4.2046294\n",
      "  270.       ]\n",
      " ...\n",
      " [270.        173.48099   137.90228   ... 109.98735   124.27966\n",
      "   90.       ]\n",
      " [ 90.         79.90265   189.75217   ... 108.438675   83.660614\n",
      "   90.       ]\n",
      " [  0.        180.        180.        ... 180.        180.\n",
      "    0.       ]]\n"
     ]
    }
   ],
   "source": [
    "print(angles[0])"
   ]
  },
  {
   "cell_type": "code",
   "execution_count": 22,
   "metadata": {},
   "outputs": [
    {
     "name": "stdout",
     "output_type": "stream",
     "text": [
      "[[0.00000000e+00 0.00000000e+00 0.00000000e+00 ... 0.00000000e+00\n",
      "  0.00000000e+00 0.00000000e+00]\n",
      " [0.00000000e+00 0.00000000e+00 0.00000000e+00 ... 2.24164892e-02\n",
      "  0.00000000e+00 0.00000000e+00]\n",
      " [0.00000000e+00 8.66552364e-05 0.00000000e+00 ... 0.00000000e+00\n",
      "  1.32602511e-03 0.00000000e+00]\n",
      " ...\n",
      " [0.00000000e+00 2.44993903e-02 0.00000000e+00 ... 0.00000000e+00\n",
      "  4.77337353e-02 0.00000000e+00]\n",
      " [0.00000000e+00 0.00000000e+00 5.45183495e-02 ... 1.02060242e-02\n",
      "  0.00000000e+00 0.00000000e+00]\n",
      " [0.00000000e+00 0.00000000e+00 0.00000000e+00 ... 0.00000000e+00\n",
      "  0.00000000e+00 0.00000000e+00]]\n"
     ]
    }
   ],
   "source": [
    "print(hogimg[0])"
   ]
  },
  {
   "cell_type": "code",
   "execution_count": 23,
   "metadata": {},
   "outputs": [
    {
     "name": "stdout",
     "output_type": "stream",
     "text": [
      "[0.27804317 0.00665411 0.00841685 ... 0.15794688 0.00447381 0.        ]\n",
      "3260    1\n",
      "4170    1\n",
      "952     1\n",
      "1501   -1\n",
      "3264    1\n",
      "       ..\n",
      "4982    1\n",
      "4121    1\n",
      "1858    1\n",
      "3503    1\n",
      "2992   -1\n",
      "Name: gender, Length: 3750, dtype: int64\n"
     ]
    }
   ],
   "source": [
    "x_train, x_test, y_train, y_test = train_test_split(hogs,gender_label, test_size=0.25)\n",
    "print(x_train[0])\n",
    "print(y_train)"
   ]
  },
  {
   "cell_type": "code",
   "execution_count": 26,
   "metadata": {},
   "outputs": [
    {
     "data": {
      "text/plain": [
       "LinearSVC(max_iter=3000)"
      ]
     },
     "execution_count": 26,
     "metadata": {},
     "output_type": "execute_result"
    }
   ],
   "source": [
    "classifier = LinearSVC(max_iter=3000)\n",
    "classifier.fit(x_train, y_train)"
   ]
  },
  {
   "cell_type": "code",
   "execution_count": 27,
   "metadata": {},
   "outputs": [
    {
     "name": "stdout",
     "output_type": "stream",
     "text": [
      "0.4992\n"
     ]
    }
   ],
   "source": [
    "y_pred = classifier.predict(x_test)\n",
    "accuracy = metrics.accuracy_score(y_test,y_pred=y_pred)\n",
    "print(accuracy)"
   ]
  },
  {
   "cell_type": "code",
   "execution_count": null,
   "metadata": {},
   "outputs": [],
   "source": []
  }
 ],
 "metadata": {
  "kernelspec": {
   "display_name": "Python 3",
   "language": "python",
   "name": "python3"
  },
  "language_info": {
   "codemirror_mode": {
    "name": "ipython",
    "version": 3
   },
   "file_extension": ".py",
   "mimetype": "text/x-python",
   "name": "python",
   "nbconvert_exporter": "python",
   "pygments_lexer": "ipython3",
   "version": "3.6.12"
  }
 },
 "nbformat": 4,
 "nbformat_minor": 4
}
