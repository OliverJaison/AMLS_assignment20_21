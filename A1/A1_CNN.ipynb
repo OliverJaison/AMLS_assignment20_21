{
 "cells": [
  {
   "cell_type": "code",
   "execution_count": 1,
   "metadata": {},
   "outputs": [
    {
     "name": "stderr",
     "output_type": "stream",
     "text": [
      "Using TensorFlow backend.\n"
     ]
    }
   ],
   "source": [
    "import numpy as np\n",
    "import keras\n",
    "import cv2\n",
    "import pandas as pd\n",
    "import tensorflow as tf\n",
    "from keras import backend as K\n",
    "from keras.models import Sequential\n",
    "from keras.layers import Activation\n",
    "from keras.layers import Dropout\n",
    "from keras.layers import InputLayer\n",
    "from keras.layers.core import Dense, Flatten\n",
    "from keras.optimizers import Adam\n",
    "from keras.metrics import categorical_crossentropy\n",
    "from keras.preprocessing import image\n",
    "from keras.preprocessing.image import ImageDataGenerator\n",
    "from keras.layers.normalization import BatchNormalization\n",
    "from keras.layers.convolutional import *\n",
    "from matplotlib import pyplot as plt\n",
    "from sklearn.metrics import confusion_matrix\n",
    "from sklearn.preprocessing import LabelBinarizer\n",
    "from sklearn.preprocessing import OneHotEncoder\n",
    "import itertools\n",
    "import matplotlib.pyplot as plt\n",
    "import os\n",
    "%matplotlib inline"
   ]
  },
  {
   "cell_type": "code",
   "execution_count": 2,
   "metadata": {},
   "outputs": [],
   "source": [
    "file_path = 'D:\\Admin\\Documents\\Year_4\\AMLS\\Assessment\\dataset_AMLS_20-21\\celeba\\img'\n",
    "labels_path = 'D:\\Admin\\Documents\\Year_4\\AMLS\\Assessment\\dataset_AMLS_20-21\\celeba\\labels.csv'"
   ]
  },
  {
   "cell_type": "code",
   "execution_count": 3,
   "metadata": {},
   "outputs": [
    {
     "name": "stdout",
     "output_type": "stream",
     "text": [
      "Found 4000 validated image filenames.\n"
     ]
    }
   ],
   "source": [
    "dftr = pd.read_csv(labels_path, skiprows=lambda x: x in range(1,5000,5))\n",
    "dftr[\"smiling\"] = dftr[\"smiling\"].replace(to_replace=[-1], value=['Frown'])\n",
    "dftr[\"smiling\"] = dftr[\"smiling\"].replace(to_replace=[1], value=['Smile'])\n",
    "dftr[\"gender\"] = dftr[\"gender\"].replace(to_replace=[-1], value=['Female'])\n",
    "dftr[\"gender\"] = dftr[\"gender\"].replace(to_replace=[1], value=['Male'])\n",
    "one_hot_s = pd.get_dummies(dftr[\"smiling\"])\n",
    "one_hot_g = pd.get_dummies(dftr[\"gender\"])\n",
    "dftr = dftr.drop(columns=[\"gender\", \"smiling\"])\n",
    "dftr = dftr.join(one_hot_g)\n",
    "dftr = dftr.join(one_hot_s)\n",
    "datagen = ImageDataGenerator(rescale=1./255)\n",
    "train_generator = datagen.flow_from_dataframe(\n",
    "    dataframe=dftr, \n",
    "    directory=file_path,\n",
    "    x_col=\"img_name\", \n",
    "    y_col=[\"Male\", \"Female\"], \n",
    "    class_mode=\"raw\", \n",
    "    target_size=(55,45), \n",
    "    batch_size=100, \n",
    "    color_mode='grayscale', \n",
    "    interpolation='bicubic')"
   ]
  },
  {
   "cell_type": "code",
   "execution_count": 4,
   "metadata": {},
   "outputs": [
    {
     "name": "stdout",
     "output_type": "stream",
     "text": [
      "Found 999 validated image filenames.\n"
     ]
    }
   ],
   "source": [
    "dfv = pd.read_csv(labels_path, skiprows=lambda x: x not in range(0,5000,5))\n",
    "dfv[\"smiling\"] = dfv[\"smiling\"].replace(to_replace=[-1], value=['Frown'])\n",
    "dfv[\"smiling\"] = dfv[\"smiling\"].replace(to_replace=[1], value=['Smile'])\n",
    "dfv[\"gender\"] = dfv[\"gender\"].replace(to_replace=[-1], value=['Female'])\n",
    "dfv[\"gender\"] = dfv[\"gender\"].replace(to_replace=[1], value=['Male'])\n",
    "one_hot_s = pd.get_dummies(dfv[\"smiling\"])\n",
    "one_hot_g = pd.get_dummies(dfv[\"gender\"])\n",
    "dfv = dfv.drop(columns=[\"gender\", \"smiling\"])\n",
    "dfv = dfv.join(one_hot_g)\n",
    "dfv = dfv.join(one_hot_s)\n",
    "datagen = ImageDataGenerator(rescale=1./255)\n",
    "test_generator = datagen.flow_from_dataframe(\n",
    "    dataframe=dfv, \n",
    "    directory=file_path,\n",
    "    x_col=\"img_name\", \n",
    "    y_col=[\"Male\", \"Female\"], \n",
    "    class_mode=\"raw\", \n",
    "    target_size=(55,45), \n",
    "    batch_size=100, \n",
    "    color_mode='grayscale', \n",
    "    interpolation='bicubic')"
   ]
  },
  {
   "cell_type": "code",
   "execution_count": 5,
   "metadata": {},
   "outputs": [],
   "source": [
    "model = Sequential()\n",
    "model.add(InputLayer(input_shape=(55,45,1)))\n",
    "model.add(Conv2D(filters=96, kernel_size=(4,4), strides=4, activation=\"relu\", padding=\"same\"))\n",
    "model.add(MaxPooling2D(pool_size=(2,2)))\n",
    "model.add(BatchNormalization())\n",
    "model.add(Conv2D(filters=256, kernel_size=(3,3), strides=1, activation=\"relu\", padding=\"same\"))\n",
    "model.add(MaxPooling2D(pool_size=(2,2)))\n",
    "model.add(BatchNormalization())\n",
    "model.add(Conv2D(filters=256, kernel_size=(2,2), activation=\"relu\", strides=1, padding=\"same\"))\n",
    "model.add(Flatten())\n",
    "model.add(Dense(units=512, activation=\"relu\"))\n",
    "model.add(Dropout(0.2))\n",
    "model.add(Dense(units=512, activation=\"relu\"))\n",
    "model.add(Dropout(0.2))\n",
    "model.add(Dense(2, activation=\"softmax\"))"
   ]
  },
  {
   "cell_type": "code",
   "execution_count": 6,
   "metadata": {},
   "outputs": [],
   "source": [
    "model.compile(Adam(lr=0.0001), loss='binary_crossentropy', metrics=['accuracy'])"
   ]
  },
  {
   "cell_type": "code",
   "execution_count": 7,
   "metadata": {},
   "outputs": [],
   "source": [
    "train_steps = train_generator.n//train_generator.batch_size\n",
    "test_steps = test_generator.n//test_generator.batch_size"
   ]
  },
  {
   "cell_type": "code",
   "execution_count": 8,
   "metadata": {},
   "outputs": [
    {
     "name": "stdout",
     "output_type": "stream",
     "text": [
      "Epoch 1/20\n",
      "40/40 [==============================] - 8s 199ms/step - loss: 0.6025 - accuracy: 0.6618 - val_loss: 0.6892 - val_accuracy: 0.7133\n",
      "Epoch 2/20\n",
      "40/40 [==============================] - 8s 210ms/step - loss: 0.4397 - accuracy: 0.8092 - val_loss: 0.6840 - val_accuracy: 0.7308\n",
      "Epoch 3/20\n",
      "40/40 [==============================] - 8s 195ms/step - loss: 0.3408 - accuracy: 0.8547 - val_loss: 0.6605 - val_accuracy: 0.5328\n",
      "Epoch 4/20\n",
      "40/40 [==============================] - 8s 202ms/step - loss: 0.2503 - accuracy: 0.9015 - val_loss: 0.6509 - val_accuracy: 0.8198\n",
      "Epoch 5/20\n",
      "40/40 [==============================] - 8s 206ms/step - loss: 0.1703 - accuracy: 0.9392 - val_loss: 0.6689 - val_accuracy: 0.4661\n",
      "Epoch 6/20\n",
      "40/40 [==============================] - 9s 215ms/step - loss: 0.1092 - accuracy: 0.9632 - val_loss: 0.5586 - val_accuracy: 0.6930\n",
      "Epoch 7/20\n",
      "40/40 [==============================] - 8s 202ms/step - loss: 0.0768 - accuracy: 0.9747 - val_loss: 0.4837 - val_accuracy: 0.8532\n",
      "Epoch 8/20\n",
      "40/40 [==============================] - 8s 196ms/step - loss: 0.0403 - accuracy: 0.9927 - val_loss: 0.5376 - val_accuracy: 0.6529\n",
      "Epoch 9/20\n",
      "40/40 [==============================] - 8s 198ms/step - loss: 0.0268 - accuracy: 0.9942 - val_loss: 0.2984 - val_accuracy: 0.8966\n",
      "Epoch 10/20\n",
      "40/40 [==============================] - 8s 203ms/step - loss: 0.0212 - accuracy: 0.9955 - val_loss: 0.2995 - val_accuracy: 0.9099\n",
      "Epoch 11/20\n",
      "40/40 [==============================] - 8s 192ms/step - loss: 0.0092 - accuracy: 0.9995 - val_loss: 0.6034 - val_accuracy: 0.7433\n",
      "Epoch 12/20\n",
      "40/40 [==============================] - 8s 205ms/step - loss: 0.0087 - accuracy: 0.9985 - val_loss: 0.2689 - val_accuracy: 0.8788\n",
      "Epoch 13/20\n",
      "40/40 [==============================] - 8s 190ms/step - loss: 0.0051 - accuracy: 0.9998 - val_loss: 0.1006 - val_accuracy: 0.9422\n",
      "Epoch 14/20\n",
      "40/40 [==============================] - 8s 198ms/step - loss: 0.0031 - accuracy: 1.0000 - val_loss: 0.0992 - val_accuracy: 0.9588\n",
      "Epoch 15/20\n",
      "40/40 [==============================] - 8s 196ms/step - loss: 0.0026 - accuracy: 1.0000 - val_loss: 0.0542 - val_accuracy: 0.9811\n",
      "Epoch 16/20\n",
      "40/40 [==============================] - 8s 191ms/step - loss: 0.0018 - accuracy: 1.0000 - val_loss: 0.0910 - val_accuracy: 0.9900\n",
      "Epoch 17/20\n",
      "40/40 [==============================] - 8s 192ms/step - loss: 0.0016 - accuracy: 1.0000 - val_loss: 0.0104 - val_accuracy: 1.0000\n",
      "Epoch 18/20\n",
      "40/40 [==============================] - 8s 188ms/step - loss: 0.0012 - accuracy: 1.0000 - val_loss: 0.0034 - val_accuracy: 1.0000\n",
      "Epoch 19/20\n",
      "40/40 [==============================] - 7s 186ms/step - loss: 0.0010 - accuracy: 1.0000 - val_loss: 0.0012 - val_accuracy: 1.0000\n",
      "Epoch 20/20\n",
      "40/40 [==============================] - 7s 187ms/step - loss: 8.0692e-04 - accuracy: 1.0000 - val_loss: 3.5517e-04 - val_accuracy: 1.0000\n"
     ]
    },
    {
     "data": {
      "text/plain": [
       "<keras.callbacks.callbacks.History at 0x20cfbfb4160>"
      ]
     },
     "execution_count": 8,
     "metadata": {},
     "output_type": "execute_result"
    }
   ],
   "source": [
    "model.fit_generator(generator=train_generator, \n",
    "                    steps_per_epoch=train_steps,\n",
    "                    validation_data=test_generator,\n",
    "                    validation_steps=test_steps,\n",
    "                    epochs=20)"
   ]
  },
  {
   "cell_type": "code",
   "execution_count": null,
   "metadata": {},
   "outputs": [],
   "source": []
  }
 ],
 "metadata": {
  "kernelspec": {
   "display_name": "Python 3",
   "language": "python",
   "name": "python3"
  },
  "language_info": {
   "codemirror_mode": {
    "name": "ipython",
    "version": 3
   },
   "file_extension": ".py",
   "mimetype": "text/x-python",
   "name": "python",
   "nbconvert_exporter": "python",
   "pygments_lexer": "ipython3",
   "version": "3.6.12"
  }
 },
 "nbformat": 4,
 "nbformat_minor": 4
}
