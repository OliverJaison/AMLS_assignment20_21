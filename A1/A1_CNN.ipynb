{
 "cells": [
  {
   "cell_type": "code",
   "execution_count": 9,
   "metadata": {},
   "outputs": [],
   "source": [
    "import numpy as np\n",
    "import keras\n",
    "import cv2\n",
    "import pandas as pd\n",
    "import tensorflow as tf\n",
    "from keras import backend as K\n",
    "from keras.models import Sequential\n",
    "from keras.layers import Activation\n",
    "from keras.layers import Dropout\n",
    "from keras.layers import InputLayer\n",
    "from keras.layers.core import Dense, Flatten\n",
    "from keras.optimizers import Adam\n",
    "from keras.metrics import categorical_crossentropy\n",
    "from keras.preprocessing import image\n",
    "from keras.preprocessing.image import ImageDataGenerator\n",
    "from keras.layers.normalization import BatchNormalization\n",
    "from keras.layers.convolutional import *\n",
    "from matplotlib import pyplot as plt\n",
    "from sklearn.metrics import confusion_matrix\n",
    "from sklearn.preprocessing import LabelBinarizer\n",
    "from sklearn.preprocessing import OneHotEncoder\n",
    "import itertools\n",
    "import matplotlib.pyplot as plt\n",
    "import os\n",
    "%matplotlib inline"
   ]
  },
  {
   "cell_type": "code",
   "execution_count": 10,
   "metadata": {},
   "outputs": [],
   "source": [
    "file_path = 'D:\\Admin\\Documents\\Year_4\\AMLS\\Assessment\\dataset_AMLS_20-21\\celeba\\img'\n",
    "labels_path = 'D:\\Admin\\Documents\\Year_4\\AMLS\\Assessment\\dataset_AMLS_20-21\\celeba\\labels.csv'"
   ]
  },
  {
   "cell_type": "code",
   "execution_count": 11,
   "metadata": {},
   "outputs": [],
   "source": [
    "df = pd.read_csv(labels_path)\n",
    "\n",
    "df[\"smiling\"] = df[\"smiling\"].replace(to_replace=[-1], value=['Frown'])\n",
    "df[\"smiling\"] = df[\"smiling\"].replace(to_replace=[1], value=['Smile'])\n",
    "df[\"gender\"] = df[\"gender\"].replace(to_replace=[-1], value=['Female'])\n",
    "df[\"gender\"] = df[\"gender\"].replace(to_replace=[1], value=['Male'])\n",
    "\n",
    "one_hot_s = pd.get_dummies(df[\"smiling\"])\n",
    "one_hot_g = pd.get_dummies(df[\"gender\"])\n",
    "df = df.drop(columns=[\"gender\", \"smiling\"])\n",
    "df = df.join(one_hot_g)\n",
    "df = df.join(one_hot_s)"
   ]
  },
  {
   "cell_type": "code",
   "execution_count": 12,
   "metadata": {},
   "outputs": [],
   "source": [
    "train, validation, test = \\\n",
    "              np.split(df.sample(frac=1), \n",
    "                       [int(.6*len(df)), int(.8*len(df))])"
   ]
  },
  {
   "cell_type": "code",
   "execution_count": 13,
   "metadata": {},
   "outputs": [
    {
     "name": "stdout",
     "output_type": "stream",
     "text": [
      "Found 3000 validated image filenames.\n",
      "Found 1000 validated image filenames.\n",
      "Found 1000 validated image filenames.\n"
     ]
    }
   ],
   "source": [
    "datagen = ImageDataGenerator(rescale=1./255)\n",
    "\n",
    "train_generator = datagen.flow_from_dataframe(dataframe=train, \n",
    "                                              directory=file_path, \n",
    "                                              x_col=\"img_name\", \n",
    "                                              y_col=[\"Female\", \"Male\"], \n",
    "                                              class_mode=\"raw\", \n",
    "                                              target_size=(55,45), \n",
    "                                              batch_size=30, \n",
    "                                              color_mode='grayscale', \n",
    "                                              interpolation='bicubic')\n",
    "\n",
    "validation_generator = datagen.flow_from_dataframe(dataframe=validation, \n",
    "                                              directory=file_path, \n",
    "                                              x_col=\"img_name\", \n",
    "                                              y_col=[\"Female\", \"Male\"], \n",
    "                                              class_mode=\"raw\", \n",
    "                                              target_size=(55,45), \n",
    "                                              batch_size=10, \n",
    "                                              color_mode='grayscale', \n",
    "                                              interpolation='bicubic')\n",
    "\n",
    "test_generator = datagen.flow_from_dataframe(dataframe=test, \n",
    "                                              directory=file_path, \n",
    "                                              x_col=\"img_name\", \n",
    "                                              y_col=[\"Female\", \"Male\"], \n",
    "                                              class_mode=\"raw\", \n",
    "                                              target_size=(55,45), \n",
    "                                              batch_size=10, \n",
    "                                              color_mode='grayscale', \n",
    "                                              interpolation='bicubic')"
   ]
  },
  {
   "cell_type": "code",
   "execution_count": 14,
   "metadata": {},
   "outputs": [],
   "source": [
    "model = Sequential()\n",
    "model.add(InputLayer(input_shape=(55,45,1)))\n",
    "model.add(Conv2D(filters=96, kernel_size=(4,4), strides=4, activation=\"relu\", padding=\"same\"))\n",
    "model.add(MaxPooling2D(pool_size=(2,2)))\n",
    "model.add(BatchNormalization())\n",
    "model.add(Conv2D(filters=256, kernel_size=(3,3), strides=1, activation=\"relu\", padding=\"same\"))\n",
    "model.add(MaxPooling2D(pool_size=(2,2)))\n",
    "model.add(BatchNormalization())\n",
    "model.add(Conv2D(filters=256, kernel_size=(2,2), activation=\"relu\", strides=1, padding=\"same\"))\n",
    "model.add(Flatten())\n",
    "model.add(Dense(units=512, activation=\"relu\"))\n",
    "model.add(Dropout(0.2))\n",
    "model.add(Dense(units=512, activation=\"relu\"))\n",
    "model.add(Dropout(0.2))\n",
    "model.add(Dense(2, activation=\"softmax\"))"
   ]
  },
  {
   "cell_type": "code",
   "execution_count": 15,
   "metadata": {},
   "outputs": [
    {
     "name": "stdout",
     "output_type": "stream",
     "text": [
      "Model: \"sequential_2\"\n",
      "_________________________________________________________________\n",
      "Layer (type)                 Output Shape              Param #   \n",
      "=================================================================\n",
      "conv2d_4 (Conv2D)            (None, 14, 12, 96)        1632      \n",
      "_________________________________________________________________\n",
      "max_pooling2d_3 (MaxPooling2 (None, 7, 6, 96)          0         \n",
      "_________________________________________________________________\n",
      "batch_normalization_3 (Batch (None, 7, 6, 96)          384       \n",
      "_________________________________________________________________\n",
      "conv2d_5 (Conv2D)            (None, 7, 6, 256)         221440    \n",
      "_________________________________________________________________\n",
      "max_pooling2d_4 (MaxPooling2 (None, 3, 3, 256)         0         \n",
      "_________________________________________________________________\n",
      "batch_normalization_4 (Batch (None, 3, 3, 256)         1024      \n",
      "_________________________________________________________________\n",
      "conv2d_6 (Conv2D)            (None, 3, 3, 256)         262400    \n",
      "_________________________________________________________________\n",
      "flatten_2 (Flatten)          (None, 2304)              0         \n",
      "_________________________________________________________________\n",
      "dense_4 (Dense)              (None, 512)               1180160   \n",
      "_________________________________________________________________\n",
      "dropout_3 (Dropout)          (None, 512)               0         \n",
      "_________________________________________________________________\n",
      "dense_5 (Dense)              (None, 512)               262656    \n",
      "_________________________________________________________________\n",
      "dropout_4 (Dropout)          (None, 512)               0         \n",
      "_________________________________________________________________\n",
      "dense_6 (Dense)              (None, 2)                 1026      \n",
      "=================================================================\n",
      "Total params: 1,930,722\n",
      "Trainable params: 1,930,018\n",
      "Non-trainable params: 704\n",
      "_________________________________________________________________\n"
     ]
    }
   ],
   "source": [
    "model.summary()"
   ]
  },
  {
   "cell_type": "code",
   "execution_count": 22,
   "metadata": {},
   "outputs": [],
   "source": [
    "model.compile(Adam(lr=0.0001), loss='binary_crossentropy', metrics=['accuracy'])"
   ]
  },
  {
   "cell_type": "code",
   "execution_count": 23,
   "metadata": {},
   "outputs": [],
   "source": [
    "train_steps = train_generator.n//train_generator.batch_size\n",
    "validation_steps = validation_generator.n//validation_generator.batch_size"
   ]
  },
  {
   "cell_type": "code",
   "execution_count": 24,
   "metadata": {},
   "outputs": [
    {
     "name": "stdout",
     "output_type": "stream",
     "text": [
      "Epoch 1/15\n",
      "100/100 [==============================] - 38s 384ms/step - loss: 0.0249 - accuracy: 0.9900 - val_loss: 0.0512 - val_accuracy: 0.8530\n",
      "Epoch 2/15\n",
      "100/100 [==============================] - 8s 76ms/step - loss: 0.0326 - accuracy: 0.9887 - val_loss: 0.1598 - val_accuracy: 0.8710\n",
      "Epoch 3/15\n",
      "100/100 [==============================] - 8s 77ms/step - loss: 0.0178 - accuracy: 0.9937 - val_loss: 1.1572 - val_accuracy: 0.8280\n",
      "Epoch 4/15\n",
      "100/100 [==============================] - 8s 78ms/step - loss: 0.0321 - accuracy: 0.9880 - val_loss: 1.5380 - val_accuracy: 0.8480\n",
      "Epoch 5/15\n",
      "100/100 [==============================] - 8s 79ms/step - loss: 0.0242 - accuracy: 0.9923 - val_loss: 0.4288 - val_accuracy: 0.8360\n",
      "Epoch 6/15\n",
      "100/100 [==============================] - 8s 77ms/step - loss: 0.0106 - accuracy: 0.9970 - val_loss: 0.0653 - val_accuracy: 0.8500\n",
      "Epoch 7/15\n",
      "100/100 [==============================] - 8s 75ms/step - loss: 0.0100 - accuracy: 0.9973 - val_loss: 8.9116e-04 - val_accuracy: 0.8560\n",
      "Epoch 8/15\n",
      "100/100 [==============================] - 8s 77ms/step - loss: 0.0052 - accuracy: 0.9987 - val_loss: 1.0870 - val_accuracy: 0.8490\n",
      "Epoch 9/15\n",
      "100/100 [==============================] - 8s 77ms/step - loss: 0.0125 - accuracy: 0.9957 - val_loss: 0.9542 - val_accuracy: 0.8470\n",
      "Epoch 10/15\n",
      "100/100 [==============================] - 8s 80ms/step - loss: 0.0058 - accuracy: 0.9987 - val_loss: 0.2264 - val_accuracy: 0.8750\n",
      "Epoch 11/15\n",
      "100/100 [==============================] - 8s 81ms/step - loss: 4.3384e-04 - accuracy: 1.0000 - val_loss: 2.3604e-06 - val_accuracy: 0.8670\n",
      "Epoch 12/15\n",
      "100/100 [==============================] - 8s 77ms/step - loss: 3.4725e-04 - accuracy: 1.0000 - val_loss: 0.2246 - val_accuracy: 0.8650\n",
      "Epoch 13/15\n",
      "100/100 [==============================] - 8s 77ms/step - loss: 1.4462e-04 - accuracy: 1.0000 - val_loss: 0.3916 - val_accuracy: 0.8670\n",
      "Epoch 14/15\n",
      "100/100 [==============================] - 8s 77ms/step - loss: 1.0044e-04 - accuracy: 1.0000 - val_loss: 1.3447 - val_accuracy: 0.8660\n",
      "Epoch 15/15\n",
      "100/100 [==============================] - 8s 77ms/step - loss: 9.8036e-05 - accuracy: 1.0000 - val_loss: 1.2277 - val_accuracy: 0.8680\n"
     ]
    }
   ],
   "source": [
    "history = model.fit_generator(generator=train_generator, \n",
    "                    steps_per_epoch=train_steps,\n",
    "                    validation_data=validation_generator,\n",
    "                    validation_steps=validation_steps,\n",
    "                    epochs=15)"
   ]
  },
  {
   "cell_type": "code",
   "execution_count": 25,
   "metadata": {},
   "outputs": [
    {
     "name": "stdout",
     "output_type": "stream",
     "text": [
      "100/100 [==============================] - 16s 164ms/step\n"
     ]
    },
    {
     "data": {
      "text/plain": [
       "[0.02754760906100273, 0.8709999918937683]"
      ]
     },
     "execution_count": 25,
     "metadata": {},
     "output_type": "execute_result"
    }
   ],
   "source": [
    "model.evaluate(test_generator)"
   ]
  },
  {
   "cell_type": "code",
   "execution_count": 26,
   "metadata": {},
   "outputs": [
    {
     "data": {
      "image/png": "[encoded data removed]",
      "text/plain": [
       "<Figure size 432x288 with 1 Axes>"
      ]
     },
     "metadata": {
      "needs_background": "light"
     },
     "output_type": "display_data"
    }
   ],
   "source": [
    "epochs = range(1, len(history.epoch) + 1)\n",
    "plt.plot(epochs, history.history['loss'], label='Training Loss')\n",
    "plt.plot(epochs, history.history['accuracy'], label='Training Accuracy')\n",
    "plt.plot(epochs, history.history['val_loss'], label='Validation Loss')\n",
    "plt.plot(epochs, history.history['val_accuracy'], label='Validation Accuracy')\n",
    "plt.xlabel('Epochs')\n",
    "plt.ylabel('Loss/Accuracy')\n",
    "plt.legend()\n",
    "plt.show()"
   ]
  },
  {
   "cell_type": "code",
   "execution_count": null,
   "metadata": {},
   "outputs": [],
   "source": []
  }
 ],
 "metadata": {
  "kernelspec": {
   "display_name": "Python 3",
   "language": "python",
   "name": "python3"
  },
  "language_info": {
   "codemirror_mode": {
    "name": "ipython",
    "version": 3
   },
   "file_extension": ".py",
   "mimetype": "text/x-python",
   "name": "python",
   "nbconvert_exporter": "python",
   "pygments_lexer": "ipython3",
   "version": "3.6.12"
  }
 },
 "nbformat": 4,
 "nbformat_minor": 4
}
