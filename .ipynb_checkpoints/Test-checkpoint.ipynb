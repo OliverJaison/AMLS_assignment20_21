{
 "cells": [
  {
   "cell_type": "code",
   "execution_count": 2,
   "metadata": {},
   "outputs": [
    {
     "name": "stderr",
     "output_type": "stream",
     "text": [
      "Using TensorFlow backend.\n"
     ]
    }
   ],
   "source": [
    "import numpy as np\n",
    "import keras\n",
    "import cv2\n",
    "import pandas as pd\n",
    "from keras import backend as K\n",
    "from keras.models import Sequential\n",
    "from keras.layers import Activation\n",
    "from keras.layers import Dropout\n",
    "from keras.layers import InputLayer\n",
    "from keras.layers.core import Dense, Flatten\n",
    "from keras.optimizers import Adam\n",
    "from keras.metrics import categorical_crossentropy\n",
    "from keras.preprocessing import image\n",
    "from keras.preprocessing.image import ImageDataGenerator\n",
    "from keras.layers.normalization import BatchNormalization\n",
    "from keras.layers.convolutional import *\n",
    "from matplotlib import pyplot as plt\n",
    "from sklearn.metrics import confusion_matrix\n",
    "import itertools\n",
    "import matplotlib.pyplot as plt\n",
    "import os\n",
    "%matplotlib inline"
   ]
  },
  {
   "cell_type": "code",
   "execution_count": 3,
   "metadata": {},
   "outputs": [],
   "source": [
    "file_path = 'D:\\Admin\\Documents\\Year_4\\AMLS\\Assessment\\dataset_AMLS_20-21\\celeba\\img'\n",
    "labels_path = 'D:\\Admin\\Documents\\Year_4\\AMLS\\Assessment\\dataset_AMLS_20-21\\celeba\\labels.csv'"
   ]
  },
  {
   "cell_type": "code",
   "execution_count": 38,
   "metadata": {},
   "outputs": [
    {
     "name": "stdout",
     "output_type": "stream",
     "text": [
      "Found 4000 validated image filenames.\n"
     ]
    }
   ],
   "source": [
    "df = pd.read_csv(labels_path, skiprows=lambda x: x in range(1,5000,5))\n",
    "df[\"gender\"] = df[\"gender\"].replace(to_replace=[-1], value=[0])\n",
    "df[\"smiling\"] = df[\"smiling\"].replace(to_replace=[-1], value=[0])\n",
    "datagen = ImageDataGenerator(rescale=1./255)\n",
    "train_generator = datagen.flow_from_dataframe(\n",
    "    dataframe=df, \n",
    "    directory=file_path,\n",
    "    x_col=\"img_name\", \n",
    "    y_col=\"smiling\", \n",
    "    class_mode=\"raw\", \n",
    "    target_size=(55,45), \n",
    "    batch_size=100, \n",
    "    color_mode='grayscale', \n",
    "    interpolation='bicubic')"
   ]
  },
  {
   "cell_type": "code",
   "execution_count": 32,
   "metadata": {},
   "outputs": [
    {
     "name": "stdout",
     "output_type": "stream",
     "text": [
      "Found 999 validated image filenames.\n"
     ]
    }
   ],
   "source": [
    "df = pd.read_csv(labels_path, skiprows=lambda x: x not in range(0,5000,5))\n",
    "df[\"gender\"] = df[\"gender\"].replace(to_replace=[-1], value=[0])\n",
    "df[\"smiling\"] = df[\"smiling\"].replace(to_replace=[-1], value=[0])\n",
    "datagen = ImageDataGenerator(rescale=1./255)\n",
    "test_generator = datagen.flow_from_dataframe(\n",
    "    dataframe=df, \n",
    "    directory=file_path,\n",
    "    x_col=\"img_name\", \n",
    "    y_col=\"smiling\", \n",
    "    class_mode=\"raw\", \n",
    "    target_size=(55,45), \n",
    "    batch_size=100, \n",
    "    color_mode='grayscale', \n",
    "    interpolation='bicubic')"
   ]
  },
  {
   "cell_type": "code",
   "execution_count": 41,
   "metadata": {},
   "outputs": [
    {
     "data": {
      "text/plain": [
       "<matplotlib.image.AxesImage at 0x1e52bf9db38>"
      ]
     },
     "execution_count": 41,
     "metadata": {},
     "output_type": "execute_result"
    },
    {
     "data": {
      "image/png": "[encoded data removed]",
      "text/plain": [
       "<Figure size 432x288 with 1 Axes>"
      ]
     },
     "metadata": {
      "needs_background": "light"
     },
     "output_type": "display_data"
    }
   ],
   "source": [
    "imgs, labels = next(train_generator)\n",
    "plt.imshow(imgs[0])"
   ]
  },
  {
   "cell_type": "code",
   "execution_count": null,
   "metadata": {},
   "outputs": [],
   "source": [
    "model = Sequential()\n",
    "model.add(InputLayer(input_shape=(55,45,1)))\n",
    "model.add(Conv2D(filters=100, kernel_size=(2,2), activation='relu', strides=2))\n",
    "model.add(Conv2D(filters=100, kernel_size=(2,2), activation='relu', strides=2))\n",
    "model.add(MaxPooling2D(pool_size=(2, 2), strides=2))\n",
    "model.add(Dropout(0.25))\n",
    "model.add(Dense(256))\n",
    "model.add(Dense(128))\n",
    "model.add(Dropout(0.5))\n",
    "model.add(Dense(1, activation='softmax'))"
   ]
  },
  {
   "cell_type": "code",
   "execution_count": null,
   "metadata": {},
   "outputs": [],
   "source": [
    "model.summary()"
   ]
  },
  {
   "cell_type": "code",
   "execution_count": null,
   "metadata": {},
   "outputs": [],
   "source": [
    "model.compile(Adam(lr=0.0001), loss='binary_crossentropy', metrics=['accuracy'])"
   ]
  },
  {
   "cell_type": "code",
   "execution_count": null,
   "metadata": {},
   "outputs": [],
   "source": [
    "train_steps = train_generator.n//train_generator.batch_size\n",
    "test_steps = test_generator.n//test_generator.batch_size"
   ]
  },
  {
   "cell_type": "code",
   "execution_count": null,
   "metadata": {},
   "outputs": [],
   "source": [
    "model.fit_generator(generator=train_generator, \n",
    "                    steps_per_epoch=train_steps,\n",
    "                    validation_data=test_generator,\n",
    "                    validation_steps=test_steps,\n",
    "                    epochs=10)"
   ]
  },
  {
   "cell_type": "code",
   "execution_count": null,
   "metadata": {},
   "outputs": [],
   "source": []
  }
 ],
 "metadata": {
  "kernelspec": {
   "display_name": "Python 3",
   "language": "python",
   "name": "python3"
  },
  "language_info": {
   "codemirror_mode": {
    "name": "ipython",
    "version": 3
   },
   "file_extension": ".py",
   "mimetype": "text/x-python",
   "name": "python",
   "nbconvert_exporter": "python",
   "pygments_lexer": "ipython3",
   "version": "3.6.12"
  }
 },
 "nbformat": 4,
 "nbformat_minor": 4
}
