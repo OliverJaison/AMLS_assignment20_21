{
 "cells": [
  {
   "cell_type": "code",
   "execution_count": 16,
   "metadata": {},
   "outputs": [],
   "source": [
    "import numpy as np\n",
    "import keras\n",
    "import cv2\n",
    "import pandas as pd\n",
    "from keras import backend as K\n",
    "from keras.models import Sequential\n",
    "from keras.layers import Activation\n",
    "from keras.layers.core import Dense, Flatten\n",
    "from keras.optimizers import Adam\n",
    "from keras.metrics import categorical_crossentropy\n",
    "from keras.preprocessing import image\n",
    "from keras.preprocessing.image import ImageDataGenerator\n",
    "from keras.layers.normalization import BatchNormalization\n",
    "from keras.layers.convolutional import *\n",
    "from matplotlib import pyplot as plt\n",
    "from sklearn.metrics import confusion_matrix\n",
    "import itertools\n",
    "import matplotlib.pyplot as plt\n",
    "import os\n",
    "%matplotlib inline"
   ]
  },
  {
   "cell_type": "code",
   "execution_count": 34,
   "metadata": {},
   "outputs": [],
   "source": [
    "file_path = 'D:\\Admin\\Documents\\Year_4\\AMLS\\Assessment\\dataset_AMLS_20-21\\celeba\\img'\n",
    "labels_path = 'D:\\Admin\\Documents\\Year_4\\AMLS\\Assessment\\dataset_AMLS_20-21\\celeba\\labels.csv'"
   ]
  },
  {
   "cell_type": "code",
   "execution_count": 66,
   "metadata": {},
   "outputs": [
    {
     "name": "stdout",
     "output_type": "stream",
     "text": [
      "Found 4000 validated image filenames.\n"
     ]
    }
   ],
   "source": [
    "df = pd.read_csv(labels_path, skiprows=lambda x: x in range(1,5000,5))\n",
    "df[\"gender\"] = df[\"gender\"].replace(to_replace=[-1], value=[0])\n",
    "df[\"smiling\"] = df[\"smiling\"].replace(to_replace=[-1], value=[0])\n",
    "datagen = ImageDataGenerator(rescale=1./255)\n",
    "train_generator = datagen.flow_from_dataframe(\n",
    "    dataframe=df, \n",
    "    directory=file_path,\n",
    "    x_col=\"img_name\", \n",
    "    y_col=\"smiling\", \n",
    "    class_mode=\"raw\", \n",
    "    target_size=(55,45), \n",
    "    batch_size=100)"
   ]
  },
  {
   "cell_type": "code",
   "execution_count": 67,
   "metadata": {},
   "outputs": [
    {
     "name": "stdout",
     "output_type": "stream",
     "text": [
      "Found 999 validated image filenames.\n"
     ]
    }
   ],
   "source": [
    "df = pd.read_csv(labels_path, skiprows=lambda x: x not in range(0,5000,5))\n",
    "df[\"gender\"] = df[\"gender\"].replace(to_replace=[-1], value=[0])\n",
    "df[\"smiling\"] = df[\"smiling\"].replace(to_replace=[-1], value=[0])\n",
    "datagen = ImageDataGenerator(rescale=1./255)\n",
    "test_generator = datagen.flow_from_dataframe(\n",
    "    dataframe=df, \n",
    "    directory=file_path,\n",
    "    x_col=\"img_name\", \n",
    "    y_col=\"smiling\", \n",
    "    class_mode=\"raw\", \n",
    "    target_size=(55,45), \n",
    "    batch_size=100)"
   ]
  },
  {
   "cell_type": "code",
   "execution_count": 68,
   "metadata": {},
   "outputs": [],
   "source": [
    "model = Sequential([\n",
    "    Conv2D(32, (3,3), \n",
    "    activation='relu', \n",
    "    input_shape=(55,45,3)),\n",
    "    Flatten(),\n",
    "    Dense(1, activation='softmax')\n",
    "])"
   ]
  },
  {
   "cell_type": "code",
   "execution_count": 72,
   "metadata": {},
   "outputs": [],
   "source": [
    "model.compile(Adam(lr=0.0001), loss='binary_crossentropy', metrics=['accuracy'])"
   ]
  },
  {
   "cell_type": "code",
   "execution_count": 73,
   "metadata": {},
   "outputs": [],
   "source": [
    "train_steps = train_generator.n//train_generator.batch_size\n",
    "test_steps = test_generator.n//test_generator.batch_size"
   ]
  },
  {
   "cell_type": "code",
   "execution_count": 74,
   "metadata": {},
   "outputs": [
    {
     "name": "stdout",
     "output_type": "stream",
     "text": [
      "Epoch 1/10\n",
      "40/40 [==============================] - 38s 943ms/step - loss: 7.6781 - accuracy: 0.4992 - val_loss: 7.6246 - val_accuracy: 0.4844\n",
      "Epoch 2/10\n",
      "40/40 [==============================] - 5s 135ms/step - loss: 7.6781 - accuracy: 0.4992 - val_loss: 7.9296 - val_accuracy: 0.4850\n",
      "Epoch 3/10\n",
      "40/40 [==============================] - 5s 120ms/step - loss: 7.6781 - accuracy: 0.4992 - val_loss: 7.7771 - val_accuracy: 0.4850\n",
      "Epoch 4/10\n",
      "40/40 [==============================] - 5s 124ms/step - loss: 7.6781 - accuracy: 0.4992 - val_loss: 7.0146 - val_accuracy: 0.4894\n",
      "Epoch 5/10\n",
      "40/40 [==============================] - 5s 118ms/step - loss: 7.6781 - accuracy: 0.4992 - val_loss: 8.2346 - val_accuracy: 0.4783\n",
      "Epoch 6/10\n",
      "40/40 [==============================] - 5s 120ms/step - loss: 7.6781 - accuracy: 0.4992 - val_loss: 7.0146 - val_accuracy: 0.5117\n",
      "Epoch 7/10\n",
      "40/40 [==============================] - 5s 118ms/step - loss: 7.6781 - accuracy: 0.4992 - val_loss: 7.9296 - val_accuracy: 0.4561\n",
      "Epoch 8/10\n",
      "40/40 [==============================] - 5s 122ms/step - loss: 7.6781 - accuracy: 0.4992 - val_loss: 8.2346 - val_accuracy: 0.4950\n",
      "Epoch 9/10\n",
      "40/40 [==============================] - 5s 116ms/step - loss: 7.6781 - accuracy: 0.4992 - val_loss: 7.0146 - val_accuracy: 0.4994\n",
      "Epoch 10/10\n",
      "40/40 [==============================] - 5s 119ms/step - loss: 7.6781 - accuracy: 0.4992 - val_loss: 8.7799 - val_accuracy: 0.4805\n"
     ]
    },
    {
     "data": {
      "text/plain": [
       "<keras.callbacks.callbacks.History at 0x22956f50630>"
      ]
     },
     "execution_count": 74,
     "metadata": {},
     "output_type": "execute_result"
    }
   ],
   "source": [
    "model.fit_generator(generator=train_generator, \n",
    "                    steps_per_epoch=train_steps,\n",
    "                    validation_data=test_generator,\n",
    "                    validation_steps=test_steps,\n",
    "                    epochs=5)"
   ]
  },
  {
   "cell_type": "code",
   "execution_count": null,
   "metadata": {},
   "outputs": [],
   "source": []
  }
 ],
 "metadata": {
  "kernelspec": {
   "display_name": "Python 3",
   "language": "python",
   "name": "python3"
  },
  "language_info": {
   "codemirror_mode": {
    "name": "ipython",
    "version": 3
   },
   "file_extension": ".py",
   "mimetype": "text/x-python",
   "name": "python",
   "nbconvert_exporter": "python",
   "pygments_lexer": "ipython3",
   "version": "3.6.12"
  }
 },
 "nbformat": 4,
 "nbformat_minor": 4
}
