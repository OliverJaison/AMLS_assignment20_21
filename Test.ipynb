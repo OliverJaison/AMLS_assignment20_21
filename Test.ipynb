{
 "cells": [
  {
   "cell_type": "code",
   "execution_count": 1,
   "metadata": {},
   "outputs": [
    {
     "name": "stderr",
     "output_type": "stream",
     "text": [
      "Using TensorFlow backend.\n"
     ]
    }
   ],
   "source": [
    "import numpy as np\n",
    "import keras\n",
    "import cv2\n",
    "import pandas as pd\n",
    "import tensorflow as tf\n",
    "from keras import backend as K\n",
    "from keras.models import Sequential\n",
    "from keras.layers import Activation\n",
    "from keras.layers import Dropout\n",
    "from keras.layers import InputLayer\n",
    "from keras.layers.core import Dense, Flatten\n",
    "from keras.optimizers import Adam\n",
    "from keras.metrics import categorical_crossentropy\n",
    "from keras.preprocessing import image\n",
    "from keras.preprocessing.image import ImageDataGenerator\n",
    "from keras.layers.normalization import BatchNormalization\n",
    "from keras.layers.convolutional import *\n",
    "from matplotlib import pyplot as plt\n",
    "from sklearn.metrics import confusion_matrix\n",
    "from sklearn.preprocessing import LabelBinarizer\n",
    "from sklearn.preprocessing import OneHotEncoder\n",
    "import itertools\n",
    "import matplotlib.pyplot as plt\n",
    "import os\n",
    "%matplotlib inline"
   ]
  },
  {
   "cell_type": "code",
   "execution_count": 2,
   "metadata": {},
   "outputs": [],
   "source": [
    "file_path = 'D:\\Admin\\Documents\\Year_4\\AMLS\\Assessment\\dataset_AMLS_20-21\\celeba\\img'\n",
    "labels_path = 'D:\\Admin\\Documents\\Year_4\\AMLS\\Assessment\\dataset_AMLS_20-21\\celeba\\labels.csv'"
   ]
  },
  {
   "cell_type": "code",
   "execution_count": 3,
   "metadata": {},
   "outputs": [
    {
     "name": "stdout",
     "output_type": "stream",
     "text": [
      "Found 4000 validated image filenames.\n"
     ]
    }
   ],
   "source": [
    "dftr = pd.read_csv(labels_path, skiprows=lambda x: x in range(1,5000,5))\n",
    "dftr[\"smiling\"] = dftr[\"smiling\"].replace(to_replace=[-1], value=['Frown'])\n",
    "dftr[\"smiling\"] = dftr[\"smiling\"].replace(to_replace=[1], value=['Smile'])\n",
    "dftr[\"gender\"] = dftr[\"gender\"].replace(to_replace=[-1], value=['Female'])\n",
    "dftr[\"gender\"] = dftr[\"gender\"].replace(to_replace=[1], value=['Male'])\n",
    "one_hot_s = pd.get_dummies(dftr[\"smiling\"])\n",
    "one_hot_g = pd.get_dummies(dftr[\"gender\"])\n",
    "dftr = dftr.drop(columns=[\"gender\", \"smiling\"])\n",
    "dftr = dftr.join(one_hot_g)\n",
    "dftr = dftr.join(one_hot_s)\n",
    "datagen = ImageDataGenerator(rescale=1./255)\n",
    "train_generator = datagen.flow_from_dataframe(\n",
    "    dataframe=dftr, \n",
    "    directory=file_path,\n",
    "    x_col=\"img_name\", \n",
    "    y_col=[\"Male\", \"Female\"], \n",
    "    class_mode=\"raw\", \n",
    "    target_size=(55,45), \n",
    "    batch_size=100, \n",
    "    color_mode='grayscale', \n",
    "    interpolation='bicubic')"
   ]
  },
  {
   "cell_type": "code",
   "execution_count": 4,
   "metadata": {},
   "outputs": [
    {
     "name": "stdout",
     "output_type": "stream",
     "text": [
      "Found 999 validated image filenames.\n"
     ]
    }
   ],
   "source": [
    "dfv = pd.read_csv(labels_path, skiprows=lambda x: x not in range(0,5000,5))\n",
    "dfv[\"smiling\"] = dfv[\"smiling\"].replace(to_replace=[-1], value=['Frown'])\n",
    "dfv[\"smiling\"] = dfv[\"smiling\"].replace(to_replace=[1], value=['Smile'])\n",
    "dfv[\"gender\"] = dfv[\"gender\"].replace(to_replace=[-1], value=['Female'])\n",
    "dfv[\"gender\"] = dfv[\"gender\"].replace(to_replace=[1], value=['Male'])\n",
    "one_hot_s = pd.get_dummies(dfv[\"smiling\"])\n",
    "one_hot_g = pd.get_dummies(dfv[\"gender\"])\n",
    "dfv = dfv.drop(columns=[\"gender\", \"smiling\"])\n",
    "dfv = dfv.join(one_hot_g)\n",
    "dfv = dfv.join(one_hot_s)\n",
    "datagen = ImageDataGenerator(rescale=1./255)\n",
    "test_generator = datagen.flow_from_dataframe(\n",
    "    dataframe=dfv, \n",
    "    directory=file_path,\n",
    "    x_col=\"img_name\", \n",
    "    y_col=[\"Male\", \"Female\"], \n",
    "    class_mode=\"raw\", \n",
    "    target_size=(55,45), \n",
    "    batch_size=100, \n",
    "    color_mode='grayscale', \n",
    "    interpolation='bicubic')"
   ]
  },
  {
   "cell_type": "code",
   "execution_count": 5,
   "metadata": {},
   "outputs": [],
   "source": [
    "model = Sequential()\n",
    "model.add(InputLayer(input_shape=(55,45,1)))\n",
    "model.add(Conv2D(filters=96, kernel_size=(4,4), strides=4, activation=\"relu\", padding=\"same\"))\n",
    "model.add(MaxPooling2D(pool_size=(2,2)))\n",
    "model.add(BatchNormalization())\n",
    "model.add(Conv2D(filters=256, kernel_size=(3,3), strides=1, activation=\"relu\", padding=\"same\"))\n",
    "model.add(MaxPooling2D(pool_size=(2,2)))\n",
    "model.add(BatchNormalization())\n",
    "model.add(Conv2D(filters=256, kernel_size=(2,2), activation=\"relu\", strides=1, padding=\"same\"))\n",
    "model.add(Flatten())\n",
    "model.add(Dense(units=512, activation=\"relu\"))\n",
    "model.add(Dropout(0.2))\n",
    "model.add(Dense(units=512, activation=\"relu\"))\n",
    "model.add(Dropout(0.2))\n",
    "model.add(Dense(2, activation=\"softmax\"))"
   ]
  },
  {
   "cell_type": "code",
   "execution_count": 6,
   "metadata": {},
   "outputs": [
    {
     "name": "stdout",
     "output_type": "stream",
     "text": [
      "Model: \"sequential_1\"\n",
      "_________________________________________________________________\n",
      "Layer (type)                 Output Shape              Param #   \n",
      "=================================================================\n",
      "conv2d_1 (Conv2D)            (None, 14, 12, 96)        1632      \n",
      "_________________________________________________________________\n",
      "max_pooling2d_1 (MaxPooling2 (None, 7, 6, 96)          0         \n",
      "_________________________________________________________________\n",
      "batch_normalization_1 (Batch (None, 7, 6, 96)          384       \n",
      "_________________________________________________________________\n",
      "conv2d_2 (Conv2D)            (None, 7, 6, 256)         221440    \n",
      "_________________________________________________________________\n",
      "max_pooling2d_2 (MaxPooling2 (None, 3, 3, 256)         0         \n",
      "_________________________________________________________________\n",
      "batch_normalization_2 (Batch (None, 3, 3, 256)         1024      \n",
      "_________________________________________________________________\n",
      "conv2d_3 (Conv2D)            (None, 3, 3, 256)         262400    \n",
      "_________________________________________________________________\n",
      "flatten_1 (Flatten)          (None, 2304)              0         \n",
      "_________________________________________________________________\n",
      "dense_1 (Dense)              (None, 512)               1180160   \n",
      "_________________________________________________________________\n",
      "dropout_1 (Dropout)          (None, 512)               0         \n",
      "_________________________________________________________________\n",
      "dense_2 (Dense)              (None, 512)               262656    \n",
      "_________________________________________________________________\n",
      "dropout_2 (Dropout)          (None, 512)               0         \n",
      "_________________________________________________________________\n",
      "dense_3 (Dense)              (None, 2)                 1026      \n",
      "=================================================================\n",
      "Total params: 1,930,722\n",
      "Trainable params: 1,930,018\n",
      "Non-trainable params: 704\n",
      "_________________________________________________________________\n"
     ]
    }
   ],
   "source": [
    "model.summary()"
   ]
  },
  {
   "cell_type": "code",
   "execution_count": 7,
   "metadata": {},
   "outputs": [],
   "source": [
    "model.compile(Adam(lr=0.0001), loss='binary_crossentropy', metrics=['accuracy'])"
   ]
  },
  {
   "cell_type": "code",
   "execution_count": 8,
   "metadata": {},
   "outputs": [],
   "source": [
    "train_steps = train_generator.n//train_generator.batch_size\n",
    "test_steps = test_generator.n//test_generator.batch_size"
   ]
  },
  {
   "cell_type": "code",
   "execution_count": 9,
   "metadata": {},
   "outputs": [
    {
     "name": "stdout",
     "output_type": "stream",
     "text": [
      "Epoch 1/20\n",
      "40/40 [==============================] - 8s 199ms/step - loss: 0.5820 - accuracy: 0.6895 - val_loss: 0.6881 - val_accuracy: 0.5656\n",
      "Epoch 2/20\n",
      "40/40 [==============================] - 9s 223ms/step - loss: 0.4083 - accuracy: 0.8167 - val_loss: 0.6763 - val_accuracy: 0.7430\n",
      "Epoch 3/20\n",
      "40/40 [==============================] - 8s 209ms/step - loss: 0.2933 - accuracy: 0.8845 - val_loss: 0.6908 - val_accuracy: 0.4705\n",
      "Epoch 4/20\n",
      "40/40 [==============================] - 8s 209ms/step - loss: 0.2107 - accuracy: 0.9225 - val_loss: 0.6430 - val_accuracy: 0.4716\n",
      "Epoch 5/20\n",
      "40/40 [==============================] - 8s 204ms/step - loss: 0.1539 - accuracy: 0.9413 - val_loss: 0.6331 - val_accuracy: 0.4805\n",
      "Epoch 6/20\n",
      "40/40 [==============================] - 8s 206ms/step - loss: 0.1094 - accuracy: 0.9613 - val_loss: 0.7699 - val_accuracy: 0.4661\n",
      "Epoch 7/20\n",
      "40/40 [==============================] - 8s 205ms/step - loss: 0.0619 - accuracy: 0.9845 - val_loss: 0.8795 - val_accuracy: 0.4828\n",
      "Epoch 8/20\n",
      "40/40 [==============================] - 8s 207ms/step - loss: 0.0435 - accuracy: 0.9852 - val_loss: 0.9869 - val_accuracy: 0.4805\n",
      "Epoch 9/20\n",
      "40/40 [==============================] - 8s 203ms/step - loss: 0.0306 - accuracy: 0.9918 - val_loss: 0.7864 - val_accuracy: 0.5539\n",
      "Epoch 10/20\n",
      "40/40 [==============================] - 8s 204ms/step - loss: 0.0235 - accuracy: 0.9950 - val_loss: 0.4241 - val_accuracy: 0.7920\n",
      "Epoch 11/20\n",
      "40/40 [==============================] - 8s 206ms/step - loss: 0.0151 - accuracy: 0.9970 - val_loss: 0.5847 - val_accuracy: 0.6878\n",
      "Epoch 12/20\n",
      "40/40 [==============================] - 9s 227ms/step - loss: 0.0094 - accuracy: 0.9987 - val_loss: 0.4077 - val_accuracy: 0.8120\n",
      "Epoch 13/20\n",
      "40/40 [==============================] - 8s 206ms/step - loss: 0.0073 - accuracy: 0.9992 - val_loss: 0.1776 - val_accuracy: 0.9021\n",
      "Epoch 14/20\n",
      "40/40 [==============================] - 8s 211ms/step - loss: 0.0034 - accuracy: 0.9998 - val_loss: 0.2200 - val_accuracy: 0.9288\n",
      "Epoch 15/20\n",
      "40/40 [==============================] - 8s 203ms/step - loss: 0.0036 - accuracy: 0.9998 - val_loss: 0.1114 - val_accuracy: 0.9655\n",
      "Epoch 16/20\n",
      "40/40 [==============================] - 8s 210ms/step - loss: 0.0022 - accuracy: 1.0000 - val_loss: 0.0104 - val_accuracy: 0.9989\n",
      "Epoch 17/20\n",
      "40/40 [==============================] - 8s 212ms/step - loss: 0.0031 - accuracy: 0.9998 - val_loss: 0.0027 - val_accuracy: 1.0000\n",
      "Epoch 18/20\n",
      "40/40 [==============================] - 8s 208ms/step - loss: 0.0023 - accuracy: 1.0000 - val_loss: 0.0013 - val_accuracy: 1.0000\n",
      "Epoch 19/20\n",
      "40/40 [==============================] - 8s 206ms/step - loss: 0.0027 - accuracy: 0.9998 - val_loss: 0.0024 - val_accuracy: 1.0000\n",
      "Epoch 20/20\n",
      "40/40 [==============================] - 8s 207ms/step - loss: 0.0014 - accuracy: 1.0000 - val_loss: 7.4256e-04 - val_accuracy: 1.0000\n"
     ]
    },
    {
     "data": {
      "text/plain": [
       "<keras.callbacks.callbacks.History at 0x1bdfe3d1ef0>"
      ]
     },
     "execution_count": 9,
     "metadata": {},
     "output_type": "execute_result"
    }
   ],
   "source": [
    "model.fit_generator(generator=train_generator, \n",
    "                    steps_per_epoch=train_steps,\n",
    "                    validation_data=test_generator,\n",
    "                    validation_steps=test_steps,\n",
    "                    epochs=20)"
   ]
  },
  {
   "cell_type": "code",
   "execution_count": null,
   "metadata": {},
   "outputs": [],
   "source": []
  }
 ],
 "metadata": {
  "kernelspec": {
   "display_name": "Python 3",
   "language": "python",
   "name": "python3"
  },
  "language_info": {
   "codemirror_mode": {
    "name": "ipython",
    "version": 3
   },
   "file_extension": ".py",
   "mimetype": "text/x-python",
   "name": "python",
   "nbconvert_exporter": "python",
   "pygments_lexer": "ipython3",
   "version": "3.6.12"
  }
 },
 "nbformat": 4,
 "nbformat_minor": 4
}
