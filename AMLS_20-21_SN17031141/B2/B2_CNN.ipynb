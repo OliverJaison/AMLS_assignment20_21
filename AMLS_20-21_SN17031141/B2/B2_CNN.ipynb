{
 "cells": [
  {
   "cell_type": "markdown",
   "metadata": {},
   "source": [
    "07391449,\n",
    "\n",
    "08436710"
   ]
  },
  {
   "cell_type": "code",
   "execution_count": 1,
   "metadata": {},
   "outputs": [
    {
     "name": "stderr",
     "output_type": "stream",
     "text": [
      "Using TensorFlow backend.\n"
     ]
    }
   ],
   "source": [
    "import numpy as np\n",
    "import keras\n",
    "import cv2\n",
    "import pandas as pd\n",
    "import tensorflow as tf\n",
    "from keras import backend as K\n",
    "from keras.models import Sequential\n",
    "from keras.layers import Activation\n",
    "from keras.layers import Dropout\n",
    "from keras.layers import InputLayer\n",
    "from keras.layers.core import Dense, Flatten\n",
    "from keras.optimizers import Adam\n",
    "from keras.metrics import categorical_crossentropy\n",
    "from keras.preprocessing import image\n",
    "from keras.preprocessing.image import ImageDataGenerator\n",
    "from keras.layers.normalization import BatchNormalization\n",
    "from keras.layers.convolutional import *\n",
    "from matplotlib import pyplot as plt\n",
    "from sklearn.metrics import confusion_matrix\n",
    "from sklearn.preprocessing import LabelBinarizer\n",
    "from sklearn.preprocessing import OneHotEncoder\n",
    "import itertools\n",
    "import matplotlib.pyplot as plt\n",
    "import os\n",
    "%matplotlib inline"
   ]
  },
  {
   "cell_type": "code",
   "execution_count": 2,
   "metadata": {},
   "outputs": [],
   "source": [
    "file_path = \"D:\\Admin\\Documents\\Year_4\\AMLS\\Assessment\\dataset_AMLS_20-21\\cartoon_set\\img\"\n",
    "labels_path = \"D:\\Admin\\Documents\\Year_4\\AMLS\\Assessment\\dataset_AMLS_20-21\\cartoon_set\\labels.csv\""
   ]
  },
  {
   "cell_type": "code",
   "execution_count": 3,
   "metadata": {},
   "outputs": [],
   "source": [
    "df = pd.read_csv(labels_path)\n",
    "sample_size = 1000\n",
    "df = df.drop(columns=\"Unnamed: 0\")\n",
    "\n",
    "temp = df[\"file_name\"]\n",
    "df.insert(loc=0, column=\"file_names\", value=temp)\n",
    "df = df.drop(columns=\"file_name\")\n",
    "\n",
    "df[\"eye_color\"] = df[\"eye_color\"].replace(to_replace=[0], value=[\"Brown\"])\n",
    "df[\"eye_color\"] = df[\"eye_color\"].replace(to_replace=[1], value=[\"Blue\"])\n",
    "df[\"eye_color\"] = df[\"eye_color\"].replace(to_replace=[2], value=[\"Green\"])\n",
    "df[\"eye_color\"] = df[\"eye_color\"].replace(to_replace=[3], value=[\"Hazel\"])\n",
    "df[\"eye_color\"] = df[\"eye_color\"].replace(to_replace=[4], value=[\"Black\"])\n",
    "\n",
    "one_hot = pd.get_dummies(df[\"eye_color\"])\n",
    "df = df.join(one_hot)\n",
    "\n",
    "df = df.drop(df.index[sample_size:])"
   ]
  },
  {
   "cell_type": "code",
   "execution_count": 4,
   "metadata": {},
   "outputs": [],
   "source": [
    "train, validation, test = \\\n",
    "              np.split(df.sample(frac=1), \n",
    "                       [int(.6*len(df)), int(.8*len(df))])"
   ]
  },
  {
   "cell_type": "code",
   "execution_count": 5,
   "metadata": {},
   "outputs": [],
   "source": [
    "face_cascade = cv2.CascadeClassifier('haarcascade_frontalface_default.xml')\n",
    "eye_cascade = cv2.CascadeClassifier('haarcascade_eye.xml')"
   ]
  },
  {
   "cell_type": "code",
   "execution_count": 7,
   "metadata": {},
   "outputs": [],
   "source": [
    "y = 149\n",
    "x = 128\n",
    "ry = 83\n",
    "rx = 48\n",
    "rw = 56\n",
    "rh = 56\n",
    "starty = y + ry\n",
    "endy = starty + rh\n",
    "startx = x + rx\n",
    "endx = startx + rw"
   ]
  },
  {
   "cell_type": "code",
   "execution_count": 8,
   "metadata": {},
   "outputs": [],
   "source": [
    "def create_eye_matrix(file_path, df, face, eye, starty, endy, startx, endx):\n",
    "    eyes = []\n",
    "    labels = []\n",
    "    for file_name in df[\"file_names\"]:\n",
    "        img_path = os.path.join(file_path, file_name)\n",
    "        img = cv2.imread(img_path)\n",
    "        crop = img[starty:endy, startx:endx]\n",
    "        eyes.append(crop)\n",
    "        temp = file_name.split(\".\")[0]\n",
    "        labels.append([df[\"Black\"].loc[int(temp)], \n",
    "                       df[\"Blue\"].loc[int(temp)], \n",
    "                       df[\"Brown\"].loc[int(temp)], \n",
    "                       df[\"Green\"].loc[int(temp)], \n",
    "                       df[\"Hazel\"].loc[int(temp)]])\n",
    "    eyes = np.array(eyes).astype(int)\n",
    "    return eyes, labels"
   ]
  },
  {
   "cell_type": "code",
   "execution_count": 9,
   "metadata": {},
   "outputs": [],
   "source": [
    "train_eyes, train_labels = create_eye_matrix(file_path, train, face_cascade, eye_cascade, starty, endy, startx, endx)"
   ]
  },
  {
   "cell_type": "code",
   "execution_count": 10,
   "metadata": {},
   "outputs": [],
   "source": [
    "val_eyes, val_labels = create_eye_matrix(file_path, validation, face_cascade, eye_cascade, starty, endy, startx, endx)"
   ]
  },
  {
   "cell_type": "code",
   "execution_count": 11,
   "metadata": {},
   "outputs": [],
   "source": [
    "test_eyes, test_labels = create_eye_matrix(file_path, test, face_cascade, eye_cascade, starty, endy, startx, endx)"
   ]
  },
  {
   "cell_type": "code",
   "execution_count": 12,
   "metadata": {},
   "outputs": [],
   "source": [
    "datagen = ImageDataGenerator()\n",
    "\n",
    "train_generator = datagen.flow(x = train_eyes, y = train_labels)\n",
    "\n",
    "validation_generator = datagen.flow(x = val_eyes, y = val_labels)\n",
    "\n",
    "test_generator = datagen.flow(x = test_eyes, y = test_labels)"
   ]
  },
  {
   "cell_type": "code",
   "execution_count": 13,
   "metadata": {},
   "outputs": [],
   "source": [
    "model = Sequential()\n",
    "model.add(InputLayer(input_shape=train_eyes[0].shape))\n",
    "model.add(Conv2D(filters=96, kernel_size=(2,2), strides=4, activation=\"relu\", padding=\"same\"))\n",
    "model.add(MaxPooling2D(pool_size=(2,2)))\n",
    "model.add(BatchNormalization())\n",
    "model.add(Flatten())\n",
    "model.add(Dense(units=512, activation=\"relu\"))\n",
    "model.add(Dropout(0.2))\n",
    "model.add(Dense(units=512, activation=\"relu\"))\n",
    "model.add(Dropout(0.2))\n",
    "model.add(Dense(5, activation=\"softmax\"))"
   ]
  },
  {
   "cell_type": "code",
   "execution_count": 14,
   "metadata": {},
   "outputs": [
    {
     "name": "stdout",
     "output_type": "stream",
     "text": [
      "Model: \"sequential_1\"\n",
      "_________________________________________________________________\n",
      "Layer (type)                 Output Shape              Param #   \n",
      "=================================================================\n",
      "conv2d_1 (Conv2D)            (None, 14, 14, 96)        1248      \n",
      "_________________________________________________________________\n",
      "max_pooling2d_1 (MaxPooling2 (None, 7, 7, 96)          0         \n",
      "_________________________________________________________________\n",
      "batch_normalization_1 (Batch (None, 7, 7, 96)          384       \n",
      "_________________________________________________________________\n",
      "flatten_1 (Flatten)          (None, 4704)              0         \n",
      "_________________________________________________________________\n",
      "dense_1 (Dense)              (None, 512)               2408960   \n",
      "_________________________________________________________________\n",
      "dropout_1 (Dropout)          (None, 512)               0         \n",
      "_________________________________________________________________\n",
      "dense_2 (Dense)              (None, 512)               262656    \n",
      "_________________________________________________________________\n",
      "dropout_2 (Dropout)          (None, 512)               0         \n",
      "_________________________________________________________________\n",
      "dense_3 (Dense)              (None, 5)                 2565      \n",
      "=================================================================\n",
      "Total params: 2,675,813\n",
      "Trainable params: 2,675,621\n",
      "Non-trainable params: 192\n",
      "_________________________________________________________________\n"
     ]
    }
   ],
   "source": [
    "model.summary()"
   ]
  },
  {
   "cell_type": "code",
   "execution_count": 15,
   "metadata": {},
   "outputs": [],
   "source": [
    "model.compile(Adam(lr=0.0001), loss='binary_crossentropy', metrics=['accuracy'])"
   ]
  },
  {
   "cell_type": "code",
   "execution_count": 16,
   "metadata": {},
   "outputs": [],
   "source": [
    "train_steps = train_generator.n//train_generator.batch_size\n",
    "validation_steps = validation_generator.n//validation_generator.batch_size"
   ]
  },
  {
   "cell_type": "code",
   "execution_count": 17,
   "metadata": {},
   "outputs": [
    {
     "name": "stdout",
     "output_type": "stream",
     "text": [
      "Epoch 1/25\n",
      "18/18 [==============================] - 1s 74ms/step - loss: 0.4424 - accuracy: 0.8137 - val_loss: 0.8272 - val_accuracy: 0.7312\n",
      "Epoch 2/25\n",
      "18/18 [==============================] - 1s 49ms/step - loss: 0.2247 - accuracy: 0.9201 - val_loss: 0.3631 - val_accuracy: 0.8036\n",
      "Epoch 3/25\n",
      "18/18 [==============================] - 1s 51ms/step - loss: 0.1428 - accuracy: 0.9482 - val_loss: 0.3392 - val_accuracy: 0.8500\n",
      "Epoch 4/25\n",
      "18/18 [==============================] - 1s 45ms/step - loss: 0.1087 - accuracy: 0.9599 - val_loss: 0.3661 - val_accuracy: 0.8440\n",
      "Epoch 5/25\n",
      "18/18 [==============================] - 1s 52ms/step - loss: 0.1020 - accuracy: 0.9606 - val_loss: 0.1951 - val_accuracy: 0.9190\n",
      "Epoch 6/25\n",
      "18/18 [==============================] - 1s 51ms/step - loss: 0.1085 - accuracy: 0.9577 - val_loss: 0.1082 - val_accuracy: 0.9500\n",
      "Epoch 7/25\n",
      "18/18 [==============================] - 1s 46ms/step - loss: 0.0912 - accuracy: 0.9623 - val_loss: 0.0822 - val_accuracy: 0.9417\n",
      "Epoch 8/25\n",
      "18/18 [==============================] - 1s 46ms/step - loss: 0.0859 - accuracy: 0.9635 - val_loss: 0.2286 - val_accuracy: 0.9396\n",
      "Epoch 9/25\n",
      "18/18 [==============================] - 1s 47ms/step - loss: 0.0882 - accuracy: 0.9621 - val_loss: 0.0846 - val_accuracy: 0.9429\n",
      "Epoch 10/25\n",
      "18/18 [==============================] - 1s 46ms/step - loss: 0.0895 - accuracy: 0.9655 - val_loss: 0.1523 - val_accuracy: 0.9381\n",
      "Epoch 11/25\n",
      "18/18 [==============================] - 1s 51ms/step - loss: 0.0779 - accuracy: 0.9669 - val_loss: 0.1613 - val_accuracy: 0.9512\n",
      "Epoch 12/25\n",
      "18/18 [==============================] - 1s 50ms/step - loss: 0.0809 - accuracy: 0.9667 - val_loss: 0.0926 - val_accuracy: 0.9393\n",
      "Epoch 13/25\n",
      "18/18 [==============================] - 1s 50ms/step - loss: 0.0794 - accuracy: 0.9662 - val_loss: 0.0674 - val_accuracy: 0.9452\n",
      "Epoch 14/25\n",
      "18/18 [==============================] - 1s 48ms/step - loss: 0.0782 - accuracy: 0.9682 - val_loss: 0.1751 - val_accuracy: 0.9417\n",
      "Epoch 15/25\n",
      "18/18 [==============================] - 1s 49ms/step - loss: 0.0722 - accuracy: 0.9684 - val_loss: 0.0699 - val_accuracy: 0.9458\n",
      "Epoch 16/25\n",
      "18/18 [==============================] - 1s 49ms/step - loss: 0.0774 - accuracy: 0.9662 - val_loss: 0.1258 - val_accuracy: 0.9417\n",
      "Epoch 17/25\n",
      "18/18 [==============================] - 1s 56ms/step - loss: 0.0791 - accuracy: 0.9669 - val_loss: 0.2251 - val_accuracy: 0.9452\n",
      "Epoch 18/25\n",
      "18/18 [==============================] - 1s 52ms/step - loss: 0.0680 - accuracy: 0.9729 - val_loss: 0.1771 - val_accuracy: 0.9357\n",
      "Epoch 19/25\n",
      "18/18 [==============================] - 1s 51ms/step - loss: 0.0643 - accuracy: 0.9725 - val_loss: 0.1542 - val_accuracy: 0.9548\n",
      "Epoch 20/25\n",
      "18/18 [==============================] - 1s 51ms/step - loss: 0.0679 - accuracy: 0.9683 - val_loss: 0.1190 - val_accuracy: 0.9488\n",
      "Epoch 21/25\n",
      "18/18 [==============================] - 1s 49ms/step - loss: 0.0587 - accuracy: 0.9746 - val_loss: 0.2314 - val_accuracy: 0.9429\n",
      "Epoch 22/25\n",
      "18/18 [==============================] - 1s 46ms/step - loss: 0.0689 - accuracy: 0.9708 - val_loss: 0.1884 - val_accuracy: 0.9396\n",
      "Epoch 23/25\n",
      "18/18 [==============================] - 1s 50ms/step - loss: 0.0670 - accuracy: 0.9697 - val_loss: 0.1130 - val_accuracy: 0.9429\n",
      "Epoch 24/25\n",
      "18/18 [==============================] - 1s 51ms/step - loss: 0.0605 - accuracy: 0.9764 - val_loss: 0.0718 - val_accuracy: 0.9452\n",
      "Epoch 25/25\n",
      "18/18 [==============================] - 1s 51ms/step - loss: 0.0553 - accuracy: 0.9750 - val_loss: 0.0890 - val_accuracy: 0.9298\n"
     ]
    }
   ],
   "source": [
    "history = model.fit(x=train_generator, \n",
    "          steps_per_epoch=train_steps,\n",
    "          validation_data=validation_generator,\n",
    "          validation_steps=validation_steps,\n",
    "          epochs=25)"
   ]
  },
  {
   "cell_type": "code",
   "execution_count": 18,
   "metadata": {},
   "outputs": [
    {
     "data": {
      "image/png": "[encoded data removed]",
      "text/plain": [
       "<Figure size 432x288 with 1 Axes>"
      ]
     },
     "metadata": {
      "needs_background": "light"
     },
     "output_type": "display_data"
    }
   ],
   "source": [
    "epochs = range(1, len(history.epoch) + 1)\n",
    "plt.plot(epochs, history.history['loss'], label='Training Loss')\n",
    "plt.plot(epochs, history.history['accuracy'], label='Training Accuracy')\n",
    "plt.plot(epochs, history.history['val_loss'], label='Validation Loss')\n",
    "plt.plot(epochs, history.history['val_accuracy'], label='Validation Accuracy')\n",
    "plt.xlabel('Epochs')\n",
    "plt.ylabel('Loss/Accuracy')\n",
    "plt.legend()\n",
    "plt.show()"
   ]
  },
  {
   "cell_type": "code",
   "execution_count": 19,
   "metadata": {},
   "outputs": [
    {
     "name": "stdout",
     "output_type": "stream",
     "text": [
      "7/7 [==============================] - 0s 7ms/step\n"
     ]
    },
    {
     "data": {
      "text/plain": [
       "[0.30698060989379883, 0.9290000200271606]"
      ]
     },
     "execution_count": 19,
     "metadata": {},
     "output_type": "execute_result"
    }
   ],
   "source": [
    "model.evaluate(x=test_generator)"
   ]
  },
  {
   "cell_type": "code",
   "execution_count": 20,
   "metadata": {},
   "outputs": [],
   "source": [
    "test_file_path = \"D:\\Admin\\Documents\\Year_4\\AMLS\\Assessment\\dataset_AMLS_20-21\\cartoon_set_test\\img\"\n",
    "test_labels_path = \"D:\\Admin\\Documents\\Year_4\\AMLS\\Assessment\\dataset_AMLS_20-21\\cartoon_set_test\\labels.csv\""
   ]
  },
  {
   "cell_type": "code",
   "execution_count": 27,
   "metadata": {},
   "outputs": [
    {
     "name": "stdout",
     "output_type": "stream",
     "text": [
      "  file_names eye_color  face_shape  Black  Blue  Brown  Green  Hazel\n",
      "0      0.png     Green           1      0     0      0      1      0\n",
      "1      1.png      Blue           4      0     1      0      0      0\n",
      "2      2.png     Brown           2      0     0      1      0      0\n",
      "3      3.png     Brown           2      0     0      1      0      0\n",
      "4      4.png     Hazel           3      0     0      0      0      1\n"
     ]
    }
   ],
   "source": [
    "test_df = pd.read_csv(test_labels_path, sep=\"\\t\")\n",
    "temp = test_df[\"file_name\"]\n",
    "test_df.insert(loc=0, column=\"file_names\", value=temp)\n",
    "test_df = test_df.drop(columns=\"file_name\")\n",
    "test_df = test_df.drop(columns=\"Unnamed: 0\")\n",
    "\n",
    "test_df[\"eye_color\"] = test_df[\"eye_color\"].replace(to_replace=[0], value=[\"Brown\"])\n",
    "test_df[\"eye_color\"] = test_df[\"eye_color\"].replace(to_replace=[1], value=[\"Blue\"])\n",
    "test_df[\"eye_color\"] = test_df[\"eye_color\"].replace(to_replace=[2], value=[\"Green\"])\n",
    "test_df[\"eye_color\"] = test_df[\"eye_color\"].replace(to_replace=[3], value=[\"Hazel\"])\n",
    "test_df[\"eye_color\"] = test_df[\"eye_color\"].replace(to_replace=[4], value=[\"Black\"])\n",
    "\n",
    "one_hot = pd.get_dummies(test_df[\"eye_color\"])\n",
    "test_df = test_df.join(one_hot)\n",
    "print(test_df.head())"
   ]
  },
  {
   "cell_type": "code",
   "execution_count": 28,
   "metadata": {},
   "outputs": [],
   "source": [
    "test_img, test_labels = create_eye_matrix(file_path, train, face_cascade, eye_cascade, starty, endy, startx, endx)"
   ]
  },
  {
   "cell_type": "code",
   "execution_count": 29,
   "metadata": {},
   "outputs": [],
   "source": [
    "test_flow = datagen.flow(x = test_img, y = test_labels)"
   ]
  },
  {
   "cell_type": "code",
   "execution_count": 30,
   "metadata": {},
   "outputs": [
    {
     "name": "stdout",
     "output_type": "stream",
     "text": [
      "19/19 [==============================] - 0s 7ms/step\n"
     ]
    },
    {
     "data": {
      "text/plain": [
       "[0.07827278226613998, 0.9789999127388]"
      ]
     },
     "execution_count": 30,
     "metadata": {},
     "output_type": "execute_result"
    }
   ],
   "source": [
    "model.evaluate(x=test_flow)"
   ]
  },
  {
   "cell_type": "code",
   "execution_count": 31,
   "metadata": {},
   "outputs": [
    {
     "data": {
      "text/plain": [
       "<matplotlib.image.AxesImage at 0x1c6e08c42e8>"
      ]
     },
     "execution_count": 31,
     "metadata": {},
     "output_type": "execute_result"
    },
    {
     "data": {
      "image/png": "[encoded data removed]",
      "text/plain": [
       "<Figure size 432x288 with 2 Axes>"
      ]
     },
     "metadata": {
      "needs_background": "light"
     },
     "output_type": "display_data"
    }
   ],
   "source": [
    "img_path = os.path.join(file_path, df[\"file_names\"].iloc[3])\n",
    "img = cv2.imread(img_path)\n",
    "gray = cv2.cvtColor(img,cv2.COLOR_BGR2GRAY)\n",
    "faces = face_cascade.detectMultiScale(gray)\n",
    "for (x,y,w,h) in faces:\n",
    "    cv2.rectangle(img,(x,y),(x+w,y+h),(255,0,0),2)\n",
    "    roi_gray = gray[y:y+h, x:x+w]\n",
    "    roi_color = img[y:y+h, x:x+w]\n",
    "    eyes = eye_cascade.detectMultiScale(roi_gray)\n",
    "    for (ex,ey,ew,eh) in eyes:\n",
    "        roi_color_eye = roi_color[ey:ey+eh, ex:ex+ew]\n",
    "        cv2.rectangle(roi_color,(ex,ey),(ex+ew,ey+eh),(0,255,0),2)\n",
    "        roi = roi_color[ey:ey+eh, ex: ex+ew]\n",
    "plt.subplot(1,2,1)\n",
    "plt.imshow(img)\n",
    "plt.subplot(1,2,2)\n",
    "plt.imshow(roi)"
   ]
  },
  {
   "cell_type": "code",
   "execution_count": null,
   "metadata": {},
   "outputs": [],
   "source": []
  }
 ],
 "metadata": {
  "kernelspec": {
   "display_name": "Python 3",
   "language": "python",
   "name": "python3"
  },
  "language_info": {
   "codemirror_mode": {
    "name": "ipython",
    "version": 3
   },
   "file_extension": ".py",
   "mimetype": "text/x-python",
   "name": "python",
   "nbconvert_exporter": "python",
   "pygments_lexer": "ipython3",
   "version": "3.6.12"
  }
 },
 "nbformat": 4,
 "nbformat_minor": 4
}
