{
 "cells": [
  {
   "cell_type": "markdown",
   "metadata": {},
   "source": [
    "This file will contain my first attempt at multiclass classification problem for cartoon faces\n",
    "Here we import the necessary packages"
   ]
  },
  {
   "cell_type": "code",
   "execution_count": 2,
   "metadata": {
    "pycharm": {
     "name": "#%%\n"
    }
   },
   "outputs": [],
   "source": [
    "import tensorflow as tf\n",
    "import numpy as np\n",
    "import matplotlib.pyplot as plt\n",
    "import matplotlib.image as mpimg\n",
    "import pandas as pd\n",
    "import cv2\n",
    "import os\n",
    "import time\n",
    "from sklearn.model_selection import train_test_split\n",
    "from sklearn import svm\n",
    "from sklearn.svm import LinearSVC\n",
    "from sklearn.svm import SVC\n",
    "from sklearn import metrics\n",
    "from skimage.color import rgb2gray\n",
    "from skimage.feature import hog\n",
    "from skimage import data, exposure"
   ]
  },
  {
   "cell_type": "markdown",
   "metadata": {},
   "source": [
    "Here we load the images into the file"
   ]
  },
  {
   "cell_type": "code",
   "execution_count": 3,
   "metadata": {
    "pycharm": {
     "is_executing": true,
     "name": "#%%\n"
    }
   },
   "outputs": [],
   "source": [
    "file_path = 'D:\\Admin\\Documents\\Year_4\\AMLS\\Assessment\\dataset_AMLS_20-21\\cartoon_set\\img'\n",
    "def load_images(file_path):\n",
    "    sample_size = 7500\n",
    "    images = []\n",
    "    hogs = []\n",
    "    hogimg = []\n",
    "    mags = []\n",
    "    angles = []\n",
    "    counter = 0\n",
    "    for filename in os.listdir(file_path):\n",
    "        img = cv2.imread(os.path.join(file_path, filename))\n",
    "        if img is not None:\n",
    "            dim = (64,128)\n",
    "            scaled = cv2.resize(img, dim, interpolation=cv2.INTER_AREA)\n",
    "            gray = cv2.cvtColor(scaled, cv2.COLOR_BGR2GRAY)\n",
    "            gray = np.float32(gray)/255.0\n",
    "            images.append(gray)\n",
    "            feat, vis = hog(gray, visualize=True)\n",
    "            hogs.append(feat)\n",
    "            hogimg.append(vis)\n",
    "            gx = cv2.Sobel(gray, cv2.CV_32F, 1, 0, ksize=1)\n",
    "            gy = cv2.Sobel(gray, cv2.CV_32F, 0, 1, ksize=1)\n",
    "            mag, angle = cv2.cartToPolar(gx, gy, angleInDegrees=True)\n",
    "            mags.append(mag)\n",
    "            angles.append(angle)\n",
    "            counter += 1\n",
    "        if counter > sample_size - 1:\n",
    "            break\n",
    "    return images, mags, angles, hogs, hogimg\n",
    "images, mags, angles, hogs, hogimg = load_images(file_path)"
   ]
  },
  {
   "cell_type": "markdown",
   "metadata": {},
   "source": [
    "Next we load the labels"
   ]
  },
  {
   "cell_type": "code",
   "execution_count": 4,
   "metadata": {
    "pycharm": {
     "name": "#%%\n"
    },
    "scrolled": true
   },
   "outputs": [
    {
     "name": "stdout",
     "output_type": "stream",
     "text": [
      "0       4\n",
      "1       4\n",
      "2       3\n",
      "3       0\n",
      "4       2\n",
      "       ..\n",
      "7495    2\n",
      "7496    4\n",
      "7497    0\n",
      "7498    2\n",
      "7499    4\n",
      "Name: face_shape, Length: 7500, dtype: int64\n"
     ]
    }
   ],
   "source": [
    "label_data = pd.read_csv(r'D:\\Admin\\Documents\\Year_4\\AMLS\\Assessment\\dataset_AMLS_20-21\\cartoon_set\\labels.csv')\n",
    "face_shape_labels = pd.DataFrame(label_data)\n",
    "face_shape_labels = face_shape_labels[face_shape_labels.columns[2]]\n",
    "face_shape_labels = face_shape_labels[:7500]\n",
    "headings = [\"Index\", \"Eye Colour\", \"Face Shape\", \"File Name\"]\n",
    "print(face_shape_labels)"
   ]
  },
  {
   "cell_type": "code",
   "execution_count": 5,
   "metadata": {
    "pycharm": {
     "name": "#%%\n"
    }
   },
   "outputs": [
    {
     "name": "stdout",
     "output_type": "stream",
     "text": [
      "[[1. 1. 1. ... 1. 1. 1.]\n",
      " [1. 1. 1. ... 1. 1. 1.]\n",
      " [1. 1. 1. ... 1. 1. 1.]\n",
      " ...\n",
      " [1. 1. 1. ... 1. 1. 1.]\n",
      " [1. 1. 1. ... 1. 1. 1.]\n",
      " [1. 1. 1. ... 1. 1. 1.]]\n"
     ]
    }
   ],
   "source": [
    "print(images[0])"
   ]
  },
  {
   "cell_type": "code",
   "execution_count": 6,
   "metadata": {},
   "outputs": [
    {
     "name": "stdout",
     "output_type": "stream",
     "text": [
      "[[0. 0. 0. ... 0. 0. 0.]\n",
      " [0. 0. 0. ... 0. 0. 0.]\n",
      " [0. 0. 0. ... 0. 0. 0.]\n",
      " ...\n",
      " [0. 0. 0. ... 0. 0. 0.]\n",
      " [0. 0. 0. ... 0. 0. 0.]\n",
      " [0. 0. 0. ... 0. 0. 0.]]\n"
     ]
    }
   ],
   "source": [
    "print(mags[0])"
   ]
  },
  {
   "cell_type": "code",
   "execution_count": 7,
   "metadata": {},
   "outputs": [
    {
     "name": "stdout",
     "output_type": "stream",
     "text": [
      "[[0. 0. 0. ... 0. 0. 0.]\n",
      " [0. 0. 0. ... 0. 0. 0.]\n",
      " [0. 0. 0. ... 0. 0. 0.]\n",
      " ...\n",
      " [0. 0. 0. ... 0. 0. 0.]\n",
      " [0. 0. 0. ... 0. 0. 0.]\n",
      " [0. 0. 0. ... 0. 0. 0.]]\n"
     ]
    }
   ],
   "source": [
    "print(angles[0])"
   ]
  },
  {
   "cell_type": "code",
   "execution_count": 8,
   "metadata": {},
   "outputs": [
    {
     "name": "stdout",
     "output_type": "stream",
     "text": [
      "[[0. 0. 0. ... 0. 0. 0.]\n",
      " [0. 0. 0. ... 0. 0. 0.]\n",
      " [0. 0. 0. ... 0. 0. 0.]\n",
      " ...\n",
      " [0. 0. 0. ... 0. 0. 0.]\n",
      " [0. 0. 0. ... 0. 0. 0.]\n",
      " [0. 0. 0. ... 0. 0. 0.]]\n"
     ]
    }
   ],
   "source": [
    "print(hogimg[0])"
   ]
  },
  {
   "cell_type": "markdown",
   "source": [
    "So we know that the label data has been extracted properly. The following code checks if the images have been preprocessed properly"
   ],
   "metadata": {
    "collapsed": false
   }
  },
  {
   "cell_type": "code",
   "execution_count": null,
   "outputs": [],
   "source": [
    "cv2.imshow('Gray Image', hogimg[0])\n",
    "cv2.waitKey()\n",
    "cv2.destroyAllWindows()"
   ],
   "metadata": {
    "collapsed": false,
    "pycharm": {
     "name": "#%%\n"
    }
   }
  },
  {
   "cell_type": "markdown",
   "source": [
    "Here we split the data to test and train."
   ],
   "metadata": {
    "collapsed": false
   }
  },
  {
   "cell_type": "code",
   "execution_count": null,
   "outputs": [],
   "source": [
    "x_train, x_test, y_train, y_test = train_test_split(hogs,face_shape_labels, test_size=0.25)\n",
    "print(x_train[0])\n",
    "print(y_train)\n",
    "# estimator = Estimator(meta_algo='RF', verbose=3)\n",
    "# estimation, lb, ub = estimator.time(SVC(), x_train, y_train)\n",
    "# print(ub)"
   ],
   "metadata": {
    "collapsed": false,
    "pycharm": {
     "name": "#%%\n"
    }
   }
  },
  {
   "cell_type": "code",
   "execution_count": null,
   "outputs": [],
   "source": [
    "# classifier = svm.SVC(kernel='linear')\n",
    "classifier = LinearSVC(max_iter=1100)\n",
    "classifier.fit(x_train, y_train)"
   ],
   "metadata": {
    "collapsed": false,
    "pycharm": {
     "name": "#%%\n"
    }
   }
  },
  {
   "cell_type": "markdown",
   "metadata": {},
   "source": [
    "y_pred = classifier.predict(x_test)\n",
    "accuracy = metrics.accuracy_score(y_test,y_pred=y_pred)\n",
    "print(accuracy)"
   ]
  },
  {
   "cell_type": "code",
   "execution_count": null,
   "metadata": {
    "pycharm": {
     "is_executing": true
    },
    "scrolled": true
   },
   "outputs": [],
   "source": [
    "cv2.imshow('Gray Image', hogimg[0])\n",
    "cv2.waitKey()\n",
    "cv2.destroyAllWindows()"
   ]
  },
  {
   "cell_type": "markdown",
   "metadata": {},
   "source": [
    "Here we split the data to test and train."
   ]
  },
  {
   "cell_type": "code",
   "execution_count": 9,
   "metadata": {
    "pycharm": {
     "name": "#%%\n"
    }
   },
   "outputs": [
    {
     "name": "stdout",
     "output_type": "stream",
     "text": [
      "[0. 0. 0. ... 0. 0. 0.]\n",
      "6849    1\n",
      "6698    0\n",
      "6221    3\n",
      "4094    4\n",
      "7002    0\n",
      "       ..\n",
      "698     1\n",
      "2578    0\n",
      "6918    2\n",
      "1941    0\n",
      "6326    0\n",
      "Name: face_shape, Length: 5625, dtype: int64\n"
     ]
    }
   ],
   "source": [
    "x_train, x_test, y_train, y_test = train_test_split(hogs,face_shape_labels, test_size=0.25)\n",
    "print(x_train[0])\n",
    "print(y_train)\n",
    "# estimator = Estimator(meta_algo='RF', verbose=3)\n",
    "# estimation, lb, ub = estimator.time(SVC(), x_train, y_train)\n",
    "# print(ub)"
   ]
  },
  {
   "cell_type": "code",
   "execution_count": 10,
   "metadata": {
    "pycharm": {
     "name": "#%%\n"
    }
   },
   "outputs": [
    {
     "name": "stderr",
     "output_type": "stream",
     "text": [
      "C:\\Users\\Admin\\.conda\\envs\\AMLS\\lib\\site-packages\\sklearn\\svm\\_base.py:977: ConvergenceWarning: Liblinear failed to converge, increase the number of iterations.\n",
      "  \"the number of iterations.\", ConvergenceWarning)\n"
     ]
    },
    {
     "data": {
      "text/plain": [
       "LinearSVC(max_iter=1100)"
      ]
     },
     "execution_count": 10,
     "metadata": {},
     "output_type": "execute_result"
    }
   ],
   "source": [
    "# classifier = svm.SVC(kernel='linear')\n",
    "classifier = LinearSVC(max_iter=1100)\n",
    "classifier.fit(x_train, y_train)"
   ]
  },
  {
   "cell_type": "code",
   "execution_count": 11,
   "metadata": {
    "pycharm": {
     "name": "#%%\n"
    }
   },
   "outputs": [
    {
     "name": "stdout",
     "output_type": "stream",
     "text": [
      "0.1904\n"
     ]
    }
   ],
   "source": [
    "y_pred = classifier.predict(x_test)\n",
    "accuracy = metrics.accuracy_score(y_test,y_pred=y_pred)\n",
    "print(accuracy)"
   ]
  },
  {
   "cell_type": "code",
   "execution_count": 7,
   "metadata": {
    "pycharm": {
     "name": "#%%\n"
    }
   },
   "outputs": [],
   "source": []
  }
 ],
 "metadata": {
  "kernelspec": {
   "display_name": "Python 3",
   "language": "python",
   "name": "python3"
  },
  "language_info": {
   "codemirror_mode": {
    "name": "ipython",
    "version": 3
   },
   "file_extension": ".py",
   "mimetype": "text/x-python",
   "name": "python",
   "nbconvert_exporter": "python",
   "pygments_lexer": "ipython3",
   "version": "3.6.12"
  }
 },
 "nbformat": 4,
 "nbformat_minor": 1
}