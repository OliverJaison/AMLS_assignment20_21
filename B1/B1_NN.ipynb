{
 "cells": [
  {
   "cell_type": "markdown",
   "metadata": {},
   "source": [
    "08227986"
   ]
  },
  {
   "cell_type": "code",
   "execution_count": 1,
   "metadata": {},
   "outputs": [
    {
     "name": "stderr",
     "output_type": "stream",
     "text": [
      "Using TensorFlow backend.\n"
     ]
    }
   ],
   "source": [
    "import tensorflow as tf\n",
    "import numpy as np\n",
    "import matplotlib.pyplot as plt\n",
    "import matplotlib.image as mapimg\n",
    "import pandas as pd\n",
    "import cv2\n",
    "import os\n",
    "import dlib\n",
    "import pickle\n",
    "from sklearn.model_selection import train_test_split\n",
    "from sklearn import svm\n",
    "from sklearn.neighbors import KNeighborsClassifier\n",
    "from sklearn.metrics import accuracy_score\n",
    "from sklearn.cluster import KMeans\n",
    "from sklearn.preprocessing import StandardScaler\n",
    "from sklearn.decomposition import PCA\n",
    "from keras.preprocessing import image\n",
    "from sklearn import decomposition\n",
    "from sklearn.svm import LinearSVC\n",
    "from sklearn.svm import SVC\n",
    "from sklearn import metrics\n",
    "from skimage.color import rgb2gray\n",
    "from skimage.feature import hog\n",
    "from scipy.spatial import procrustes"
   ]
  },
  {
   "cell_type": "code",
   "execution_count": 2,
   "metadata": {},
   "outputs": [],
   "source": [
    "def shape_to_np(shape, dtype=\"int\"):\n",
    "    coords = np.zeros((shape.num_parts, 2), dtype=dtype)\n",
    "    for i in range(0, shape.num_parts):\n",
    "        coords[i] = (shape.part(i).x, shape.part(i).y)\n",
    "    return coords"
   ]
  },
  {
   "cell_type": "code",
   "execution_count": 3,
   "metadata": {},
   "outputs": [],
   "source": [
    "def rect_to_dim(rect):\n",
    "    w = rect.right() - rect.left()\n",
    "    h = rect.top() - rect.bottom()\n",
    "    return (w, h)"
   ]
  },
  {
   "cell_type": "code",
   "execution_count": 4,
   "metadata": {},
   "outputs": [],
   "source": [
    "def create_feature(img):\n",
    "    face_detect = dlib.get_frontal_face_detector()\n",
    "    shape_predict = dlib.shape_predictor('shape_predictor_68_face_landmarks.dat')\n",
    "    gray = cv2.cvtColor(img, cv2.COLOR_BGR2GRAY)\n",
    "    gray = gray.astype('uint8')\n",
    "    rects = face_detect(gray, 1)\n",
    "    num_faces = len(rects)\n",
    "    \n",
    "    if num_faces == 0:\n",
    "        return None\n",
    "\n",
    "    face_areas = np.zeros((1, num_faces))\n",
    "    face_shapes = np.zeros((136, num_faces), dtype=np.int64)\n",
    "    \n",
    "    for (i, rect) in enumerate(rects):\n",
    "        temp_shape = shape_predict(gray, rect)\n",
    "        temp_shape = shape_to_np(temp_shape)\n",
    "        (w, h) = rect_to_dim(rect)\n",
    "        face_shapes[:, i] = np.reshape(temp_shape, [136])\n",
    "        face_areas[0, i] = w * h\n",
    "        dlibout = np.reshape(np.transpose(face_shapes[:, np.argmax(face_areas)]), [68, 2])\n",
    "    return dlibout"
   ]
  },
  {
   "cell_type": "code",
   "execution_count": 5,
   "metadata": {},
   "outputs": [],
   "source": [
    "def create_feature_matrix(file_path, df):\n",
    "    features = []\n",
    "    labels = []\n",
    "    image_paths = [os.path.join(file_path, l) for l in os.listdir(file_path)]\n",
    "    for file_name in df[\"file_names\"]:\n",
    "        img_path = os.path.join(file_path, file_name)\n",
    "        img = image.img_to_array(image.load_img(img_path, target_size=(50,50), interpolation='bicubic'))\n",
    "        feature = feature = hog(img, pixels_per_cell=(6,6))\n",
    "        if feature is not None:\n",
    "            features.append(feature)\n",
    "            temp = file_name.split(\".\")[0]\n",
    "            labels.append(df.loc[int(temp), \"face_shape\"])\n",
    "    features = np.array(features)\n",
    "    return features, labels"
   ]
  },
  {
   "cell_type": "code",
   "execution_count": 6,
   "metadata": {},
   "outputs": [],
   "source": [
    "def calc_label(data_matrix, center_matrix):\n",
    "    no_data = data_matrix.shape[0]\n",
    "    K = center_matrix.shape[0]\n",
    "    label = np.zeros(no_data)\n",
    "    for i in range(no_data):\n",
    "        datum = data_matrix[i, :]\n",
    "        datum = np.reshape(datum, (datum.shape[0], 1))\n",
    "        dist2centers = np.zeros(K)\n",
    "        for k in range(K):\n",
    "            center=center_matrix[k, :]\n",
    "            center=np.reshape(center, (center.shape[0], 1))\n",
    "            t1, t2, dist=procrustes(datum, center)\n",
    "            dist2centers[k]=dist\n",
    "        label[i] = np.argmin(dist2centers)\n",
    "    return label.astype(np.int)"
   ]
  },
  {
   "cell_type": "code",
   "execution_count": 7,
   "metadata": {},
   "outputs": [],
   "source": [
    "def cost_func(data_matrix, center_matrix, labels):\n",
    "    K = center_matrix.shape[0]\n",
    "    cost = 0.\n",
    "    for k in range(K):\n",
    "        data_index = np.where(labels==k)\n",
    "        cluster_data=data_matrix[data_index,:]\n",
    "        cluster_data=np.reshape(cluster_data, (2916, cluster_data.size//2916))[:, 0].reshape((2916,1))\n",
    "        cluster_center=center_matrix[k,:].reshape((-1, 1))\n",
    "        for i in range(cluster_data.shape[0]):\n",
    "            t1, t2, disp = procrustes(cluster_data, cluster_center)\n",
    "            cost += disp\n",
    "    cost = cost/K\n",
    "    return cost"
   ]
  },
  {
   "cell_type": "code",
   "execution_count": 8,
   "metadata": {},
   "outputs": [],
   "source": [
    "def update_centers(data_matrix, label, K):\n",
    "    dim = data_matrix.shape[1]\n",
    "    center_matrix = np.zeros([K, dim])\n",
    "    for k in range(K):\n",
    "        index = np.where(label == k)\n",
    "        cluster_data = data_matrix[index]\n",
    "        new_center = cluster_data.mean(axis=0)\n",
    "        center_matrix[k,:] = new_center\n",
    "    return center_matrix"
   ]
  },
  {
   "cell_type": "code",
   "execution_count": 9,
   "metadata": {},
   "outputs": [],
   "source": [
    "def newKMeans(data_matrix, K, max_iter):\n",
    "    no_data = data_matrix.shape[0]\n",
    "    index = np.arange(no_data)\n",
    "    np.random.shuffle(index)\n",
    "    center_matrix = data_matrix[index[:K]]\n",
    "    label = calc_label(data_matrix, center_matrix)\n",
    "    cost = cost_func(data_matrix, center_matrix, label)\n",
    "    Train = True\n",
    "    iter = 0\n",
    "    while Train:\n",
    "        iter += 1\n",
    "        center_matrix = update_centers(data_matrix, label, K)\n",
    "        label = calc_label(data_matrix, center_matrix)\n",
    "        cost = cost_func(data_matrix, center_matrix, label)\n",
    "        print(f\"iter {iter}: cost = {cost}\")\n",
    "        if iter >= max_iter:\n",
    "            Train = False\n",
    "    return label, center_matrix"
   ]
  },
  {
   "cell_type": "code",
   "execution_count": 17,
   "metadata": {},
   "outputs": [],
   "source": [
    "def KNNClassifier(x_train, y_train, x_test,k):\n",
    "\n",
    "    #Create KNN object with a K coefficient\n",
    "    neigh = KNeighborsClassifier(n_neighbors=k)\n",
    "    neigh.fit(x_train, y_train) # Fit KNN model\n",
    "\n",
    "\n",
    "    Y_pred = neigh.predict(x_test)\n",
    "    return Y_pred"
   ]
  },
  {
   "cell_type": "code",
   "execution_count": 11,
   "metadata": {},
   "outputs": [],
   "source": [
    "file_path = \"D:\\Admin\\Documents\\Year_4\\AMLS\\Assessment\\dataset_AMLS_20-21\\cartoon_set\\img\"\n",
    "labels_path = \"D:\\Admin\\Documents\\Year_4\\AMLS\\Assessment\\dataset_AMLS_20-21\\cartoon_set\\labels.csv\""
   ]
  },
  {
   "cell_type": "code",
   "execution_count": 12,
   "metadata": {},
   "outputs": [],
   "source": [
    "df = pd.read_csv(labels_path)\n",
    "\n",
    "df = df.drop(columns=\"Unnamed: 0\")\n",
    "temp = df[\"file_name\"]\n",
    "df.insert(loc=0, column=\"file_names\", value=temp)\n",
    "df = df.drop(columns=\"file_name\")\n",
    "df = df.drop(df.index[1000:])"
   ]
  },
  {
   "cell_type": "code",
   "execution_count": 13,
   "metadata": {},
   "outputs": [],
   "source": [
    "train, validation, test = \\\n",
    "              np.split(df.sample(frac=1), \n",
    "                       [int(.6*len(df)), int(.8*len(df))])"
   ]
  },
  {
   "cell_type": "code",
   "execution_count": 18,
   "metadata": {},
   "outputs": [],
   "source": [
    "temp = train.filter(axis='columns', items= [\"file_names\", \"face_shape\"])\n",
    "\n",
    "filter0 = train.loc[:,\"face_shape\"] == 0\n",
    "filter0 = train[filter0]\n",
    "img0 = filter0[\"file_names\"].iloc[0]\n",
    "img_path = os.path.join(file_path, img0)\n",
    "img0 = image.img_to_array(image.load_img(img_path, target_size=(50,50), interpolation='bicubic'))\n",
    "feature0 = create_feature(img0)\n",
    "\n",
    "filter1 = train.loc[:,\"face_shape\"] == 1\n",
    "filter1 = train[filter1]\n",
    "img1 = filter1[\"file_names\"].iloc[0]\n",
    "img_path = os.path.join(file_path, img1)\n",
    "img1 = image.img_to_array(image.load_img(img_path, target_size=(50,50), interpolation='bicubic'))\n",
    "feature1 = create_feature(img1)\n",
    "\n",
    "filter2 = train.loc[:,\"face_shape\"] == 2\n",
    "filter2 = train[filter2]\n",
    "img2 = filter2[\"file_names\"].iloc[0]\n",
    "img_path = os.path.join(file_path, img2)\n",
    "img2 = image.img_to_array(image.load_img(img_path, target_size=(50,50), interpolation='bicubic'))\n",
    "feature2 = create_feature(img2)\n",
    "\n",
    "filter3 = train.loc[:,\"face_shape\"] == 3\n",
    "filter3 = train[filter3]\n",
    "img3 = filter3[\"file_names\"].iloc[0]\n",
    "img_path = os.path.join(file_path, img3)\n",
    "img3 = image.img_to_array(image.load_img(img_path, target_size=(50,50), interpolation='bicubic'))\n",
    "feature3 = create_feature(img3)\n",
    "\n",
    "filter4 = train.loc[:,\"face_shape\"] == 4\n",
    "filter4 = train[filter4]\n",
    "img4 = filter4[\"file_names\"].iloc[0]\n",
    "img_path = os.path.join(file_path, img4)\n",
    "img4 = image.img_to_array(image.load_img(img_path, target_size=(50,50), interpolation='bicubic'))\n",
    "feature4 = create_feature(img4)"
   ]
  },
  {
   "cell_type": "code",
   "execution_count": 14,
   "metadata": {},
   "outputs": [],
   "source": [
    "train_features, train_labels = create_feature_matrix(file_path, train)"
   ]
  },
  {
   "cell_type": "code",
   "execution_count": 15,
   "metadata": {},
   "outputs": [],
   "source": [
    "val_features, val_labels = create_feature_matrix(file_path, validation)"
   ]
  },
  {
   "cell_type": "code",
   "execution_count": 97,
   "metadata": {},
   "outputs": [
    {
     "name": "stdout",
     "output_type": "stream",
     "text": [
      "iter 1: cost = 2914.718482152645\n",
      "iter 2: cost = 2914.6235480028618\n",
      "iter 3: cost = 2912.811037133907\n",
      "iter 4: cost = 2914.9855257205263\n",
      "iter 5: cost = 2914.3584397389996\n",
      "iter 6: cost = 2914.379368356257\n",
      "iter 7: cost = 2914.379368356257\n",
      "iter 8: cost = 2914.379368356257\n",
      "iter 9: cost = 2914.379368356257\n",
      "iter 10: cost = 2914.379368356257\n",
      "iter 11: cost = 2914.379368356257\n",
      "iter 12: cost = 2914.379368356257\n",
      "iter 13: cost = 2914.379368356257\n",
      "iter 14: cost = 2914.379368356257\n",
      "iter 15: cost = 2914.379368356257\n",
      "iter 16: cost = 2914.379368356257\n",
      "iter 17: cost = 2914.379368356257\n",
      "iter 18: cost = 2914.379368356257\n",
      "iter 19: cost = 2914.379368356257\n",
      "iter 20: cost = 2914.379368356257\n"
     ]
    }
   ],
   "source": [
    "label, center_matrix = newKMeans(features, 5, 20)"
   ]
  },
  {
   "cell_type": "code",
   "execution_count": 23,
   "metadata": {},
   "outputs": [
    {
     "data": {
      "image/png": "[encoded data removed]",
      "text/plain": [
       "<Figure size 432x288 with 1 Axes>"
      ]
     },
     "metadata": {
      "needs_background": "light"
     },
     "output_type": "display_data"
    }
   ],
   "source": [
    "scores = []\n",
    "Ks = []\n",
    "for k in range(90,101):\n",
    "    Y_pred = KNNClassifier(train_features, train_labels, val_features, k)\n",
    "    score = metrics.accuracy_score(val_labels, Y_pred)\n",
    "    scores.append(score)\n",
    "    Ks.append(k)\n",
    "plt.plot(Ks, scores)\n",
    "plt.xlabel('Values of K')\n",
    "plt.ylabel('Accuracy Scores')\n",
    "plt.show()"
   ]
  },
  {
   "cell_type": "code",
   "execution_count": 24,
   "metadata": {},
   "outputs": [
    {
     "name": "stdout",
     "output_type": "stream",
     "text": [
      "[0.47, 0.465, 0.47, 0.48, 0.475, 0.495, 0.5, 0.48, 0.48, 0.475, 0.47]\n"
     ]
    }
   ],
   "source": [
    "print(scores)"
   ]
  },
  {
   "cell_type": "code",
   "execution_count": null,
   "metadata": {},
   "outputs": [],
   "source": []
  }
 ],
 "metadata": {
  "kernelspec": {
   "display_name": "Python 3",
   "language": "python",
   "name": "python3"
  },
  "language_info": {
   "codemirror_mode": {
    "name": "ipython",
    "version": 3
   },
   "file_extension": ".py",
   "mimetype": "text/x-python",
   "name": "python",
   "nbconvert_exporter": "python",
   "pygments_lexer": "ipython3",
   "version": "3.6.12"
  }
 },
 "nbformat": 4,
 "nbformat_minor": 4
}
