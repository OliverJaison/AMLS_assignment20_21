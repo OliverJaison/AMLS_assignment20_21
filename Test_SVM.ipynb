{
 "cells": [
  {
   "cell_type": "code",
   "execution_count": 122,
   "metadata": {},
   "outputs": [],
   "source": [
    "import tensorflow as tf\n",
    "import numpy as np\n",
    "import matplotlib.pyplot as plt\n",
    "import pandas as pd\n",
    "import cv2\n",
    "import os\n",
    "import dlib\n",
    "from sklearn.model_selection import train_test_split\n",
    "from sklearn import svm\n",
    "from keras.preprocessing import image\n",
    "from sklearn import decomposition\n",
    "from sklearn.svm import LinearSVC\n",
    "from sklearn.svm import SVC\n",
    "from sklearn import metrics\n",
    "from skimage.color import rgb2gray\n",
    "from skimage.feature import hog\n",
    "import matplotlib.pyplot as plt\n",
    "import matplotlib.image as mapimg"
   ]
  },
  {
   "cell_type": "code",
   "execution_count": 123,
   "metadata": {},
   "outputs": [],
   "source": [
    "file_path = \"D:\\Admin\\Documents\\Year_4\\AMLS\\Assessment\\dataset_AMLS_20-21\\cartoon_set\\img\"\n",
    "labels_path = \"D:\\Admin\\Documents\\Year_4\\AMLS\\Assessment\\dataset_AMLS_20-21\\cartoon_set\\labels.csv\""
   ]
  },
  {
   "cell_type": "code",
   "execution_count": 124,
   "metadata": {},
   "outputs": [],
   "source": [
    "df = pd.read_csv(labels_path)\n",
    "\n",
    "df = df.drop(columns=\"Unnamed: 0\")\n",
    "temp = df[\"file_name\"]\n",
    "df.insert(loc=0, column=\"file_names\", value=temp)\n",
    "df = df.drop(columns=\"file_name\")\n",
    "df = df.drop(df.index[1000:])"
   ]
  },
  {
   "cell_type": "code",
   "execution_count": 125,
   "metadata": {},
   "outputs": [],
   "source": [
    "train, validation, test = \\\n",
    "              np.split(df.sample(frac=1), \n",
    "                       [int(.6*len(df)), int(.8*len(df))])"
   ]
  },
  {
   "cell_type": "code",
   "execution_count": 126,
   "metadata": {},
   "outputs": [
    {
     "data": {
      "text/html": [
       "<div>\n",
       "<style scoped>\n",
       "    .dataframe tbody tr th:only-of-type {\n",
       "        vertical-align: middle;\n",
       "    }\n",
       "\n",
       "    .dataframe tbody tr th {\n",
       "        vertical-align: top;\n",
       "    }\n",
       "\n",
       "    .dataframe thead th {\n",
       "        text-align: right;\n",
       "    }\n",
       "</style>\n",
       "<table border=\"1\" class=\"dataframe\">\n",
       "  <thead>\n",
       "    <tr style=\"text-align: right;\">\n",
       "      <th></th>\n",
       "      <th>file_names</th>\n",
       "      <th>eye_color</th>\n",
       "      <th>face_shape</th>\n",
       "    </tr>\n",
       "  </thead>\n",
       "  <tbody>\n",
       "    <tr>\n",
       "      <th>890</th>\n",
       "      <td>890.png</td>\n",
       "      <td>0</td>\n",
       "      <td>3</td>\n",
       "    </tr>\n",
       "    <tr>\n",
       "      <th>205</th>\n",
       "      <td>205.png</td>\n",
       "      <td>4</td>\n",
       "      <td>2</td>\n",
       "    </tr>\n",
       "    <tr>\n",
       "      <th>539</th>\n",
       "      <td>539.png</td>\n",
       "      <td>2</td>\n",
       "      <td>0</td>\n",
       "    </tr>\n",
       "    <tr>\n",
       "      <th>585</th>\n",
       "      <td>585.png</td>\n",
       "      <td>3</td>\n",
       "      <td>1</td>\n",
       "    </tr>\n",
       "    <tr>\n",
       "      <th>956</th>\n",
       "      <td>956.png</td>\n",
       "      <td>1</td>\n",
       "      <td>2</td>\n",
       "    </tr>\n",
       "    <tr>\n",
       "      <th>...</th>\n",
       "      <td>...</td>\n",
       "      <td>...</td>\n",
       "      <td>...</td>\n",
       "    </tr>\n",
       "    <tr>\n",
       "      <th>246</th>\n",
       "      <td>246.png</td>\n",
       "      <td>1</td>\n",
       "      <td>4</td>\n",
       "    </tr>\n",
       "    <tr>\n",
       "      <th>583</th>\n",
       "      <td>583.png</td>\n",
       "      <td>4</td>\n",
       "      <td>3</td>\n",
       "    </tr>\n",
       "    <tr>\n",
       "      <th>700</th>\n",
       "      <td>700.png</td>\n",
       "      <td>2</td>\n",
       "      <td>1</td>\n",
       "    </tr>\n",
       "    <tr>\n",
       "      <th>326</th>\n",
       "      <td>326.png</td>\n",
       "      <td>1</td>\n",
       "      <td>0</td>\n",
       "    </tr>\n",
       "    <tr>\n",
       "      <th>203</th>\n",
       "      <td>203.png</td>\n",
       "      <td>1</td>\n",
       "      <td>1</td>\n",
       "    </tr>\n",
       "  </tbody>\n",
       "</table>\n",
       "<p>600 rows × 3 columns</p>\n",
       "</div>"
      ],
      "text/plain": [
       "    file_names  eye_color  face_shape\n",
       "890    890.png          0           3\n",
       "205    205.png          4           2\n",
       "539    539.png          2           0\n",
       "585    585.png          3           1\n",
       "956    956.png          1           2\n",
       "..         ...        ...         ...\n",
       "246    246.png          1           4\n",
       "583    583.png          4           3\n",
       "700    700.png          2           1\n",
       "326    326.png          1           0\n",
       "203    203.png          1           1\n",
       "\n",
       "[600 rows x 3 columns]"
      ]
     },
     "execution_count": 126,
     "metadata": {},
     "output_type": "execute_result"
    }
   ],
   "source": [
    "train"
   ]
  },
  {
   "cell_type": "code",
   "execution_count": 136,
   "metadata": {},
   "outputs": [
    {
     "data": {
      "image/png": "[encoded data removed]",
      "text/plain": [
       "<Figure size 432x288 with 1 Axes>"
      ]
     },
     "metadata": {
      "needs_background": "light"
     },
     "output_type": "display_data"
    }
   ],
   "source": [
    "b = \"D:/Admin/Documents/Year_4/AMLS/Assessment/dataset_AMLS_20-21/cartoon_set/img/0.png\"\n",
    "b = mapimg.imread(b)\n",
    "fd, hog_image = hog(b, pixels_per_cell=(6,6), visualize=True)\n",
    "plt.imshow(hog_image)\n",
    "plt.show()"
   ]
  },
  {
   "cell_type": "code",
   "execution_count": 26,
   "metadata": {},
   "outputs": [],
   "source": [
    "labels_file = open('D:\\Admin\\Documents\\Year_4\\AMLS\\Assessment\\dataset_AMLS_20-21\\cartoon_set\\labels.csv', 'r')\n",
    "lines = labels_file.readlines()\n",
    "lines = lines[1:]\n",
    "fs_label = {}\n",
    "for line in lines:\n",
    "    fs_label[line.split(',')[3]] = line.split(',')[2]"
   ]
  },
  {
   "cell_type": "code",
   "execution_count": 35,
   "metadata": {},
   "outputs": [
    {
     "name": "stdout",
     "output_type": "stream",
     "text": [
      "0.png\n",
      "\n",
      "1.png\n",
      "\n",
      "2.png\n",
      "\n",
      "3.png\n",
      "\n",
      "4.png\n",
      "\n",
      "5.png\n",
      "\n"
     ]
    }
   ],
   "source": [
    "count = 5\n",
    "for key in fs_label:\n",
    "    print(key)\n",
    "    if count <=0:\n",
    "        break\n",
    "    count -= 1"
   ]
  },
  {
   "cell_type": "code",
   "execution_count": 69,
   "metadata": {},
   "outputs": [],
   "source": [
    "def shape_to_np(shape, dtype=\"int\"):\n",
    "    coords = np.zeros((shape.num_parts, 2), dtype=dtype)\n",
    "    for i in range(0, shape.num_parts):\n",
    "        coords[i] = (shape.part(i).x, shape.part(i).y)\n",
    "    return coords"
   ]
  },
  {
   "cell_type": "code",
   "execution_count": 70,
   "metadata": {},
   "outputs": [],
   "source": [
    "def rect_to_dim(rect):\n",
    "    w = rect.right() - rect.left()\n",
    "    h = rect.top() - rect.bottom()\n",
    "    return (w, h)"
   ]
  },
  {
   "cell_type": "code",
   "execution_count": 71,
   "metadata": {},
   "outputs": [],
   "source": [
    "def create_feature(img):\n",
    "    face_detect = dlib.get_frontal_face_detector()\n",
    "    shape_predict = dlib.shape_predictor('shape_predictor_68_face_landmarks.dat')\n",
    "    gray = cv2.cvtColor(img, cv2.COLOR_BGR2GRAY)\n",
    "    gray = gray.astype('uint8')\n",
    "    rects = face_detect(gray, 1)\n",
    "    num_faces = len(rects)\n",
    "    \n",
    "    if num_faces == 0:\n",
    "        return None\n",
    "\n",
    "    face_areas = np.zeros((1, num_faces))\n",
    "    face_shapes = np.zeros((136, num_faces), dtype=np.int64)\n",
    "    \n",
    "    for (i, rect) in enumerate(rects):\n",
    "        temp_shape = shape_predict(gray, rect)\n",
    "        temp_shape = shape_to_np(temp_shape)\n",
    "        (w, h) = rect_to_dim(rect)\n",
    "        face_shapes[:, i] = np.reshape(temp_shape, [136])\n",
    "        face_areas[0, i] = w * h\n",
    "        dlibout = np.reshape(np.transpose(face_shapes[:, np.argmax(face_areas)]), [68, 2])\n",
    "    return dlibout"
   ]
  },
  {
   "cell_type": "code",
   "execution_count": 72,
   "metadata": {},
   "outputs": [],
   "source": [
    "def create_feature_matrix(file_path, sample_size, fs_label):\n",
    "    counter = 0\n",
    "    features = []\n",
    "    labels = []\n",
    "    image_paths = [os.path.join(file_path, l) for l in os.listdir(file_path)]\n",
    "    for img_path in image_paths:\n",
    "        img = image.img_to_array(image.load_img(img_path, target_size=None, interpolation='bicubic'))\n",
    "        file_name= img_path.split('\\\\')[-1]\n",
    "        feature = create_feature(img)\n",
    "        if feature is not None:\n",
    "            features.append(feature)\n",
    "            labels.append(fs_label[file_name])\n",
    "            counter += 1\n",
    "        if counter > sample_size - 1:\n",
    "            break\n",
    "    features = np.array(features)\n",
    "    return features, labels"
   ]
  },
  {
   "cell_type": "code",
   "execution_count": 137,
   "metadata": {},
   "outputs": [],
   "source": [
    "def create_feature_matrix(file_path, train_df):\n",
    "    features = []\n",
    "    labels = []\n",
    "    for file_name in train_df[\"file_names\"]:\n",
    "        img_path = os.path.join(file_path, file_name)\n",
    "        img = image.img_to_array(image.load_img(img_path, target_size=None, interpolation='bicubic'))\n",
    "        feature = hog(img, pixels_per_cell=(6,6))\n",
    "        if feature is not None:\n",
    "            features.append(feature)\n",
    "            temp = file_name.split(\".\")[0]\n",
    "            labels.append(train_df.loc[int(temp), \"face_shape\"])\n",
    "    features = np.array(features)\n",
    "    return features, labels"
   ]
  },
  {
   "cell_type": "code",
   "execution_count": 138,
   "metadata": {},
   "outputs": [],
   "source": [
    "train_x, train_y = create_feature_matrix(file_path, train)"
   ]
  },
  {
   "cell_type": "code",
   "execution_count": 52,
   "metadata": {},
   "outputs": [
    {
     "ename": "KeyError",
     "evalue": "'file_names'",
     "output_type": "error",
     "traceback": [
      "\u001b[1;31m---------------------------------------------------------------------------\u001b[0m",
      "\u001b[1;31mKeyError\u001b[0m                                  Traceback (most recent call last)",
      "\u001b[1;32m<ipython-input-52-767904c3ffbf>\u001b[0m in \u001b[0;36m<module>\u001b[1;34m\u001b[0m\n\u001b[1;32m----> 1\u001b[1;33m \u001b[0mx\u001b[0m\u001b[1;33m,\u001b[0m \u001b[0my\u001b[0m \u001b[1;33m=\u001b[0m \u001b[0mcreate_feature_matrix\u001b[0m\u001b[1;33m(\u001b[0m\u001b[0mfile_path\u001b[0m\u001b[1;33m,\u001b[0m \u001b[0msample_size\u001b[0m\u001b[1;33m,\u001b[0m \u001b[0mfs_label\u001b[0m\u001b[1;33m)\u001b[0m\u001b[1;33m\u001b[0m\u001b[1;33m\u001b[0m\u001b[0m\n\u001b[0m",
      "\u001b[1;32m<ipython-input-51-53f95486e2d2>\u001b[0m in \u001b[0;36mcreate_feature_matrix\u001b[1;34m(file_path, sample_size, train_df)\u001b[0m\n\u001b[0;32m      2\u001b[0m     \u001b[0mfeatures\u001b[0m \u001b[1;33m=\u001b[0m \u001b[1;33m[\u001b[0m\u001b[1;33m]\u001b[0m\u001b[1;33m\u001b[0m\u001b[1;33m\u001b[0m\u001b[0m\n\u001b[0;32m      3\u001b[0m     \u001b[0mlabels\u001b[0m \u001b[1;33m=\u001b[0m \u001b[1;33m[\u001b[0m\u001b[1;33m]\u001b[0m\u001b[1;33m\u001b[0m\u001b[1;33m\u001b[0m\u001b[0m\n\u001b[1;32m----> 4\u001b[1;33m     \u001b[1;32mfor\u001b[0m \u001b[0mfile_name\u001b[0m \u001b[1;32min\u001b[0m \u001b[0mtrain_df\u001b[0m\u001b[1;33m[\u001b[0m\u001b[1;34m\"file_names\"\u001b[0m\u001b[1;33m]\u001b[0m\u001b[1;33m:\u001b[0m\u001b[1;33m\u001b[0m\u001b[1;33m\u001b[0m\u001b[0m\n\u001b[0m\u001b[0;32m      5\u001b[0m         \u001b[0mimg_path\u001b[0m \u001b[1;33m=\u001b[0m \u001b[0mos\u001b[0m\u001b[1;33m.\u001b[0m\u001b[0mpath\u001b[0m\u001b[1;33m.\u001b[0m\u001b[0mjoin\u001b[0m\u001b[1;33m(\u001b[0m\u001b[0mfile_path\u001b[0m\u001b[1;33m,\u001b[0m \u001b[0mfile_name\u001b[0m\u001b[1;33m)\u001b[0m\u001b[1;33m\u001b[0m\u001b[1;33m\u001b[0m\u001b[0m\n\u001b[0;32m      6\u001b[0m         \u001b[0mimg\u001b[0m \u001b[1;33m=\u001b[0m \u001b[0mimage\u001b[0m\u001b[1;33m.\u001b[0m\u001b[0mimg_to_array\u001b[0m\u001b[1;33m(\u001b[0m\u001b[0mimage\u001b[0m\u001b[1;33m.\u001b[0m\u001b[0mload_img\u001b[0m\u001b[1;33m(\u001b[0m\u001b[0mimg_path\u001b[0m\u001b[1;33m,\u001b[0m \u001b[0mtarget_size\u001b[0m\u001b[1;33m=\u001b[0m\u001b[1;32mNone\u001b[0m\u001b[1;33m,\u001b[0m \u001b[0minterpolation\u001b[0m\u001b[1;33m=\u001b[0m\u001b[1;34m'bicubic'\u001b[0m\u001b[1;33m)\u001b[0m\u001b[1;33m)\u001b[0m\u001b[1;33m\u001b[0m\u001b[1;33m\u001b[0m\u001b[0m\n",
      "\u001b[1;31mKeyError\u001b[0m: 'file_names'"
     ]
    }
   ],
   "source": [
    "x, y = create_feature_matrix(file_path, sample_size, fs_label)"
   ]
  },
  {
   "cell_type": "code",
   "execution_count": 139,
   "metadata": {},
   "outputs": [
    {
     "name": "stdout",
     "output_type": "stream",
     "text": [
      "[3, 2, 0, 1, 2, 3, 0, 3, 3, 3, 3, 4, 0, 2, 1, 3, 4, 3, 4, 0, 2, 1, 4, 4, 1, 2, 2, 1, 3, 4, 0, 2, 0, 0, 2, 1, 1, 4, 3, 3, 0, 2, 2, 4, 1, 0, 2, 4, 4, 2, 4, 4, 3, 4, 2, 2, 2, 3, 0, 4, 1, 2, 4, 1, 3, 4, 4, 3, 1, 0, 3, 1, 1, 1, 0, 0, 1, 3, 2, 3, 1, 4, 0, 3, 4, 1, 1, 3, 1, 4, 2, 1, 4, 1, 0, 1, 0, 1, 3, 3, 1, 3, 0, 2, 4, 1, 3, 4, 0, 3, 0, 3, 2, 0, 4, 2, 3, 2, 3, 3, 3, 0, 0, 4, 1, 0, 2, 0, 3, 4, 2, 3, 0, 1, 2, 1, 2, 0, 0, 3, 0, 3, 0, 1, 0, 1, 2, 2, 4, 2, 0, 4, 1, 1, 0, 2, 3, 4, 0, 2, 1, 1, 4, 3, 3, 1, 1, 4, 4, 1, 2, 1, 4, 4, 1, 2, 3, 0, 4, 0, 0, 2, 3, 0, 3, 3, 1, 2, 3, 2, 0, 0, 2, 1, 0, 0, 0, 4, 4, 1, 3, 2, 4, 3, 3, 1, 2, 0, 0, 4, 3, 2, 4, 4, 1, 1, 3, 3, 3, 2, 0, 0, 3, 1, 0, 1, 4, 4, 4, 4, 1, 4, 2, 4, 4, 1, 0, 3, 1, 4, 2, 2, 3, 1, 3, 4, 3, 3, 1, 3, 3, 0, 4, 4, 2, 3, 4, 4, 0, 2, 4, 3, 0, 1, 3, 2, 1, 2, 0, 2, 0, 3, 0, 2, 2, 4, 0, 0, 4, 1, 0, 3, 1, 0, 3, 3, 1, 2, 4, 0, 2, 4, 3, 3, 1, 2, 0, 0, 1, 1, 3, 0, 4, 3, 4, 1, 1, 1, 1, 3, 2, 0, 1, 4, 2, 0, 1, 1, 1, 0, 3, 3, 4, 0, 2, 4, 3, 1, 4, 1, 4, 0, 4, 0, 0, 0, 2, 1, 4, 2, 0, 2, 3, 1, 4, 1, 1, 4, 4, 1, 4, 4, 3, 2, 0, 0, 3, 0, 4, 0, 2, 0, 2, 0, 0, 2, 0, 0, 0, 4, 4, 4, 4, 2, 4, 2, 1, 1, 2, 3, 0, 1, 4, 3, 2, 0, 1, 3, 1, 3, 1, 3, 1, 2, 2, 0, 1, 4, 1, 0, 4, 2, 2, 4, 1, 3, 0, 3, 4, 0, 4, 3, 2, 2, 4, 2, 0, 2, 3, 0, 1, 3, 0, 3, 3, 4, 1, 4, 0, 2, 3, 4, 2, 4, 1, 1, 3, 4, 3, 3, 0, 4, 1, 4, 4, 3, 4, 1, 4, 4, 4, 2, 0, 3, 0, 1, 1, 1, 1, 0, 1, 1, 4, 1, 3, 0, 1, 2, 4, 4, 0, 2, 3, 0, 3, 0, 3, 3, 2, 3, 1, 3, 4, 1, 4, 2, 0, 0, 0, 3, 3, 0, 4, 0, 0, 1, 1, 0, 4, 3, 2, 2, 0, 4, 4, 0, 0, 4, 1, 4, 2, 0, 4, 0, 0, 1, 4, 3, 0, 1, 1, 4, 3, 1, 3, 1, 0, 3, 4, 3, 0, 2, 2, 3, 0, 3, 0, 3, 3, 0, 0, 3, 2, 0, 4, 2, 0, 4, 0, 2, 2, 0, 3, 3, 0, 2, 1, 2, 2, 0, 2, 0, 2, 2, 1, 0, 3, 0, 2, 3, 3, 0, 1, 2, 4, 3, 1, 0, 4, 4, 1, 2, 0, 1, 2, 0, 1, 4, 3, 4, 4, 0, 3, 0, 0, 4, 3, 1, 0, 1]\n"
     ]
    }
   ],
   "source": [
    "print(train_y)\n",
    "train_y = np.array(train_y)"
   ]
  },
  {
   "cell_type": "code",
   "execution_count": 17,
   "metadata": {},
   "outputs": [],
   "source": [
    "y = (np.array(y).astype(int) + 1)/2\n",
    "y = y.astype(int)"
   ]
  },
  {
   "cell_type": "code",
   "execution_count": 140,
   "metadata": {},
   "outputs": [
    {
     "name": "stdout",
     "output_type": "stream",
     "text": [
      "1\n",
      "2\n"
     ]
    }
   ],
   "source": [
    "print(train_y.ndim)\n",
    "print(train_x.ndim)"
   ]
  },
  {
   "cell_type": "code",
   "execution_count": 82,
   "metadata": {},
   "outputs": [],
   "source": [
    "train_x = train_x.reshape((int(train_x.size/136), 68*2))"
   ]
  },
  {
   "cell_type": "code",
   "execution_count": 20,
   "metadata": {},
   "outputs": [],
   "source": [
    "x_train, x_test, y_train, y_test = train_test_split(x, y, test_size=0.25)"
   ]
  },
  {
   "cell_type": "code",
   "execution_count": 141,
   "metadata": {},
   "outputs": [],
   "source": [
    "classifier = svm.SVC(kernel='poly', degree=3, C=1.0)"
   ]
  },
  {
   "cell_type": "code",
   "execution_count": 142,
   "metadata": {},
   "outputs": [
    {
     "data": {
      "text/plain": [
       "SVC(kernel='poly')"
      ]
     },
     "execution_count": 142,
     "metadata": {},
     "output_type": "execute_result"
    }
   ],
   "source": [
    "classifier.fit(train_x, train_y)"
   ]
  },
  {
   "cell_type": "code",
   "execution_count": 143,
   "metadata": {},
   "outputs": [],
   "source": [
    "valid_x, valid_y = create_feature_matrix(file_path, validation)"
   ]
  },
  {
   "cell_type": "code",
   "execution_count": 88,
   "metadata": {},
   "outputs": [],
   "source": [
    "valid_x = valid_x.reshape((int(valid_x.size/136), 68*2))"
   ]
  },
  {
   "cell_type": "code",
   "execution_count": 144,
   "metadata": {
    "scrolled": true
   },
   "outputs": [
    {
     "name": "stdout",
     "output_type": "stream",
     "text": [
      "0.995\n"
     ]
    }
   ],
   "source": [
    "y_pred = classifier.predict(valid_x)\n",
    "accuracy = metrics.accuracy_score(valid_y, y_pred=y_pred)\n",
    "print(accuracy)"
   ]
  },
  {
   "cell_type": "code",
   "execution_count": null,
   "metadata": {},
   "outputs": [],
   "source": []
  }
 ],
 "metadata": {
  "kernelspec": {
   "display_name": "Python 3",
   "language": "python",
   "name": "python3"
  },
  "language_info": {
   "codemirror_mode": {
    "name": "ipython",
    "version": 3
   },
   "file_extension": ".py",
   "mimetype": "text/x-python",
   "name": "python",
   "nbconvert_exporter": "python",
   "pygments_lexer": "ipython3",
   "version": "3.6.12"
  }
 },
 "nbformat": 4,
 "nbformat_minor": 4
}
