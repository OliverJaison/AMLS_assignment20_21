{
 "cells": [
  {
   "cell_type": "markdown",
   "metadata": {},
   "source": [
    "07391449,\n",
    "\n",
    "08436710"
   ]
  },
  {
   "cell_type": "code",
   "execution_count": 1,
   "metadata": {},
   "outputs": [
    {
     "name": "stderr",
     "output_type": "stream",
     "text": [
      "Using TensorFlow backend.\n"
     ]
    }
   ],
   "source": [
    "import numpy as np\n",
    "import keras\n",
    "import cv2\n",
    "import pandas as pd\n",
    "import tensorflow as tf\n",
    "from keras import backend as K\n",
    "from keras.models import Sequential\n",
    "from keras.layers import Activation\n",
    "from keras.layers import Dropout\n",
    "from keras.layers import InputLayer\n",
    "from keras.layers.core import Dense, Flatten\n",
    "from keras.optimizers import Adam\n",
    "from keras.metrics import categorical_crossentropy\n",
    "from keras.preprocessing import image\n",
    "from keras.preprocessing.image import ImageDataGenerator\n",
    "from keras.layers.normalization import BatchNormalization\n",
    "from keras.layers.convolutional import *\n",
    "from matplotlib import pyplot as plt\n",
    "from sklearn.metrics import confusion_matrix\n",
    "from sklearn.preprocessing import LabelBinarizer\n",
    "from sklearn.preprocessing import OneHotEncoder\n",
    "import itertools\n",
    "import matplotlib.pyplot as plt\n",
    "import os\n",
    "%matplotlib inline"
   ]
  },
  {
   "cell_type": "code",
   "execution_count": 2,
   "metadata": {},
   "outputs": [],
   "source": [
    "file_path = \"D:\\Admin\\Documents\\Year_4\\AMLS\\Assessment\\dataset_AMLS_20-21\\cartoon_set\\img\"\n",
    "labels_path = \"D:\\Admin\\Documents\\Year_4\\AMLS\\Assessment\\dataset_AMLS_20-21\\cartoon_set\\labels.csv\""
   ]
  },
  {
   "cell_type": "code",
   "execution_count": 3,
   "metadata": {},
   "outputs": [],
   "source": [
    "df = pd.read_csv(labels_path)\n",
    "sample_size = 1000\n",
    "df = df.drop(columns=\"Unnamed: 0\")\n",
    "\n",
    "temp = df[\"file_name\"]\n",
    "df.insert(loc=0, column=\"file_names\", value=temp)\n",
    "df = df.drop(columns=\"file_name\")\n",
    "\n",
    "df[\"eye_color\"] = df[\"eye_color\"].replace(to_replace=[0], value=[\"Brown\"])\n",
    "df[\"eye_color\"] = df[\"eye_color\"].replace(to_replace=[1], value=[\"Blue\"])\n",
    "df[\"eye_color\"] = df[\"eye_color\"].replace(to_replace=[2], value=[\"Green\"])\n",
    "df[\"eye_color\"] = df[\"eye_color\"].replace(to_replace=[3], value=[\"Hazel\"])\n",
    "df[\"eye_color\"] = df[\"eye_color\"].replace(to_replace=[4], value=[\"Black\"])\n",
    "\n",
    "one_hot = pd.get_dummies(df[\"eye_color\"])\n",
    "df = df.drop(columns=\"eye_color\")\n",
    "df = df.join(one_hot)\n",
    "\n",
    "df = df.drop(df.index[sample_size:])"
   ]
  },
  {
   "cell_type": "code",
   "execution_count": 27,
   "metadata": {},
   "outputs": [],
   "source": [
    "train, validation, test = \\\n",
    "              np.split(df.sample(frac=1), \n",
    "                       [int(.6*len(df)), int(.8*len(df))])"
   ]
  },
  {
   "cell_type": "code",
   "execution_count": 28,
   "metadata": {},
   "outputs": [],
   "source": [
    "face_cascade = cv2.CascadeClassifier('haarcascade_frontalface_default.xml')\n",
    "eye_cascade = cv2.CascadeClassifier('haarcascade_eye.xml')"
   ]
  },
  {
   "cell_type": "code",
   "execution_count": 29,
   "metadata": {},
   "outputs": [],
   "source": [
    "img_path = os.path.join(file_path, train[\"file_names\"].iloc[0])\n",
    "img = cv2.imread(img_path)\n",
    "gray = cv2.cvtColor(img,cv2.COLOR_BGR2GRAY)\n",
    "\n",
    "faces = face_cascade.detectMultiScale(gray)\n",
    "rx = 0\n",
    "ry = 0\n",
    "rw = 0\n",
    "rh = 0\n",
    "for (x,y,w,h) in faces:\n",
    "    cv2.rectangle(img,(x,y),(x+w,y+h),(255,0,0),2)\n",
    "    roi_gray = gray[y:y+h, x:x+w]\n",
    "    roi_color = img[y:y+h, x:x+w]\n",
    "    eyes = eye_cascade.detectMultiScale(roi_gray)\n",
    "    for (ex,ey,ew,eh) in eyes:\n",
    "        cv2.rectangle(roi_color,(ex,ey),(ex+ew,ey+eh),(0,255,0),2)\n",
    "        roi = roi_color[ey:ey+eh, ex: ex+ew]\n",
    "rx = ex\n",
    "ry = ey\n",
    "rw = ew\n",
    "rh = eh"
   ]
  },
  {
   "cell_type": "code",
   "execution_count": 30,
   "metadata": {},
   "outputs": [],
   "source": [
    "cv2.imshow(\"bruh\",roi)\n",
    "cv2.waitKey(0)\n",
    "cv2.destroyAllWindows()"
   ]
  },
  {
   "cell_type": "code",
   "execution_count": 31,
   "metadata": {},
   "outputs": [
    {
     "name": "stdout",
     "output_type": "stream",
     "text": [
      "115 47 60 47\n"
     ]
    }
   ],
   "source": [
    "print(rx, ry, rw, ry)"
   ]
  },
  {
   "cell_type": "code",
   "execution_count": 32,
   "metadata": {},
   "outputs": [],
   "source": [
    "def create_eye_matrix(file_path, df, face, eye, rx, ry, rw, rh):\n",
    "    eyes = []\n",
    "    labels = []\n",
    "    for file_name in df[\"file_names\"]:\n",
    "        img_path = os.path.join(file_path, file_name)\n",
    "        img = cv2.imread(img_path)\n",
    "        crop = img[ry:ry+rh, rx:rx+rw]\n",
    "#         hsi_crop = cv2.cvtColor(crop, cv2.COLOR_BGR2HSV)\n",
    "#         temp = crop.mean(axis=0)\n",
    "#         avg_col = temp.mean(axis=0)[0]\n",
    "        if crop is not None:\n",
    "            eyes.append(crop)\n",
    "            temp = file_name.split(\".\")[0]\n",
    "            temp1 = np.array(df.loc[int(temp)])\n",
    "            labels.append(temp1[2:])\n",
    "    return eyes, labels"
   ]
  },
  {
   "cell_type": "code",
   "execution_count": 33,
   "metadata": {},
   "outputs": [],
   "source": [
    "train_eyes, train_labels = create_eye_matrix(file_path, train, face_cascade, eye_cascade, rx, ry, rw, rh)"
   ]
  },
  {
   "cell_type": "code",
   "execution_count": 34,
   "metadata": {},
   "outputs": [],
   "source": [
    "val_eyes, val_labels = create_eye_matrix(file_path, validation, face_cascade, eye_cascade, rx, ry, rw, rh)"
   ]
  },
  {
   "cell_type": "code",
   "execution_count": 35,
   "metadata": {},
   "outputs": [],
   "source": [
    "test_eyes, test_labels = create_eye_matrix(file_path, test, face_cascade, eye_cascade, rw, ry, rw, rh)"
   ]
  },
  {
   "cell_type": "code",
   "execution_count": 36,
   "metadata": {},
   "outputs": [],
   "source": [
    "train_eyes = (np.array(train_eyes)).astype(int)\n",
    "val_eyes = (np.array(val_eyes)).astype(int)\n",
    "test_eyes = (np.array(test_eyes)).astype(int)"
   ]
  },
  {
   "cell_type": "code",
   "execution_count": 37,
   "metadata": {},
   "outputs": [],
   "source": [
    "datagen = ImageDataGenerator()\n",
    "\n",
    "train_generator = datagen.flow(x = train_eyes, y = train_labels)\n",
    "\n",
    "validation_generator = datagen.flow(x = val_eyes, y = val_labels)\n",
    "\n",
    "test_generator = datagen.flow(x = test_eyes, y = test_labels)"
   ]
  },
  {
   "cell_type": "code",
   "execution_count": 50,
   "metadata": {},
   "outputs": [],
   "source": [
    "model = Sequential()\n",
    "model.add(InputLayer(input_shape=train_eyes[0].shape))\n",
    "model.add(Conv2D(filters=96, kernel_size=(2,2), strides=4, activation=\"relu\", padding=\"same\"))\n",
    "model.add(MaxPooling2D(pool_size=(2,2)))\n",
    "model.add(BatchNormalization())\n",
    "model.add(Flatten())\n",
    "model.add(Dense(units=512, activation=\"relu\"))\n",
    "model.add(Dropout(0.2))\n",
    "model.add(Dense(units=512, activation=\"relu\"))\n",
    "model.add(Dropout(0.2))\n",
    "model.add(Dense(5, activation=\"softmax\"))"
   ]
  },
  {
   "cell_type": "code",
   "execution_count": 56,
   "metadata": {},
   "outputs": [],
   "source": [
    "model = Sequential()\n",
    "model.add(InputLayer(input_shape=train_eyes[0].shape))\n",
    "model.add(Conv2D(filters=100, kernel_size=(3,3), strides=2, activation=\"relu\"))\n",
    "model.add(BatchNormalization())\n",
    "model.add(MaxPooling2D(pool_size=(2,2), strides=2))\n",
    "model.add(Conv2D(filters=200, kernel_size=(2,2), strides=2, activation=\"relu\"))\n",
    "model.add(BatchNormalization())\n",
    "model.add(MaxPooling2D(pool_size=(2,2), strides=2))\n",
    "model.add(Conv2D(filters=400,kernel_size=(2,2),activation=\"relu\"))\n",
    "model.add(Flatten())\n",
    "model.add(Dense(1024))\n",
    "model.add(Dropout(0.2))\n",
    "model.add(Dense(512))\n",
    "model.add(Dropout(0.2))\n",
    "model.add(Dense(5, activation=\"softmax\"))"
   ]
  },
  {
   "cell_type": "code",
   "execution_count": 57,
   "metadata": {},
   "outputs": [
    {
     "name": "stdout",
     "output_type": "stream",
     "text": [
      "Model: \"sequential_6\"\n",
      "_________________________________________________________________\n",
      "Layer (type)                 Output Shape              Param #   \n",
      "=================================================================\n",
      "conv2d_6 (Conv2D)            (None, 29, 29, 100)       2800      \n",
      "_________________________________________________________________\n",
      "batch_normalization_5 (Batch (None, 29, 29, 100)       400       \n",
      "_________________________________________________________________\n",
      "max_pooling2d_6 (MaxPooling2 (None, 14, 14, 100)       0         \n",
      "_________________________________________________________________\n",
      "conv2d_7 (Conv2D)            (None, 7, 7, 200)         80200     \n",
      "_________________________________________________________________\n",
      "batch_normalization_6 (Batch (None, 7, 7, 200)         800       \n",
      "_________________________________________________________________\n",
      "max_pooling2d_7 (MaxPooling2 (None, 3, 3, 200)         0         \n",
      "_________________________________________________________________\n",
      "conv2d_8 (Conv2D)            (None, 2, 2, 400)         320400    \n",
      "_________________________________________________________________\n",
      "flatten_6 (Flatten)          (None, 1600)              0         \n",
      "_________________________________________________________________\n",
      "dense_16 (Dense)             (None, 1024)              1639424   \n",
      "_________________________________________________________________\n",
      "dropout_11 (Dropout)         (None, 1024)              0         \n",
      "_________________________________________________________________\n",
      "dense_17 (Dense)             (None, 512)               524800    \n",
      "_________________________________________________________________\n",
      "dropout_12 (Dropout)         (None, 512)               0         \n",
      "_________________________________________________________________\n",
      "dense_18 (Dense)             (None, 5)                 2565      \n",
      "=================================================================\n",
      "Total params: 2,571,389\n",
      "Trainable params: 2,570,789\n",
      "Non-trainable params: 600\n",
      "_________________________________________________________________\n"
     ]
    }
   ],
   "source": [
    "model.summary()"
   ]
  },
  {
   "cell_type": "code",
   "execution_count": 58,
   "metadata": {},
   "outputs": [],
   "source": [
    "model.compile(Adam(lr=0.0001), loss='binary_crossentropy', metrics=['accuracy'])"
   ]
  },
  {
   "cell_type": "code",
   "execution_count": 59,
   "metadata": {},
   "outputs": [],
   "source": [
    "train_steps = train_generator.n//train_generator.batch_size\n",
    "validation_steps = validation_generator.n//validation_generator.batch_size"
   ]
  },
  {
   "cell_type": "code",
   "execution_count": 60,
   "metadata": {},
   "outputs": [
    {
     "name": "stdout",
     "output_type": "stream",
     "text": [
      "Epoch 1/25\n",
      "18/18 [==============================] - 3s 152ms/step - loss: 0.6249 - accuracy: 0.7937 - val_loss: 1.3861 - val_accuracy: 0.6854\n",
      "Epoch 2/25\n",
      "18/18 [==============================] - 2s 128ms/step - loss: 0.5934 - accuracy: 0.7958 - val_loss: 3.9085 - val_accuracy: 0.6786\n",
      "Epoch 3/25\n",
      "18/18 [==============================] - 2s 122ms/step - loss: 0.6050 - accuracy: 0.7982 - val_loss: 4.8987 - val_accuracy: 0.6833\n",
      "Epoch 4/25\n",
      "18/18 [==============================] - 2s 128ms/step - loss: 0.5721 - accuracy: 0.7993 - val_loss: 3.5862 - val_accuracy: 0.7000\n",
      "Epoch 5/25\n",
      "18/18 [==============================] - 2s 128ms/step - loss: 0.5777 - accuracy: 0.8003 - val_loss: 4.0265 - val_accuracy: 0.6714\n",
      "Epoch 6/25\n",
      "18/18 [==============================] - 2s 124ms/step - loss: 0.6008 - accuracy: 0.7979 - val_loss: 2.7269 - val_accuracy: 0.6905\n",
      "Epoch 7/25\n",
      "18/18 [==============================] - 2s 124ms/step - loss: 0.5916 - accuracy: 0.8000 - val_loss: 1.0049 - val_accuracy: 0.6881\n",
      "Epoch 8/25\n",
      "18/18 [==============================] - 2s 123ms/step - loss: 0.5719 - accuracy: 0.8018 - val_loss: 1.5000 - val_accuracy: 0.6812\n",
      "Epoch 9/25\n",
      "18/18 [==============================] - 2s 127ms/step - loss: 0.5844 - accuracy: 0.7996 - val_loss: 2.2890 - val_accuracy: 0.6833\n",
      "Epoch 10/25\n",
      "18/18 [==============================] - 2s 123ms/step - loss: 0.5780 - accuracy: 0.8029 - val_loss: 2.8223 - val_accuracy: 0.6929\n",
      "Epoch 11/25\n",
      "18/18 [==============================] - 2s 124ms/step - loss: 0.6108 - accuracy: 0.8004 - val_loss: 1.8912 - val_accuracy: 0.6833\n",
      "Epoch 12/25\n",
      "18/18 [==============================] - 2s 129ms/step - loss: 0.5982 - accuracy: 0.7990 - val_loss: 2.0078 - val_accuracy: 0.6690\n",
      "Epoch 13/25\n",
      "18/18 [==============================] - 2s 122ms/step - loss: 0.5849 - accuracy: 0.8018 - val_loss: 1.5026 - val_accuracy: 0.6905\n",
      "Epoch 14/25\n",
      "18/18 [==============================] - 2s 124ms/step - loss: 0.5940 - accuracy: 0.7993 - val_loss: 0.8943 - val_accuracy: 0.6881\n",
      "Epoch 15/25\n",
      "18/18 [==============================] - 2s 124ms/step - loss: 0.5696 - accuracy: 0.8032 - val_loss: 2.3876 - val_accuracy: 0.6854\n",
      "Epoch 16/25\n",
      "18/18 [==============================] - 2s 126ms/step - loss: 0.5727 - accuracy: 0.7996 - val_loss: 1.7996 - val_accuracy: 0.6881\n",
      "Epoch 17/25\n",
      "18/18 [==============================] - 2s 136ms/step - loss: 0.5849 - accuracy: 0.7996 - val_loss: 2.5495 - val_accuracy: 0.6786\n",
      "Epoch 18/25\n",
      "18/18 [==============================] - 2s 127ms/step - loss: 0.5884 - accuracy: 0.8000 - val_loss: 1.8522 - val_accuracy: 0.6857\n",
      "Epoch 19/25\n",
      "18/18 [==============================] - 2s 129ms/step - loss: 0.5809 - accuracy: 0.8018 - val_loss: 1.5914 - val_accuracy: 0.6810\n",
      "Epoch 20/25\n",
      "18/18 [==============================] - 2s 135ms/step - loss: 0.5633 - accuracy: 0.8021 - val_loss: 2.1535 - val_accuracy: 0.6857\n",
      "Epoch 21/25\n",
      "18/18 [==============================] - 2s 121ms/step - loss: 0.5965 - accuracy: 0.7982 - val_loss: 2.0347 - val_accuracy: 0.6833\n",
      "Epoch 22/25\n",
      "18/18 [==============================] - 2s 123ms/step - loss: 0.6018 - accuracy: 0.8032 - val_loss: 1.1162 - val_accuracy: 0.6854\n",
      "Epoch 23/25\n",
      "18/18 [==============================] - 2s 125ms/step - loss: 0.5807 - accuracy: 0.8014 - val_loss: 0.8712 - val_accuracy: 0.6857\n",
      "Epoch 24/25\n",
      "18/18 [==============================] - 2s 123ms/step - loss: 0.5589 - accuracy: 0.8021 - val_loss: 1.6435 - val_accuracy: 0.6857\n",
      "Epoch 25/25\n",
      "18/18 [==============================] - 2s 124ms/step - loss: 0.6030 - accuracy: 0.8007 - val_loss: 4.9846 - val_accuracy: 0.6786\n"
     ]
    }
   ],
   "source": [
    "history = model.fit(x=train_generator, \n",
    "          steps_per_epoch=train_steps,\n",
    "          validation_data=validation_generator,\n",
    "          validation_steps=validation_steps,\n",
    "          epochs=25)"
   ]
  },
  {
   "cell_type": "code",
   "execution_count": 61,
   "metadata": {},
   "outputs": [
    {
     "data": {
      "image/png": "[encoded data removed]",
      "text/plain": [
       "<Figure size 432x288 with 1 Axes>"
      ]
     },
     "metadata": {
      "needs_background": "light"
     },
     "output_type": "display_data"
    }
   ],
   "source": [
    "epochs = range(1, len(history.epoch) + 1)\n",
    "plt.plot(epochs, history.history['loss'], label='Training Loss')\n",
    "plt.plot(epochs, history.history['accuracy'], label='Training Accuracy')\n",
    "plt.plot(epochs, history.history['val_loss'], label='Validation Loss')\n",
    "plt.plot(epochs, history.history['val_accuracy'], label='Validation Accuracy')\n",
    "plt.xlabel('Epochs')\n",
    "plt.ylabel('Loss/Accuracy')\n",
    "plt.legend()\n",
    "plt.show()"
   ]
  },
  {
   "cell_type": "code",
   "execution_count": null,
   "metadata": {},
   "outputs": [],
   "source": []
  }
 ],
 "metadata": {
  "kernelspec": {
   "display_name": "Python 3",
   "language": "python",
   "name": "python3"
  },
  "language_info": {
   "codemirror_mode": {
    "name": "ipython",
    "version": 3
   },
   "file_extension": ".py",
   "mimetype": "text/x-python",
   "name": "python",
   "nbconvert_exporter": "python",
   "pygments_lexer": "ipython3",
   "version": "3.6.12"
  }
 },
 "nbformat": 4,
 "nbformat_minor": 4
}
