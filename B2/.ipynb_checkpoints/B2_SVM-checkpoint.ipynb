{
 "cells": [
  {
   "cell_type": "code",
   "execution_count": 27,
   "metadata": {},
   "outputs": [],
   "source": [
    "import numpy as np\n",
    "import keras\n",
    "import cv2\n",
    "import pandas as pd\n",
    "import tensorflow as tf\n",
    "from keras import backend as K\n",
    "from keras.models import Sequential\n",
    "from keras.layers import Activation\n",
    "from keras.layers import Dropout\n",
    "from keras.layers import InputLayer\n",
    "from keras.layers.core import Dense, Flatten\n",
    "from keras.optimizers import Adam\n",
    "from keras.metrics import categorical_crossentropy\n",
    "from keras.preprocessing import image\n",
    "from keras.preprocessing.image import ImageDataGenerator\n",
    "from keras.layers.normalization import BatchNormalization\n",
    "from keras.layers.convolutional import *\n",
    "from matplotlib import pyplot as plt\n",
    "from sklearn.metrics import confusion_matrix\n",
    "from sklearn.preprocessing import LabelBinarizer\n",
    "from sklearn.preprocessing import OneHotEncoder\n",
    "from sklearn import svm\n",
    "from sklearn.svm import LinearSVC\n",
    "from sklearn.svm import SVC\n",
    "from sklearn import metrics\n",
    "import itertools\n",
    "import matplotlib.pyplot as plt\n",
    "import os\n",
    "%matplotlib inline"
   ]
  },
  {
   "cell_type": "code",
   "execution_count": 2,
   "metadata": {},
   "outputs": [],
   "source": [
    "file_path = \"D:\\Admin\\Documents\\Year_4\\AMLS\\Assessment\\dataset_AMLS_20-21\\cartoon_set\\img\"\n",
    "labels_path = \"D:\\Admin\\Documents\\Year_4\\AMLS\\Assessment\\dataset_AMLS_20-21\\cartoon_set\\labels.csv\""
   ]
  },
  {
   "cell_type": "code",
   "execution_count": 3,
   "metadata": {},
   "outputs": [],
   "source": [
    "df = pd.read_csv(labels_path)\n",
    "sample_size = 1000\n",
    "df = df.drop(columns=\"Unnamed: 0\")\n",
    "\n",
    "temp = df[\"file_name\"]\n",
    "df.insert(loc=0, column=\"file_names\", value=temp)\n",
    "df = df.drop(columns=\"file_name\")\n",
    "\n",
    "df = df.drop(df.index[sample_size:])"
   ]
  },
  {
   "cell_type": "code",
   "execution_count": 4,
   "metadata": {},
   "outputs": [],
   "source": [
    "train, validation, test = \\\n",
    "              np.split(df.sample(frac=1), \n",
    "                       [int(.6*len(df)), int(.8*len(df))])"
   ]
  },
  {
   "cell_type": "code",
   "execution_count": 5,
   "metadata": {},
   "outputs": [
    {
     "data": {
      "text/html": [
       "<div>\n",
       "<style scoped>\n",
       "    .dataframe tbody tr th:only-of-type {\n",
       "        vertical-align: middle;\n",
       "    }\n",
       "\n",
       "    .dataframe tbody tr th {\n",
       "        vertical-align: top;\n",
       "    }\n",
       "\n",
       "    .dataframe thead th {\n",
       "        text-align: right;\n",
       "    }\n",
       "</style>\n",
       "<table border=\"1\" class=\"dataframe\">\n",
       "  <thead>\n",
       "    <tr style=\"text-align: right;\">\n",
       "      <th></th>\n",
       "      <th>file_names</th>\n",
       "      <th>eye_color</th>\n",
       "      <th>face_shape</th>\n",
       "    </tr>\n",
       "  </thead>\n",
       "  <tbody>\n",
       "    <tr>\n",
       "      <th>444</th>\n",
       "      <td>444.png</td>\n",
       "      <td>0</td>\n",
       "      <td>2</td>\n",
       "    </tr>\n",
       "    <tr>\n",
       "      <th>746</th>\n",
       "      <td>746.png</td>\n",
       "      <td>1</td>\n",
       "      <td>2</td>\n",
       "    </tr>\n",
       "    <tr>\n",
       "      <th>405</th>\n",
       "      <td>405.png</td>\n",
       "      <td>0</td>\n",
       "      <td>1</td>\n",
       "    </tr>\n",
       "    <tr>\n",
       "      <th>253</th>\n",
       "      <td>253.png</td>\n",
       "      <td>2</td>\n",
       "      <td>0</td>\n",
       "    </tr>\n",
       "    <tr>\n",
       "      <th>645</th>\n",
       "      <td>645.png</td>\n",
       "      <td>3</td>\n",
       "      <td>4</td>\n",
       "    </tr>\n",
       "    <tr>\n",
       "      <th>...</th>\n",
       "      <td>...</td>\n",
       "      <td>...</td>\n",
       "      <td>...</td>\n",
       "    </tr>\n",
       "    <tr>\n",
       "      <th>276</th>\n",
       "      <td>276.png</td>\n",
       "      <td>3</td>\n",
       "      <td>0</td>\n",
       "    </tr>\n",
       "    <tr>\n",
       "      <th>279</th>\n",
       "      <td>279.png</td>\n",
       "      <td>3</td>\n",
       "      <td>3</td>\n",
       "    </tr>\n",
       "    <tr>\n",
       "      <th>398</th>\n",
       "      <td>398.png</td>\n",
       "      <td>4</td>\n",
       "      <td>0</td>\n",
       "    </tr>\n",
       "    <tr>\n",
       "      <th>278</th>\n",
       "      <td>278.png</td>\n",
       "      <td>4</td>\n",
       "      <td>1</td>\n",
       "    </tr>\n",
       "    <tr>\n",
       "      <th>506</th>\n",
       "      <td>506.png</td>\n",
       "      <td>4</td>\n",
       "      <td>3</td>\n",
       "    </tr>\n",
       "  </tbody>\n",
       "</table>\n",
       "<p>600 rows × 3 columns</p>\n",
       "</div>"
      ],
      "text/plain": [
       "    file_names  eye_color  face_shape\n",
       "444    444.png          0           2\n",
       "746    746.png          1           2\n",
       "405    405.png          0           1\n",
       "253    253.png          2           0\n",
       "645    645.png          3           4\n",
       "..         ...        ...         ...\n",
       "276    276.png          3           0\n",
       "279    279.png          3           3\n",
       "398    398.png          4           0\n",
       "278    278.png          4           1\n",
       "506    506.png          4           3\n",
       "\n",
       "[600 rows x 3 columns]"
      ]
     },
     "execution_count": 5,
     "metadata": {},
     "output_type": "execute_result"
    }
   ],
   "source": [
    "train"
   ]
  },
  {
   "cell_type": "code",
   "execution_count": 6,
   "metadata": {},
   "outputs": [],
   "source": [
    "face_cascade = cv2.CascadeClassifier('haarcascade_frontalface_default.xml')\n",
    "eye_cascade = cv2.CascadeClassifier('haarcascade_eye.xml')"
   ]
  },
  {
   "cell_type": "code",
   "execution_count": 7,
   "metadata": {},
   "outputs": [
    {
     "name": "stdout",
     "output_type": "stream",
     "text": [
      "y= 149 x= 128 w= 248 h= 248 ry= 83 rx= 48 rw= 56 rh= 56\n"
     ]
    }
   ],
   "source": [
    "img_path = os.path.join(file_path, df[\"file_names\"].iloc[3])\n",
    "img = cv2.imread(img_path)\n",
    "gray = cv2.cvtColor(img,cv2.COLOR_BGR2GRAY)\n",
    "faces = face_cascade.detectMultiScale(gray)\n",
    "for (x,y,w,h) in faces:\n",
    "    cv2.rectangle(img,(x,y),(x+w,y+h),(255,0,0),2)\n",
    "    roi_gray = gray[y:y+h, x:x+w]\n",
    "    roi_color = img[y:y+h, x:x+w]\n",
    "    eyes = eye_cascade.detectMultiScale(roi_gray)\n",
    "    for (ex,ey,ew,eh) in eyes:\n",
    "        roi_color_eye = roi_color[ey:ey+eh, ex:ex+ew]\n",
    "        rx, ry, rw, rh = ex, ey, ew, eh\n",
    "        print(\"y=\", y, \"x=\", x, \"w=\", w, \"h=\", h, \"ry=\", ry, \"rx=\", rx, \"rw=\", rw, \"rh=\", rh)\n",
    "        break\n",
    "        cv2.rectangle(roi_color,(ex,ey),(ex+ew,ey+eh),(0,255,0),2)\n",
    "        roi = roi_color[ey:ey+eh, ex: ex+ew]"
   ]
  },
  {
   "cell_type": "code",
   "execution_count": 12,
   "metadata": {},
   "outputs": [],
   "source": [
    "starty = y + ry\n",
    "endy = starty + rh\n",
    "startx = x + rx\n",
    "endx = startx + rw"
   ]
  },
  {
   "cell_type": "code",
   "execution_count": 103,
   "metadata": {},
   "outputs": [],
   "source": [
    "def create_hsi_matrix(file_path, df, face, eye, starty, endy, startx, endx):\n",
    "    eyes = []\n",
    "    labels = []\n",
    "    for file_name in df[\"file_names\"]:\n",
    "        img_path = os.path.join(file_path, file_name)\n",
    "        img = cv2.imread(img_path)\n",
    "        crop = img[starty:endy, startx:endx]\n",
    "        hsi_crop = cv2.cvtColor(crop, cv2.COLOR_BGR2HSV)\n",
    "        avg_hue = hsi_crop[:,:,0].mean()\n",
    "        avg_sat = hsi_crop[:,:,1].mean()\n",
    "        avg_val = hsi_crop[:,:,2].mean()\n",
    "        eyes.append([avg_hue, avg_sat, avg_val])\n",
    "        temp = file_name.split(\".\")[0]\n",
    "        labels.append(df[\"eye_color\"].loc[int(temp)])\n",
    "    eyes = np.array(eyes).astype(int)\n",
    "    return eyes, labels"
   ]
  },
  {
   "cell_type": "code",
   "execution_count": 104,
   "metadata": {},
   "outputs": [],
   "source": [
    "def create_rgb_matrix(file_path, df, face, eye, starty, endy, startx, endx):\n",
    "    eyes = []\n",
    "    labels = []\n",
    "    for file_name in df[\"file_names\"]:\n",
    "        img_path = os.path.join(file_path, file_name)\n",
    "        img = cv2.imread(img_path)\n",
    "        crop = img[starty:endy, startx:endx]\n",
    "        avg_red = crop[:,:,0].mean()\n",
    "        avg_green = crop[:,:,1].mean()\n",
    "        avg_blue = crop[:,:,2].mean()\n",
    "        eyes.append([avg_red, avg_green, avg_blue])\n",
    "        temp = file_name.split(\".\")[0]\n",
    "        labels.append(df[\"eye_color\"].loc[int(temp)])\n",
    "    eyes = np.array(eyes).astype(int)\n",
    "    return eyes, labels"
   ]
  },
  {
   "cell_type": "code",
   "execution_count": 17,
   "metadata": {},
   "outputs": [
    {
     "name": "stdout",
     "output_type": "stream",
     "text": [
      "9.982142857142858\n",
      "9.982142857142858\n"
     ]
    }
   ],
   "source": [
    "img_path = os.path.join(file_path, \"444.png\")\n",
    "img = cv2.imread(img_path)\n",
    "crop = img[starty:endy, startx:endx]\n",
    "hsi_crop = cv2.cvtColor(crop, cv2.COLOR_BGR2HSV)\n",
    "out = []\n",
    "for block in hsi_crop:\n",
    "    for pixel in block:\n",
    "        out.append(pixel[0])\n",
    "print(np.mean(out))\n",
    "print(hsi_crop[:,:,0].mean())"
   ]
  },
  {
   "cell_type": "code",
   "execution_count": 18,
   "metadata": {},
   "outputs": [],
   "source": [
    "cv2.imshow(\"bruh\",crop)\n",
    "cv2.waitKey(0)\n",
    "cv2.destroyAllWindows()"
   ]
  },
  {
   "cell_type": "code",
   "execution_count": 95,
   "metadata": {},
   "outputs": [],
   "source": [
    "train_eyes, train_labels = create_hsi_matrix(file_path, train, face_cascade, eye_cascade, starty, endy, startx, endx)"
   ]
  },
  {
   "cell_type": "code",
   "execution_count": 96,
   "metadata": {},
   "outputs": [],
   "source": [
    "valid_eyes, valid_labels = create_hsi_matrix(file_path, validation, face_cascade, eye_cascade, starty, endy, startx, endx)"
   ]
  },
  {
   "cell_type": "code",
   "execution_count": 97,
   "metadata": {},
   "outputs": [],
   "source": [
    "test_eyes, test_labels = create_hsi_matrix(file_path, test, face_cascade, eye_cascade, starty, endy, startx, endx)"
   ]
  },
  {
   "cell_type": "code",
   "execution_count": 111,
   "metadata": {},
   "outputs": [
    {
     "data": {
      "image/png": "[encoded data removed]",
      "text/plain": [
       "<Figure size 432x288 with 1 Axes>"
      ]
     },
     "metadata": {
      "needs_background": "light"
     },
     "output_type": "display_data"
    }
   ],
   "source": [
    "C = np.arange(1, 200)\n",
    "scores1 = []\n",
    "for i in C:\n",
    "    classifier = svm.SVC(kernel=\"rbf\", C=i)\n",
    "    classifier.fit(train_eyes, train_labels)\n",
    "    Y_pred = classifier.predict(valid_eyes)\n",
    "    accuracy = metrics.accuracy_score(valid_labels, y_pred=Y_pred)\n",
    "    scores1.append(accuracy)\n",
    "plt.plot(C, scores1)\n",
    "plt.xlabel('Values of C')\n",
    "plt.ylabel('Accuracy Scores')\n",
    "plt.show()"
   ]
  },
  {
   "cell_type": "code",
   "execution_count": 112,
   "metadata": {},
   "outputs": [
    {
     "name": "stdout",
     "output_type": "stream",
     "text": [
      "0.725\n"
     ]
    }
   ],
   "source": [
    "print(np.max(scores1))"
   ]
  },
  {
   "cell_type": "code",
   "execution_count": 113,
   "metadata": {},
   "outputs": [],
   "source": [
    "train_rgb, train_labels = create_rgb_matrix(file_path, train, face_cascade, eye_cascade, starty, endy, startx, endx)"
   ]
  },
  {
   "cell_type": "code",
   "execution_count": 114,
   "metadata": {},
   "outputs": [],
   "source": [
    "valid_rgb, valid_labels = create_rgb_matrix(file_path, validation, face_cascade, eye_cascade, starty, endy, startx, endx)"
   ]
  },
  {
   "cell_type": "code",
   "execution_count": 115,
   "metadata": {},
   "outputs": [],
   "source": [
    "test_rgb, test_labels = create_rgb_matrix(file_path, test, face_cascade, eye_cascade, starty, endy, startx, endx)"
   ]
  },
  {
   "cell_type": "code",
   "execution_count": 116,
   "metadata": {},
   "outputs": [
    {
     "data": {
      "image/png": "[encoded data removed]",
      "text/plain": [
       "<Figure size 432x288 with 1 Axes>"
      ]
     },
     "metadata": {
      "needs_background": "light"
     },
     "output_type": "display_data"
    }
   ],
   "source": [
    "scores2 = []\n",
    "for i in C:\n",
    "    classifier = svm.SVC(kernel=\"rbf\", C=i)\n",
    "    classifier.fit(train_rgb, train_labels)\n",
    "    Y_pred = classifier.predict(valid_rgb)\n",
    "    accuracy = metrics.accuracy_score(valid_labels, y_pred=Y_pred)\n",
    "    scores2.append(accuracy)\n",
    "plt.plot(C, scores2)\n",
    "plt.xlabel('Values of C')\n",
    "plt.ylabel('Accuracy Scores')\n",
    "plt.show()"
   ]
  },
  {
   "cell_type": "code",
   "execution_count": 117,
   "metadata": {},
   "outputs": [
    {
     "name": "stdout",
     "output_type": "stream",
     "text": [
      "0.47\n"
     ]
    }
   ],
   "source": [
    "print(np.max(scores2))"
   ]
  },
  {
   "cell_type": "code",
   "execution_count": null,
   "metadata": {},
   "outputs": [],
   "source": []
  }
 ],
 "metadata": {
  "kernelspec": {
   "display_name": "Python 3",
   "language": "python",
   "name": "python3"
  },
  "language_info": {
   "codemirror_mode": {
    "name": "ipython",
    "version": 3
   },
   "file_extension": ".py",
   "mimetype": "text/x-python",
   "name": "python",
   "nbconvert_exporter": "python",
   "pygments_lexer": "ipython3",
   "version": "3.6.12"
  }
 },
 "nbformat": 4,
 "nbformat_minor": 4
}
