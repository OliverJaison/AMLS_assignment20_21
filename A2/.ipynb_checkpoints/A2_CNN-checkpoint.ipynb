{
 "cells": [
  {
   "cell_type": "markdown",
   "metadata": {},
   "source": [
    "Here I import the necessary packages"
   ]
  },
  {
   "cell_type": "code",
   "execution_count": 1,
   "metadata": {},
   "outputs": [
    {
     "name": "stderr",
     "output_type": "stream",
     "text": [
      "Using TensorFlow backend.\n"
     ]
    }
   ],
   "source": [
    "import numpy as np\n",
    "import keras\n",
    "import cv2\n",
    "import pandas as pd\n",
    "from keras import backend as K\n",
    "from keras.models import Sequential\n",
    "from keras.layers import Activation\n",
    "from keras.layers import Dropout\n",
    "from keras.layers import InputLayer\n",
    "from keras.layers.core import Dense, Flatten\n",
    "from keras.optimizers import Adam\n",
    "from keras.metrics import categorical_crossentropy\n",
    "from keras.preprocessing import image\n",
    "from keras.preprocessing.image import ImageDataGenerator\n",
    "from keras.layers.normalization import BatchNormalization\n",
    "from keras.layers.convolutional import *\n",
    "from matplotlib import pyplot as plt\n",
    "from sklearn.metrics import confusion_matrix\n",
    "from sklearn.preprocessing import LabelBinarizer\n",
    "from sklearn.preprocessing import OneHotEncoder\n",
    "import itertools\n",
    "import matplotlib.pyplot as plt\n",
    "import os\n",
    "%matplotlib inline"
   ]
  },
  {
   "cell_type": "markdown",
   "metadata": {},
   "source": [
    "Here I initialise the file paths for the images and the labels"
   ]
  },
  {
   "cell_type": "code",
   "execution_count": 2,
   "metadata": {},
   "outputs": [],
   "source": [
    "file_path = 'D:\\Admin\\Documents\\Year_4\\AMLS\\Assessment\\dataset_AMLS_20-21\\celeba\\img'\n",
    "labels_path = 'D:\\Admin\\Documents\\Year_4\\AMLS\\Assessment\\dataset_AMLS_20-21\\celeba\\labels.csv'"
   ]
  },
  {
   "cell_type": "markdown",
   "metadata": {},
   "source": [
    "Here I import the images and labels into a training data frame using pandas"
   ]
  },
  {
   "cell_type": "code",
   "execution_count": 12,
   "metadata": {},
   "outputs": [],
   "source": [
    "dftr = pd.read_csv(labels_path)\n",
    "\n",
    "dftr[\"smiling\"] = dftr[\"smiling\"].replace(to_replace=[-1], value=['Frown'])\n",
    "dftr[\"smiling\"] = dftr[\"smiling\"].replace(to_replace=[1], value=['Smile'])\n",
    "dftr[\"gender\"] = dftr[\"gender\"].replace(to_replace=[-1], value=['Female'])\n",
    "dftr[\"gender\"] = dftr[\"gender\"].replace(to_replace=[1], value=['Male'])\n",
    "\n",
    "one_hot_s = pd.get_dummies(dftr[\"smiling\"])\n",
    "one_hot_g = pd.get_dummies(dftr[\"gender\"])\n",
    "dftr = dftr.drop(columns=[\"gender\", \"smiling\"])\n",
    "dftr = dftr.join(one_hot_g)\n",
    "dftr = dftr.join(one_hot_s)"
   ]
  },
  {
   "cell_type": "markdown",
   "metadata": {},
   "source": [
    "Here I do the same thing but for a testing data frame"
   ]
  },
  {
   "cell_type": "code",
   "execution_count": 29,
   "metadata": {},
   "outputs": [],
   "source": [
    "train, validation, test = \\\n",
    "              np.split(dftr.sample(frac=1), \n",
    "                       [int(.6*len(dftr)), int(.8*len(dftr))])"
   ]
  },
  {
   "cell_type": "code",
   "execution_count": 30,
   "metadata": {},
   "outputs": [
    {
     "name": "stdout",
     "output_type": "stream",
     "text": [
      "Found 3000 validated image filenames.\n",
      "Found 1000 validated image filenames.\n",
      "Found 1000 validated image filenames.\n"
     ]
    }
   ],
   "source": [
    "datagen = ImageDataGenerator(rescale=1./255)\n",
    "\n",
    "train_generator = datagen.flow_from_dataframe(dataframe=train, \n",
    "                                              directory=file_path, \n",
    "                                              x_col=\"img_name\", \n",
    "                                              y_col=[\"Frown\", \"Smile\"], \n",
    "                                              class_mode=\"raw\", \n",
    "                                              target_size=(55,45), \n",
    "                                              batch_size=30, \n",
    "                                              color_mode='grayscale', \n",
    "                                              interpolation='bicubic')\n",
    "\n",
    "validation_generator = datagen.flow_from_dataframe(dataframe=validation, \n",
    "                                              directory=file_path, \n",
    "                                              x_col=\"img_name\", \n",
    "                                              y_col=[\"Frown\", \"Smile\"], \n",
    "                                              class_mode=\"raw\", \n",
    "                                              target_size=(55,45), \n",
    "                                              batch_size=10, \n",
    "                                              color_mode='grayscale', \n",
    "                                              interpolation='bicubic')\n",
    "\n",
    "test_generator = datagen.flow_from_dataframe(dataframe=test, \n",
    "                                              directory=file_path, \n",
    "                                              x_col=\"img_name\", \n",
    "                                              y_col=[\"Frown\", \"Smile\"], \n",
    "                                              class_mode=\"raw\", \n",
    "                                              target_size=(55,45), \n",
    "                                              batch_size=10, \n",
    "                                              color_mode='grayscale', \n",
    "                                              interpolation='bicubic')"
   ]
  },
  {
   "cell_type": "markdown",
   "metadata": {},
   "source": [
    "The above code generates batches of data to feed into the neural network architecture below"
   ]
  },
  {
   "cell_type": "code",
   "execution_count": 31,
   "metadata": {},
   "outputs": [],
   "source": [
    "model = Sequential()\n",
    "model.add(InputLayer(input_shape=(55,45,1)))\n",
    "model.add(Conv2D(filters=100, kernel_size=(3,3), strides=2, activation=\"relu\"))\n",
    "model.add(BatchNormalization())\n",
    "model.add(MaxPooling2D(pool_size=(2,2), strides=2))\n",
    "model.add(Conv2D(filters=200, kernel_size=(2,2), strides=2, activation=\"relu\"))\n",
    "model.add(BatchNormalization())\n",
    "model.add(MaxPooling2D(pool_size=(2,2), strides=2))\n",
    "model.add(Conv2D(filters=400,kernel_size=(2,2),activation=\"relu\"))\n",
    "model.add(Flatten())\n",
    "model.add(Dense(1024))\n",
    "model.add(Dropout(0.2))\n",
    "model.add(Dense(512))\n",
    "model.add(Dropout(0.2))\n",
    "model.add(Dense(2, activation=\"softmax\"))"
   ]
  },
  {
   "cell_type": "markdown",
   "metadata": {},
   "source": [
    "The following code just compiles the neural network model"
   ]
  },
  {
   "cell_type": "code",
   "execution_count": 32,
   "metadata": {},
   "outputs": [],
   "source": [
    "model.compile(Adam(lr=0.0001), loss='binary_crossentropy', metrics=['accuracy'])"
   ]
  },
  {
   "cell_type": "code",
   "execution_count": 33,
   "metadata": {},
   "outputs": [],
   "source": [
    "train_steps = train_generator.n//train_generator.batch_size\n",
    "validation_steps = validation_generator.n//validation_generator.batch_size"
   ]
  },
  {
   "cell_type": "markdown",
   "metadata": {},
   "source": [
    "The following code just trains the model"
   ]
  },
  {
   "cell_type": "code",
   "execution_count": 34,
   "metadata": {},
   "outputs": [
    {
     "name": "stdout",
     "output_type": "stream",
     "text": [
      "Epoch 1/50\n",
      "100/100 [==============================] - 10s 98ms/step - loss: 0.7966 - accuracy: 0.6173 - val_loss: 0.7048 - val_accuracy: 0.5510\n",
      "Epoch 2/50\n",
      "100/100 [==============================] - 9s 92ms/step - loss: 0.5235 - accuracy: 0.7530 - val_loss: 0.7700 - val_accuracy: 0.5130\n",
      "Epoch 3/50\n",
      "100/100 [==============================] - 9s 90ms/step - loss: 0.4057 - accuracy: 0.8147 - val_loss: 0.6438 - val_accuracy: 0.6680\n",
      "Epoch 4/50\n",
      "100/100 [==============================] - 9s 90ms/step - loss: 0.3137 - accuracy: 0.8623 - val_loss: 0.7366 - val_accuracy: 0.6680\n",
      "Epoch 5/50\n",
      "100/100 [==============================] - 9s 89ms/step - loss: 0.2201 - accuracy: 0.9110 - val_loss: 0.5807 - val_accuracy: 0.7470\n",
      "Epoch 6/50\n",
      "100/100 [==============================] - 9s 89ms/step - loss: 0.1906 - accuracy: 0.9247 - val_loss: 0.8413 - val_accuracy: 0.7670\n",
      "Epoch 7/50\n",
      "100/100 [==============================] - 9s 89ms/step - loss: 0.1167 - accuracy: 0.9553 - val_loss: 1.6183 - val_accuracy: 0.7650\n",
      "Epoch 8/50\n",
      "100/100 [==============================] - 9s 89ms/step - loss: 0.0803 - accuracy: 0.9727 - val_loss: 0.1287 - val_accuracy: 0.7750\n",
      "Epoch 9/50\n",
      "100/100 [==============================] - 9s 92ms/step - loss: 0.0466 - accuracy: 0.9877 - val_loss: 1.0398 - val_accuracy: 0.7880\n",
      "Epoch 10/50\n",
      "100/100 [==============================] - 10s 100ms/step - loss: 0.0446 - accuracy: 0.9873 - val_loss: 0.2260 - val_accuracy: 0.7990\n",
      "Epoch 11/50\n",
      "100/100 [==============================] - 11s 107ms/step - loss: 0.0352 - accuracy: 0.9887 - val_loss: 1.1466 - val_accuracy: 0.7820\n",
      "Epoch 12/50\n",
      "100/100 [==============================] - 10s 105ms/step - loss: 0.0378 - accuracy: 0.9853 - val_loss: 0.2892 - val_accuracy: 0.7850\n",
      "Epoch 13/50\n",
      "100/100 [==============================] - 9s 89ms/step - loss: 0.0447 - accuracy: 0.9813 - val_loss: 0.8442 - val_accuracy: 0.7820\n",
      "Epoch 14/50\n",
      "100/100 [==============================] - 9s 88ms/step - loss: 0.0289 - accuracy: 0.9900 - val_loss: 0.9806 - val_accuracy: 0.7590\n",
      "Epoch 15/50\n",
      "100/100 [==============================] - 9s 89ms/step - loss: 0.0146 - accuracy: 0.9953 - val_loss: 0.2285 - val_accuracy: 0.7790\n",
      "Epoch 16/50\n",
      "100/100 [==============================] - 9s 88ms/step - loss: 0.0143 - accuracy: 0.9950 - val_loss: 0.4197 - val_accuracy: 0.7560\n",
      "Epoch 17/50\n",
      "100/100 [==============================] - 9s 87ms/step - loss: 0.0574 - accuracy: 0.9820 - val_loss: 0.3320 - val_accuracy: 0.7930\n",
      "Epoch 18/50\n",
      "100/100 [==============================] - 9s 87ms/step - loss: 0.0375 - accuracy: 0.9880 - val_loss: 1.5994 - val_accuracy: 0.7680\n",
      "Epoch 19/50\n",
      "100/100 [==============================] - 9s 89ms/step - loss: 0.0323 - accuracy: 0.9887 - val_loss: 2.3243 - val_accuracy: 0.7820\n",
      "Epoch 20/50\n",
      "100/100 [==============================] - 9s 88ms/step - loss: 0.0224 - accuracy: 0.9907 - val_loss: 0.7329 - val_accuracy: 0.7740\n",
      "Epoch 21/50\n",
      "100/100 [==============================] - 9s 87ms/step - loss: 0.0132 - accuracy: 0.9957 - val_loss: 0.7063 - val_accuracy: 0.8110\n",
      "Epoch 22/50\n",
      "100/100 [==============================] - 9s 90ms/step - loss: 0.0263 - accuracy: 0.9903 - val_loss: 0.5241 - val_accuracy: 0.8040\n",
      "Epoch 23/50\n",
      "100/100 [==============================] - 9s 92ms/step - loss: 0.0561 - accuracy: 0.9800 - val_loss: 1.2057 - val_accuracy: 0.7870\n",
      "Epoch 24/50\n",
      "100/100 [==============================] - 9s 94ms/step - loss: 0.0432 - accuracy: 0.9843 - val_loss: 0.5109 - val_accuracy: 0.7600\n",
      "Epoch 25/50\n",
      "100/100 [==============================] - 9s 88ms/step - loss: 0.0300 - accuracy: 0.9893 - val_loss: 3.4196 - val_accuracy: 0.7630\n",
      "Epoch 26/50\n",
      "100/100 [==============================] - 9s 89ms/step - loss: 0.0091 - accuracy: 0.9963 - val_loss: 1.0158 - val_accuracy: 0.7820\n",
      "Epoch 27/50\n",
      "100/100 [==============================] - 10s 104ms/step - loss: 0.0036 - accuracy: 0.9990 - val_loss: 0.9088 - val_accuracy: 0.7890\n",
      "Epoch 28/50\n",
      "100/100 [==============================] - 10s 99ms/step - loss: 0.0012 - accuracy: 1.0000 - val_loss: 0.8540 - val_accuracy: 0.7830\n",
      "Epoch 29/50\n",
      "100/100 [==============================] - 10s 100ms/step - loss: 4.1741e-04 - accuracy: 1.0000 - val_loss: 0.0234 - val_accuracy: 0.7910\n",
      "Epoch 30/50\n",
      "100/100 [==============================] - 10s 99ms/step - loss: 2.7366e-04 - accuracy: 1.0000 - val_loss: 0.0320 - val_accuracy: 0.7860\n",
      "Epoch 31/50\n",
      "100/100 [==============================] - 10s 98ms/step - loss: 2.9499e-04 - accuracy: 1.0000 - val_loss: 1.7670 - val_accuracy: 0.7980\n",
      "Epoch 32/50\n",
      "100/100 [==============================] - 10s 101ms/step - loss: 2.3008e-04 - accuracy: 1.0000 - val_loss: 0.3099 - val_accuracy: 0.7950\n",
      "Epoch 33/50\n",
      "100/100 [==============================] - 9s 90ms/step - loss: 1.3370e-04 - accuracy: 1.0000 - val_loss: 2.4682 - val_accuracy: 0.7960\n",
      "Epoch 34/50\n",
      "100/100 [==============================] - 9s 87ms/step - loss: 1.5752e-04 - accuracy: 1.0000 - val_loss: 0.9709 - val_accuracy: 0.7960\n",
      "Epoch 35/50\n",
      "100/100 [==============================] - 9s 88ms/step - loss: 1.8703e-04 - accuracy: 1.0000 - val_loss: 1.2670 - val_accuracy: 0.7930\n",
      "Epoch 36/50\n",
      "100/100 [==============================] - 9s 88ms/step - loss: 1.6441e-04 - accuracy: 1.0000 - val_loss: 0.8872 - val_accuracy: 0.7960\n",
      "Epoch 37/50\n",
      "100/100 [==============================] - 9s 89ms/step - loss: 1.1432e-04 - accuracy: 1.0000 - val_loss: 0.0819 - val_accuracy: 0.7960\n",
      "Epoch 38/50\n",
      "100/100 [==============================] - 9s 88ms/step - loss: 9.3729e-05 - accuracy: 1.0000 - val_loss: 1.7484 - val_accuracy: 0.7970\n",
      "Epoch 39/50\n",
      "100/100 [==============================] - 9s 89ms/step - loss: 1.0379e-04 - accuracy: 1.0000 - val_loss: 3.1291 - val_accuracy: 0.7960\n",
      "Epoch 40/50\n",
      "100/100 [==============================] - 9s 87ms/step - loss: 7.9174e-05 - accuracy: 1.0000 - val_loss: 0.6349 - val_accuracy: 0.7970\n",
      "Epoch 41/50\n",
      "100/100 [==============================] - 9s 88ms/step - loss: 7.0629e-05 - accuracy: 1.0000 - val_loss: 0.9610 - val_accuracy: 0.7990\n",
      "Epoch 42/50\n",
      "100/100 [==============================] - 9s 89ms/step - loss: 8.2890e-05 - accuracy: 1.0000 - val_loss: 1.3547 - val_accuracy: 0.7940\n",
      "Epoch 43/50\n",
      "100/100 [==============================] - 9s 87ms/step - loss: 7.5121e-05 - accuracy: 1.0000 - val_loss: 1.0436 - val_accuracy: 0.7980\n",
      "Epoch 44/50\n",
      "100/100 [==============================] - 9s 87ms/step - loss: 8.9939e-05 - accuracy: 1.0000 - val_loss: 0.9482 - val_accuracy: 0.8020\n",
      "Epoch 45/50\n",
      "100/100 [==============================] - 11s 106ms/step - loss: 5.9063e-05 - accuracy: 1.0000 - val_loss: 0.2780 - val_accuracy: 0.8000\n",
      "Epoch 46/50\n",
      "100/100 [==============================] - 11s 108ms/step - loss: 4.7167e-05 - accuracy: 1.0000 - val_loss: 0.7122 - val_accuracy: 0.7970\n",
      "Epoch 47/50\n",
      "100/100 [==============================] - 10s 99ms/step - loss: 5.5251e-05 - accuracy: 1.0000 - val_loss: 0.3987 - val_accuracy: 0.7950\n",
      "Epoch 48/50\n",
      "100/100 [==============================] - 10s 97ms/step - loss: 5.8075e-05 - accuracy: 1.0000 - val_loss: 2.1538 - val_accuracy: 0.7930\n",
      "Epoch 49/50\n",
      "100/100 [==============================] - 10s 97ms/step - loss: 3.9872e-05 - accuracy: 1.0000 - val_loss: 3.6402 - val_accuracy: 0.7950\n",
      "Epoch 50/50\n",
      "100/100 [==============================] - 10s 96ms/step - loss: 4.3156e-05 - accuracy: 1.0000 - val_loss: 2.3536 - val_accuracy: 0.7980\n"
     ]
    }
   ],
   "source": [
    "history = model.fit_generator(generator=train_generator, \n",
    "                    steps_per_epoch=train_steps,\n",
    "                    validation_data=validation_generator,\n",
    "                    validation_steps=validation_steps,\n",
    "                    epochs=20)"
   ]
  },
  {
   "cell_type": "code",
   "execution_count": 35,
   "metadata": {},
   "outputs": [
    {
     "name": "stdout",
     "output_type": "stream",
     "text": [
      "100/100 [==============================] - 2s 15ms/step\n"
     ]
    },
    {
     "data": {
      "text/plain": [
       "[0.8900720477104187, 0.7910000085830688]"
      ]
     },
     "execution_count": 35,
     "metadata": {},
     "output_type": "execute_result"
    }
   ],
   "source": [
    "model.evaluate(test_generator)"
   ]
  },
  {
   "cell_type": "code",
   "execution_count": 36,
   "metadata": {},
   "outputs": [
    {
     "data": {
      "image/png": "[encoded data removed]",
      "text/plain": [
       "<Figure size 432x288 with 1 Axes>"
      ]
     },
     "metadata": {
      "needs_background": "light"
     },
     "output_type": "display_data"
    }
   ],
   "source": [
    "epochs = range(1, len(history.epoch) + 1)\n",
    "plt.plot(epochs, history.history['loss'], label='Training Loss')\n",
    "plt.plot(epochs, history.history['accuracy'], label='Training Accuracy')\n",
    "plt.plot(epochs, history.history['val_loss'], label='Validation Loss')\n",
    "plt.plot(epochs, history.history['val_accuracy'], label='Validation Accuracy')\n",
    "plt.xlabel('Epochs')\n",
    "plt.ylabel('Loss/Accuracy')\n",
    "plt.legend()\n",
    "plt.show()"
   ]
  },
  {
   "cell_type": "code",
   "execution_count": null,
   "metadata": {},
   "outputs": [],
   "source": []
  }
 ],
 "metadata": {
  "kernelspec": {
   "display_name": "Python 3",
   "language": "python",
   "name": "python3"
  },
  "language_info": {
   "codemirror_mode": {
    "name": "ipython",
    "version": 3
   },
   "file_extension": ".py",
   "mimetype": "text/x-python",
   "name": "python",
   "nbconvert_exporter": "python",
   "pygments_lexer": "ipython3",
   "version": "3.6.12"
  }
 },
 "nbformat": 4,
 "nbformat_minor": 4
}
