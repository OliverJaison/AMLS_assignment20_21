{
 "cells": [
  {
   "cell_type": "markdown",
   "metadata": {},
   "source": [
    "Here I import the necessary packages"
   ]
  },
  {
   "cell_type": "code",
   "execution_count": 1,
   "metadata": {},
   "outputs": [
    {
     "name": "stderr",
     "output_type": "stream",
     "text": [
      "Using TensorFlow backend.\n"
     ]
    }
   ],
   "source": [
    "import numpy as np\n",
    "import keras\n",
    "import cv2\n",
    "import pandas as pd\n",
    "from keras import backend as K\n",
    "from keras.models import Sequential\n",
    "from keras.layers import Activation\n",
    "from keras.layers import Dropout\n",
    "from keras.layers import InputLayer\n",
    "from keras.layers.core import Dense, Flatten\n",
    "from keras.optimizers import Adam\n",
    "from keras.metrics import categorical_crossentropy\n",
    "from keras.preprocessing import image\n",
    "from keras.preprocessing.image import ImageDataGenerator\n",
    "from keras.layers.normalization import BatchNormalization\n",
    "from keras.layers.convolutional import *\n",
    "from matplotlib import pyplot as plt\n",
    "from sklearn.metrics import confusion_matrix\n",
    "from sklearn.preprocessing import LabelBinarizer\n",
    "from sklearn.preprocessing import OneHotEncoder\n",
    "import itertools\n",
    "import matplotlib.pyplot as plt\n",
    "import os\n",
    "%matplotlib inline"
   ]
  },
  {
   "cell_type": "markdown",
   "metadata": {},
   "source": [
    "Here I initialise the file paths for the images and the labels"
   ]
  },
  {
   "cell_type": "code",
   "execution_count": 2,
   "metadata": {},
   "outputs": [],
   "source": [
    "file_path = 'D:\\Admin\\Documents\\Year_4\\AMLS\\Assessment\\dataset_AMLS_20-21\\celeba\\img'\n",
    "labels_path = 'D:\\Admin\\Documents\\Year_4\\AMLS\\Assessment\\dataset_AMLS_20-21\\celeba\\labels.csv'"
   ]
  },
  {
   "cell_type": "markdown",
   "metadata": {},
   "source": [
    "Here I import the images and labels into a training data frame using pandas"
   ]
  },
  {
   "cell_type": "code",
   "execution_count": 3,
   "metadata": {},
   "outputs": [],
   "source": [
    "dftr = pd.read_csv(labels_path)\n",
    "\n",
    "dftr[\"smiling\"] = dftr[\"smiling\"].replace(to_replace=[-1], value=['Frown'])\n",
    "dftr[\"smiling\"] = dftr[\"smiling\"].replace(to_replace=[1], value=['Smile'])\n",
    "dftr[\"gender\"] = dftr[\"gender\"].replace(to_replace=[-1], value=['Female'])\n",
    "dftr[\"gender\"] = dftr[\"gender\"].replace(to_replace=[1], value=['Male'])\n",
    "\n",
    "one_hot_s = pd.get_dummies(dftr[\"smiling\"])\n",
    "one_hot_g = pd.get_dummies(dftr[\"gender\"])\n",
    "dftr = dftr.drop(columns=[\"gender\", \"smiling\"])\n",
    "dftr = dftr.join(one_hot_g)\n",
    "dftr = dftr.join(one_hot_s)"
   ]
  },
  {
   "cell_type": "markdown",
   "metadata": {},
   "source": [
    "Here I do the same thing but for a testing data frame"
   ]
  },
  {
   "cell_type": "code",
   "execution_count": 4,
   "metadata": {},
   "outputs": [],
   "source": [
    "train, validation, test = \\\n",
    "              np.split(dftr.sample(frac=1), \n",
    "                       [int(.6*len(dftr)), int(.8*len(dftr))])"
   ]
  },
  {
   "cell_type": "code",
   "execution_count": 5,
   "metadata": {},
   "outputs": [
    {
     "name": "stdout",
     "output_type": "stream",
     "text": [
      "Found 3000 validated image filenames.\n",
      "Found 1000 validated image filenames.\n",
      "Found 1000 validated image filenames.\n"
     ]
    }
   ],
   "source": [
    "datagen = ImageDataGenerator(rescale=1./255)\n",
    "\n",
    "train_generator = datagen.flow_from_dataframe(dataframe=train, \n",
    "                                              directory=file_path, \n",
    "                                              x_col=\"img_name\", \n",
    "                                              y_col=[\"Frown\", \"Smile\"], \n",
    "                                              class_mode=\"raw\", \n",
    "                                              target_size=(55,45), \n",
    "                                              batch_size=30, \n",
    "                                              color_mode='grayscale', \n",
    "                                              interpolation='bicubic')\n",
    "\n",
    "validation_generator = datagen.flow_from_dataframe(dataframe=validation, \n",
    "                                              directory=file_path, \n",
    "                                              x_col=\"img_name\", \n",
    "                                              y_col=[\"Frown\", \"Smile\"], \n",
    "                                              class_mode=\"raw\", \n",
    "                                              target_size=(55,45), \n",
    "                                              batch_size=10, \n",
    "                                              color_mode='grayscale', \n",
    "                                              interpolation='bicubic')\n",
    "\n",
    "test_generator = datagen.flow_from_dataframe(dataframe=test, \n",
    "                                              directory=file_path, \n",
    "                                              x_col=\"img_name\", \n",
    "                                              y_col=[\"Frown\", \"Smile\"], \n",
    "                                              class_mode=\"raw\", \n",
    "                                              target_size=(55,45), \n",
    "                                              batch_size=10, \n",
    "                                              color_mode='grayscale', \n",
    "                                              interpolation='bicubic')"
   ]
  },
  {
   "cell_type": "markdown",
   "metadata": {},
   "source": [
    "The above code generates batches of data to feed into the neural network architecture below"
   ]
  },
  {
   "cell_type": "code",
   "execution_count": 6,
   "metadata": {},
   "outputs": [],
   "source": [
    "model = Sequential()\n",
    "model.add(InputLayer(input_shape=(55,45,1)))\n",
    "model.add(Conv2D(filters=100, kernel_size=(3,3), strides=2, activation=\"relu\"))\n",
    "model.add(BatchNormalization())\n",
    "model.add(MaxPooling2D(pool_size=(2,2), strides=2))\n",
    "model.add(Conv2D(filters=200, kernel_size=(2,2), strides=2, activation=\"relu\"))\n",
    "model.add(BatchNormalization())\n",
    "model.add(MaxPooling2D(pool_size=(2,2), strides=2))\n",
    "model.add(Conv2D(filters=400,kernel_size=(2,2),activation=\"relu\"))\n",
    "model.add(Flatten())\n",
    "model.add(Dense(1024))\n",
    "model.add(Dropout(0.2))\n",
    "model.add(Dense(512))\n",
    "model.add(Dropout(0.2))\n",
    "model.add(Dense(2, activation=\"softmax\"))"
   ]
  },
  {
   "cell_type": "markdown",
   "metadata": {},
   "source": [
    "The following code just compiles the neural network model"
   ]
  },
  {
   "cell_type": "code",
   "execution_count": 7,
   "metadata": {},
   "outputs": [],
   "source": [
    "model.compile(Adam(lr=0.0001), loss='binary_crossentropy', metrics=['accuracy'])"
   ]
  },
  {
   "cell_type": "code",
   "execution_count": 8,
   "metadata": {},
   "outputs": [],
   "source": [
    "train_steps = train_generator.n//train_generator.batch_size\n",
    "validation_steps = validation_generator.n//validation_generator.batch_size"
   ]
  },
  {
   "cell_type": "markdown",
   "metadata": {},
   "source": [
    "The following code just trains the model"
   ]
  },
  {
   "cell_type": "code",
   "execution_count": 9,
   "metadata": {},
   "outputs": [
    {
     "name": "stdout",
     "output_type": "stream",
     "text": [
      "Epoch 1/20\n",
      "100/100 [==============================] - 10s 96ms/step - loss: 0.7550 - accuracy: 0.6460 - val_loss: 0.6782 - val_accuracy: 0.6080\n",
      "Epoch 2/20\n",
      "100/100 [==============================] - 9s 90ms/step - loss: 0.5081 - accuracy: 0.7657 - val_loss: 0.6864 - val_accuracy: 0.5280\n",
      "Epoch 3/20\n",
      "100/100 [==============================] - 9s 88ms/step - loss: 0.4051 - accuracy: 0.8153 - val_loss: 0.6695 - val_accuracy: 0.5430\n",
      "Epoch 4/20\n",
      "100/100 [==============================] - 9s 89ms/step - loss: 0.3140 - accuracy: 0.8570 - val_loss: 0.5568 - val_accuracy: 0.6020\n",
      "Epoch 5/20\n",
      "100/100 [==============================] - 9s 88ms/step - loss: 0.2456 - accuracy: 0.8910 - val_loss: 0.7233 - val_accuracy: 0.6970\n",
      "Epoch 6/20\n",
      "100/100 [==============================] - 9s 88ms/step - loss: 0.1764 - accuracy: 0.9297 - val_loss: 0.5097 - val_accuracy: 0.7860\n",
      "Epoch 7/20\n",
      "100/100 [==============================] - 9s 88ms/step - loss: 0.1221 - accuracy: 0.9510 - val_loss: 0.4147 - val_accuracy: 0.7860\n",
      "Epoch 8/20\n",
      "100/100 [==============================] - 9s 87ms/step - loss: 0.0806 - accuracy: 0.9730 - val_loss: 0.4802 - val_accuracy: 0.7970\n",
      "Epoch 9/20\n",
      "100/100 [==============================] - 9s 88ms/step - loss: 0.0519 - accuracy: 0.9843 - val_loss: 0.7815 - val_accuracy: 0.7960\n",
      "Epoch 10/20\n",
      "100/100 [==============================] - 9s 88ms/step - loss: 0.0315 - accuracy: 0.9900 - val_loss: 0.5718 - val_accuracy: 0.7930\n",
      "Epoch 11/20\n",
      "100/100 [==============================] - 9s 88ms/step - loss: 0.0440 - accuracy: 0.9840 - val_loss: 1.3070 - val_accuracy: 0.8070\n",
      "Epoch 12/20\n",
      "100/100 [==============================] - 9s 88ms/step - loss: 0.0191 - accuracy: 0.9970 - val_loss: 0.0370 - val_accuracy: 0.8040\n",
      "Epoch 13/20\n",
      "100/100 [==============================] - 9s 92ms/step - loss: 0.0211 - accuracy: 0.9933 - val_loss: 1.9993 - val_accuracy: 0.7990\n",
      "Epoch 14/20\n",
      "100/100 [==============================] - 10s 97ms/step - loss: 0.0147 - accuracy: 0.9947 - val_loss: 1.5840 - val_accuracy: 0.8090\n",
      "Epoch 15/20\n",
      "100/100 [==============================] - 9s 89ms/step - loss: 0.0061 - accuracy: 0.9993 - val_loss: 0.3506 - val_accuracy: 0.7970\n",
      "Epoch 16/20\n",
      "100/100 [==============================] - 9s 88ms/step - loss: 0.0025 - accuracy: 1.0000 - val_loss: 2.1303 - val_accuracy: 0.8120\n",
      "Epoch 17/20\n",
      "100/100 [==============================] - 9s 93ms/step - loss: 0.0014 - accuracy: 1.0000 - val_loss: 0.3890 - val_accuracy: 0.8050\n",
      "Epoch 18/20\n",
      "100/100 [==============================] - 9s 88ms/step - loss: 9.8942e-04 - accuracy: 1.0000 - val_loss: 0.9828 - val_accuracy: 0.8080\n",
      "Epoch 19/20\n",
      "100/100 [==============================] - 9s 87ms/step - loss: 0.0011 - accuracy: 1.0000 - val_loss: 0.1980 - val_accuracy: 0.8050\n",
      "Epoch 20/20\n",
      "100/100 [==============================] - 9s 89ms/step - loss: 5.0669e-04 - accuracy: 1.0000 - val_loss: 0.9677 - val_accuracy: 0.8110\n"
     ]
    }
   ],
   "source": [
    "history = model.fit_generator(generator=train_generator, \n",
    "                    steps_per_epoch=train_steps,\n",
    "                    validation_data=validation_generator,\n",
    "                    validation_steps=validation_steps,\n",
    "                    epochs=20)"
   ]
  },
  {
   "cell_type": "code",
   "execution_count": 10,
   "metadata": {},
   "outputs": [
    {
     "name": "stdout",
     "output_type": "stream",
     "text": [
      "100/100 [==============================] - 1s 15ms/step\n"
     ]
    },
    {
     "data": {
      "text/plain": [
       "[0.7320343255996704, 0.7900000214576721]"
      ]
     },
     "execution_count": 10,
     "metadata": {},
     "output_type": "execute_result"
    }
   ],
   "source": [
    "model.evaluate(test_generator)"
   ]
  },
  {
   "cell_type": "code",
   "execution_count": 11,
   "metadata": {},
   "outputs": [
    {
     "data": {
      "image/png": "[encoded data removed]",
      "text/plain": [
       "<Figure size 432x288 with 1 Axes>"
      ]
     },
     "metadata": {
      "needs_background": "light"
     },
     "output_type": "display_data"
    }
   ],
   "source": [
    "epochs = range(1, len(history.epoch) + 1)\n",
    "plt.plot(epochs, history.history['loss'], label='Training Loss')\n",
    "plt.plot(epochs, history.history['accuracy'], label='Training Accuracy')\n",
    "plt.plot(epochs, history.history['val_loss'], label='Validation Loss')\n",
    "plt.plot(epochs, history.history['val_accuracy'], label='Validation Accuracy')\n",
    "plt.xlabel('Epochs')\n",
    "plt.ylabel('Loss/Accuracy')\n",
    "plt.legend()\n",
    "plt.show()"
   ]
  },
  {
   "cell_type": "code",
   "execution_count": null,
   "metadata": {},
   "outputs": [],
   "source": []
  }
 ],
 "metadata": {
  "kernelspec": {
   "display_name": "Python 3",
   "language": "python",
   "name": "python3"
  },
  "language_info": {
   "codemirror_mode": {
    "name": "ipython",
    "version": 3
   },
   "file_extension": ".py",
   "mimetype": "text/x-python",
   "name": "python",
   "nbconvert_exporter": "python",
   "pygments_lexer": "ipython3",
   "version": "3.6.12"
  }
 },
 "nbformat": 4,
 "nbformat_minor": 4
}
